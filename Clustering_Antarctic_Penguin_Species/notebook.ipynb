{
 "cells": [
  {
   "cell_type": "markdown",
   "id": "589fe37e-e764-4d71-9c3c-93c8b7acee79",
   "metadata": {},
   "source": [
    "![Alt text](https://imgur.com/orZWHly.png=80)\n",
    "source: @allison_horst https://github.com/allisonhorst/penguins"
   ]
  },
  {
   "cell_type": "markdown",
   "id": "d3fb84f2-0eda-4b73-95c0-5364f83e25bf",
   "metadata": {},
   "source": [
    "You have been asked to support a team of researchers who have been collecting data about penguins in Antartica! The data is available in csv-Format as `penguins.csv`\n",
    "\n",
    "**Origin of this data** : Data were collected and made available by Dr. Kristen Gorman and the Palmer Station, Antarctica LTER, a member of the Long Term Ecological Research Network.\n",
    "\n",
    "**The dataset consists of 5 columns.**\n",
    "\n",
    "Column | Description\n",
    "--- | ---\n",
    "culmen_length_mm | culmen length (mm)\n",
    "culmen_depth_mm | culmen depth (mm)\n",
    "flipper_length_mm | flipper length (mm)\n",
    "body_mass_g | body mass (g)\n",
    "sex | penguin sex\n",
    "\n",
    "Unfortunately, they have not been able to record the species of penguin, but they know that there are **at least three** species that are native to the region: **Adelie**, **Chinstrap**, and **Gentoo**.  Your task is to apply your data science skills to help them identify groups in the dataset!"
   ]
  },
  {
   "cell_type": "markdown",
   "id": "2bc8360d",
   "metadata": {},
   "source": [
    "### Project Instructions\n",
    "\n",
    "* Import, investigate and pre-process the \"penguins.csv\" dataset.\n",
    "* Perform a cluster analysis based on a reasonable number of clusters and collect the average values for the clusters. The output should be a DataFrame named stat_penguins with one row per cluster that shows the mean of the original variables (or columns in \"penguins.csv\") by cluster. stat_penguins should not include any non-numeric columns."
   ]
  },
  {
   "cell_type": "code",
   "execution_count": 7,
   "id": "57295d13-5753-4f8d-aa96-cd6815f7cbd9",
   "metadata": {
    "executionCancelledAt": null,
    "executionTime": 28,
    "lastExecutedAt": 1729578452909,
    "lastExecutedByKernel": "f3fdeadf-a775-4275-b2d2-5bb597059fef",
    "lastScheduledRunId": null,
    "lastSuccessfullyExecutedCode": "# Import Required Packages\nimport pandas as pd\nimport matplotlib.pyplot as plt\nfrom sklearn.cluster import KMeans\nfrom sklearn.preprocessing import StandardScaler\n\n# Loading and examining the dataset\npenguins_df = pd.read_csv(\"penguins.csv\")\npenguins_df.head()",
    "outputsMetadata": {
     "0": {
      "height": 239,
      "tableState": {
       "quickFilterText": ""
      },
      "type": "dataFrame"
     }
    }
   },
   "outputs": [
    {
     "data": {
      "text/html": [
       "<div>\n",
       "<style scoped>\n",
       "    .dataframe tbody tr th:only-of-type {\n",
       "        vertical-align: middle;\n",
       "    }\n",
       "\n",
       "    .dataframe tbody tr th {\n",
       "        vertical-align: top;\n",
       "    }\n",
       "\n",
       "    .dataframe thead th {\n",
       "        text-align: right;\n",
       "    }\n",
       "</style>\n",
       "<table border=\"1\" class=\"dataframe\">\n",
       "  <thead>\n",
       "    <tr style=\"text-align: right;\">\n",
       "      <th></th>\n",
       "      <th>culmen_length_mm</th>\n",
       "      <th>culmen_depth_mm</th>\n",
       "      <th>flipper_length_mm</th>\n",
       "      <th>body_mass_g</th>\n",
       "      <th>sex</th>\n",
       "    </tr>\n",
       "  </thead>\n",
       "  <tbody>\n",
       "    <tr>\n",
       "      <th>0</th>\n",
       "      <td>39.1</td>\n",
       "      <td>18.7</td>\n",
       "      <td>181.0</td>\n",
       "      <td>3750.0</td>\n",
       "      <td>MALE</td>\n",
       "    </tr>\n",
       "    <tr>\n",
       "      <th>1</th>\n",
       "      <td>39.5</td>\n",
       "      <td>17.4</td>\n",
       "      <td>186.0</td>\n",
       "      <td>3800.0</td>\n",
       "      <td>FEMALE</td>\n",
       "    </tr>\n",
       "    <tr>\n",
       "      <th>2</th>\n",
       "      <td>40.3</td>\n",
       "      <td>18.0</td>\n",
       "      <td>195.0</td>\n",
       "      <td>3250.0</td>\n",
       "      <td>FEMALE</td>\n",
       "    </tr>\n",
       "    <tr>\n",
       "      <th>3</th>\n",
       "      <td>36.7</td>\n",
       "      <td>19.3</td>\n",
       "      <td>193.0</td>\n",
       "      <td>3450.0</td>\n",
       "      <td>FEMALE</td>\n",
       "    </tr>\n",
       "    <tr>\n",
       "      <th>4</th>\n",
       "      <td>39.3</td>\n",
       "      <td>20.6</td>\n",
       "      <td>190.0</td>\n",
       "      <td>3650.0</td>\n",
       "      <td>MALE</td>\n",
       "    </tr>\n",
       "  </tbody>\n",
       "</table>\n",
       "</div>"
      ],
      "text/plain": [
       "   culmen_length_mm  culmen_depth_mm  flipper_length_mm  body_mass_g     sex\n",
       "0              39.1             18.7              181.0       3750.0    MALE\n",
       "1              39.5             17.4              186.0       3800.0  FEMALE\n",
       "2              40.3             18.0              195.0       3250.0  FEMALE\n",
       "3              36.7             19.3              193.0       3450.0  FEMALE\n",
       "4              39.3             20.6              190.0       3650.0    MALE"
      ]
     },
     "execution_count": 7,
     "metadata": {},
     "output_type": "execute_result"
    }
   ],
   "source": [
    "# Import Required Packages\n",
    "import pandas as pd\n",
    "import matplotlib.pyplot as plt\n",
    "from sklearn.cluster import KMeans\n",
    "from sklearn.preprocessing import StandardScaler\n",
    "\n",
    "# Loading and examining the dataset\n",
    "penguins_df = pd.read_csv(\"penguins.csv\")\n",
    "penguins_df.head()"
   ]
  },
  {
   "cell_type": "code",
   "execution_count": 8,
   "id": "24627220-7ceb-4e00-b0e9-08c77b290a46",
   "metadata": {
    "executionCancelledAt": null,
    "executionTime": 55,
    "lastExecutedAt": 1729578452964,
    "lastExecutedByKernel": "f3fdeadf-a775-4275-b2d2-5bb597059fef",
    "lastScheduledRunId": null,
    "lastSuccessfullyExecutedCode": "print(penguins_df.info())\nprint(penguins_df.describe())",
    "outputsMetadata": {
     "0": {
      "height": 501,
      "type": "stream"
     }
    }
   },
   "outputs": [
    {
     "name": "stdout",
     "output_type": "stream",
     "text": [
      "<class 'pandas.core.frame.DataFrame'>\n",
      "RangeIndex: 332 entries, 0 to 331\n",
      "Data columns (total 5 columns):\n",
      " #   Column             Non-Null Count  Dtype  \n",
      "---  ------             --------------  -----  \n",
      " 0   culmen_length_mm   332 non-null    float64\n",
      " 1   culmen_depth_mm    332 non-null    float64\n",
      " 2   flipper_length_mm  332 non-null    float64\n",
      " 3   body_mass_g        332 non-null    float64\n",
      " 4   sex                332 non-null    object \n",
      "dtypes: float64(4), object(1)\n",
      "memory usage: 13.1+ KB\n",
      "None\n",
      "       culmen_length_mm  culmen_depth_mm  flipper_length_mm  body_mass_g\n",
      "count        332.000000       332.000000         332.000000   332.000000\n",
      "mean          44.021084        17.153012         200.975904  4206.475904\n",
      "std            5.452462         1.960275          14.035971   806.361278\n",
      "min           32.100000        13.100000         172.000000  2700.000000\n",
      "25%           39.500000        15.600000         190.000000  3550.000000\n",
      "50%           44.700000        17.300000         197.000000  4025.000000\n",
      "75%           48.625000        18.700000         213.000000  4781.250000\n",
      "max           59.600000        21.500000         231.000000  6300.000000\n"
     ]
    }
   ],
   "source": [
    "print(penguins_df.info())\n",
    "print(penguins_df.describe())"
   ]
  },
  {
   "cell_type": "markdown",
   "id": "3d2472d1-9a61-4ae9-b8ec-57ee58f097bb",
   "metadata": {},
   "source": [
    "### Perform preprocessing steps on the dataset to create dummy variables"
   ]
  },
  {
   "cell_type": "code",
   "execution_count": 9,
   "id": "58399aa4-4def-4e55-8134-15dd22ff2207",
   "metadata": {
    "executionCancelledAt": null,
    "executionTime": 64,
    "lastExecutedAt": 1729578453028,
    "lastExecutedByKernel": "f3fdeadf-a775-4275-b2d2-5bb597059fef",
    "lastScheduledRunId": null,
    "lastSuccessfullyExecutedCode": "# Import StandardScaler\nfrom sklearn.preprocessing import StandardScaler\n\n# One-hot encoding the categorical features\npenguins_dummies = pd.get_dummies(penguins_df, drop_first=True)\n\n# Display the first few rows of the modified dataset\nprint(penguins_dummies.head())\n\n# Standardizing the data\nscaler = StandardScaler()\npenguins_scaled = scaler.fit_transform(penguins_dummies)\n\n# Convert the scaled data back to a DataFrame\npenguins_scaled_df = pd.DataFrame(penguins_scaled, columns=penguins_dummies.columns)\n\n# Display the first few rows of the standardized data\nprint(penguins_scaled_df.head())",
    "outputsMetadata": {
     "0": {
      "height": 545,
      "type": "stream"
     }
    }
   },
   "outputs": [
    {
     "name": "stdout",
     "output_type": "stream",
     "text": [
      "   culmen_length_mm  culmen_depth_mm  flipper_length_mm  body_mass_g  sex_MALE\n",
      "0              39.1             18.7              181.0       3750.0      True\n",
      "1              39.5             17.4              186.0       3800.0     False\n",
      "2              40.3             18.0              195.0       3250.0     False\n",
      "3              36.7             19.3              193.0       3450.0     False\n",
      "4              39.3             20.6              190.0       3650.0      True\n",
      "   culmen_length_mm  culmen_depth_mm  flipper_length_mm  body_mass_g  sex_MALE\n",
      "0         -0.903906         0.790360          -1.425342    -0.566948  0.993994\n",
      "1         -0.830434         0.126187          -1.068577    -0.504847 -1.006042\n",
      "2         -0.683490         0.432728          -0.426399    -1.187953 -1.006042\n",
      "3         -1.344738         1.096901          -0.569105    -0.939551 -1.006042\n",
      "4         -0.867170         1.761074          -0.783164    -0.691149  0.993994\n"
     ]
    }
   ],
   "source": [
    "# Import StandardScaler\n",
    "from sklearn.preprocessing import StandardScaler\n",
    "\n",
    "# One-hot encoding the categorical features\n",
    "penguins_dummies = pd.get_dummies(penguins_df, drop_first=True)\n",
    "\n",
    "# Display the first few rows of the modified dataset\n",
    "print(penguins_dummies.head())\n",
    "\n",
    "# Standardizing the data\n",
    "scaler = StandardScaler()\n",
    "penguins_scaled = scaler.fit_transform(penguins_dummies)\n",
    "\n",
    "# Convert the scaled data back to a DataFrame\n",
    "penguins_scaled_df = pd.DataFrame(penguins_scaled, columns=penguins_dummies.columns)\n",
    "\n",
    "# Display the first few rows of the standardized data\n",
    "print(penguins_scaled_df.head())"
   ]
  },
  {
   "cell_type": "markdown",
   "id": "606e1248-62c6-40ce-9e40-0da2b065881d",
   "metadata": {},
   "source": [
    "### Detect the optimal number of clusters for k-means clustering\n",
    "Perform Elbow analysis to determine the optimal number of clusters for this dataset."
   ]
  },
  {
   "cell_type": "code",
   "execution_count": 10,
   "id": "e5cf8903-a71d-49a4-a9c6-249163a5a3c9",
   "metadata": {
    "executionCancelledAt": null,
    "executionTime": 430,
    "lastExecutedAt": 1729578453459,
    "lastExecutedByKernel": "f3fdeadf-a775-4275-b2d2-5bb597059fef",
    "lastScheduledRunId": null,
    "lastSuccessfullyExecutedCode": "import matplotlib.pyplot as plt\nfrom sklearn.cluster import KMeans\n\n# Initialize an empty list to store the inertia values\ninertia = []\n\n# Range of cluster numbers to try\nk_range = range(1, 11)\n\n# Perform k-means clustering for each k and calculate inertia\nfor k in k_range:\n    # Create a KMeans model with k clusters\n    kmeans = KMeans(n_clusters=k, random_state=42)\n    \n    # Fit the model to the standardized data\n    kmeans.fit(penguins_scaled_df)\n    \n    # Append the inertia (sum of squared distances) to the list\n    inertia.append(kmeans.inertia_)\n\n# Plot the inertia values for each k\nplt.figure(figsize=(10, 6))\nplt.plot(k_range, inertia, marker='o')\nplt.xlabel('Number of Clusters (k)')\nplt.ylabel('Inertia')\nplt.title('Elbow Analysis for Optimal k')\nplt.grid(True)\nplt.show()"
   },
   "outputs": [
    {
     "data": {
      "image/png": "[encoded data removed]",
      "text/plain": [
       "<Figure size 1000x600 with 1 Axes>"
      ]
     },
     "metadata": {},
     "output_type": "display_data"
    }
   ],
   "source": [
    "import matplotlib.pyplot as plt\n",
    "from sklearn.cluster import KMeans\n",
    "\n",
    "# Initialize an empty list to store the inertia values\n",
    "inertia = []\n",
    "\n",
    "# Range of cluster numbers to try\n",
    "k_range = range(1, 11)\n",
    "\n",
    "# Perform k-means clustering for each k and calculate inertia\n",
    "for k in k_range:\n",
    "    # Create a KMeans model with k clusters\n",
    "    kmeans = KMeans(n_clusters=k, random_state=42)\n",
    "    \n",
    "    # Fit the model to the standardized data\n",
    "    kmeans.fit(penguins_scaled_df)\n",
    "    \n",
    "    # Append the inertia (sum of squared distances) to the list\n",
    "    inertia.append(kmeans.inertia_)\n",
    "\n",
    "# Plot the inertia values for each k\n",
    "plt.figure(figsize=(10, 6))\n",
    "plt.plot(k_range, inertia, marker='o')\n",
    "plt.xlabel('Number of Clusters (k)')\n",
    "plt.ylabel('Inertia')\n",
    "plt.title('Elbow Analysis for Optimal k')\n",
    "plt.grid(True)\n",
    "plt.show()"
   ]
  },
  {
   "cell_type": "markdown",
   "id": "60db18ec-94ef-4660-aafe-52c4f3f1a619",
   "metadata": {},
   "source": [
    "### Run the k-means clustering algorithm\n",
    "Using the optimal number of clusters obtained from the previous step, run the k-means clustering algorithm once more on the preprocessed data."
   ]
  },
  {
   "cell_type": "code",
   "execution_count": 11,
   "id": "0b4ab25f-0b82-404c-80e2-8b36ef211288",
   "metadata": {
    "executionCancelledAt": null,
    "executionTime": 421,
    "lastExecutedAt": 1729578453880,
    "lastExecutedByKernel": "f3fdeadf-a775-4275-b2d2-5bb597059fef",
    "lastScheduledRunId": null,
    "lastSuccessfullyExecutedCode": "import matplotlib.pyplot as plt\nfrom sklearn.cluster import KMeans\n\n# Step 1: Elbow Analysis\ninertias = []\nk_range = range(1, 11)  # Test k from 1 to 10\n\nfor k in k_range:\n    kmeans = KMeans(n_clusters=k, random_state=42)\n    kmeans.fit(penguins_scaled_df)\n    inertias.append(kmeans.inertia_)\n\n# Plotting the Elbow Analysis\nplt.figure(figsize=(8, 6))\nplt.plot(k_range, inertias, '-o')\nplt.xlabel('Number of clusters (k)')\nplt.ylabel('Inertia')\nplt.title('Elbow Analysis for Optimal k')\nplt.show()\n\n# Step 2: Run k-means Clustering using the optimal number of clusters\n# Based on Elbow analysis, let's assume the optimal k is 4\noptimal_k = 4\nkmeans_optimal = KMeans(n_clusters=optimal_k, random_state=42)\nkmeans_optimal.fit(penguins_scaled_df)\n\n# Add the cluster labels to the DataFrame\npenguins_scaled_df['Cluster'] = kmeans_optimal.labels_\n\n# Display the DataFrame with cluster labels\nprint(penguins_scaled_df.head())",
    "outputsMetadata": {
     "1": {
      "height": 185,
      "type": "stream"
     }
    }
   },
   "outputs": [
    {
     "data": {
      "image/png": "[encoded data removed]",
      "text/plain": [
       "<Figure size 800x600 with 1 Axes>"
      ]
     },
     "metadata": {},
     "output_type": "display_data"
    },
    {
     "name": "stdout",
     "output_type": "stream",
     "text": [
      "   culmen_length_mm  culmen_depth_mm  flipper_length_mm  body_mass_g  \\\n",
      "0         -0.903906         0.790360          -1.425342    -0.566948   \n",
      "1         -0.830434         0.126187          -1.068577    -0.504847   \n",
      "2         -0.683490         0.432728          -0.426399    -1.187953   \n",
      "3         -1.344738         1.096901          -0.569105    -0.939551   \n",
      "4         -0.867170         1.761074          -0.783164    -0.691149   \n",
      "\n",
      "   sex_MALE  Cluster  \n",
      "0  0.993994        0  \n",
      "1 -1.006042        2  \n",
      "2 -1.006042        2  \n",
      "3 -1.006042        2  \n",
      "4  0.993994        0  \n"
     ]
    }
   ],
   "source": [
    "import matplotlib.pyplot as plt\n",
    "from sklearn.cluster import KMeans\n",
    "\n",
    "# Step 1: Elbow Analysis\n",
    "inertias = []\n",
    "k_range = range(1, 11)  # Test k from 1 to 10\n",
    "\n",
    "for k in k_range:\n",
    "    kmeans = KMeans(n_clusters=k, random_state=42)\n",
    "    kmeans.fit(penguins_scaled_df)\n",
    "    inertias.append(kmeans.inertia_)\n",
    "\n",
    "# Plotting the Elbow Analysis\n",
    "plt.figure(figsize=(8, 6))\n",
    "plt.plot(k_range, inertias, '-o')\n",
    "plt.xlabel('Number of clusters (k)')\n",
    "plt.ylabel('Inertia')\n",
    "plt.title('Elbow Analysis for Optimal k')\n",
    "plt.show()\n",
    "\n",
    "# Step 2: Run k-means Clustering using the optimal number of clusters\n",
    "# Based on Elbow analysis, let's assume the optimal k is 4\n",
    "optimal_k = 4\n",
    "kmeans_optimal = KMeans(n_clusters=optimal_k, random_state=42)\n",
    "kmeans_optimal.fit(penguins_scaled_df)\n",
    "\n",
    "# Add the cluster labels to the DataFrame\n",
    "penguins_scaled_df['Cluster'] = kmeans_optimal.labels_\n",
    "\n",
    "# Display the DataFrame with cluster labels\n",
    "print(penguins_scaled_df.head())"
   ]
  },
  {
   "cell_type": "markdown",
   "id": "9e8b2d1c-f39f-41ac-8277-12f6d3bd421c",
   "metadata": {},
   "source": [
    "### Create a final statistical DataFrame for each cluster.\n",
    "Create a final characteristic DataFrame for each cluster using the groupby method and mean function only on numeric columns."
   ]
  },
  {
   "cell_type": "code",
   "execution_count": 12,
   "id": "82804ace-ca98-48a4-a92d-9c32661009a7",
   "metadata": {
    "executionCancelledAt": null,
    "executionTime": 71,
    "lastExecutedAt": 1729578453951,
    "lastExecutedByKernel": "f3fdeadf-a775-4275-b2d2-5bb597059fef",
    "lastScheduledRunId": null,
    "lastSuccessfullyExecutedCode": "# Step 1: Inverse transform to get the original scale (exclude only the Cluster column)\npenguins_original = scaler.inverse_transform(penguins_scaled_df.iloc[:, :-1])\n\n# Convert to DataFrame with original column names\npenguins_original_df = pd.DataFrame(penguins_original, columns=penguins_dummies.columns)\n\n# Add the 'Cluster' column from the scaled DataFrame\npenguins_original_df['Cluster'] = penguins_scaled_df['Cluster']\n\n# Step 2: Calculate the mean for each cluster and create stat_penguins\nstat_penguins = penguins_original_df.groupby('Cluster').mean()\n\n# Display the final DataFrame\nprint(stat_penguins)",
    "outputsMetadata": {
     "0": {
      "height": 185,
      "type": "stream"
     }
    }
   },
   "outputs": [
    {
     "name": "stdout",
     "output_type": "stream",
     "text": [
      "         culmen_length_mm  culmen_depth_mm  flipper_length_mm  body_mass_g  \\\n",
      "Cluster                                                                      \n",
      "0               43.878302        19.111321         194.764151  4006.603774   \n",
      "1               49.473770        15.718033         221.540984  5484.836066   \n",
      "2               40.217757        17.611215         189.046729  3419.158879   \n",
      "3               45.563793        14.237931         212.706897  4679.741379   \n",
      "\n",
      "         sex_MALE  \n",
      "Cluster            \n",
      "0             1.0  \n",
      "1             1.0  \n",
      "2             0.0  \n",
      "3             0.0  \n"
     ]
    }
   ],
   "source": [
    "# Step 1: Inverse transform to get the original scale (exclude only the Cluster column)\n",
    "penguins_original = scaler.inverse_transform(penguins_scaled_df.iloc[:, :-1])\n",
    "\n",
    "# Convert to DataFrame with original column names\n",
    "penguins_original_df = pd.DataFrame(penguins_original, columns=penguins_dummies.columns)\n",
    "\n",
    "# Add the 'Cluster' column from the scaled DataFrame\n",
    "penguins_original_df['Cluster'] = penguins_scaled_df['Cluster']\n",
    "\n",
    "# Step 2: Calculate the mean for each cluster and create stat_penguins\n",
    "stat_penguins = penguins_original_df.groupby('Cluster').mean()\n",
    "\n",
    "# Display the final DataFrame\n",
    "print(stat_penguins)"
   ]
  }
 ],
 "metadata": {
  "colab": {
   "name": "Welcome to DataCamp Workspaces.ipynb",
   "provenance": []
  },
  "editor": "DataLab",
  "kernelspec": {
   "display_name": "Python 3",
   "language": "python",
   "name": "python3"
  },
  "language_info": {
   "codemirror_mode": {
    "name": "ipython",
    "version": 3
   },
   "file_extension": ".py",
   "mimetype": "text/x-python",
   "name": "python",
   "nbconvert_exporter": "python",
   "pygments_lexer": "ipython3",
   "version": "3.12.7"
  }
 },
 "nbformat": 4,
 "nbformat_minor": 5
}
