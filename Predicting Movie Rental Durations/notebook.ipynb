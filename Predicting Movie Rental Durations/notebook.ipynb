{
 "cells": [
  {
   "cell_type": "markdown",
   "id": "b4ae5707-109f-4cd6-8168-88cac0179d6b",
   "metadata": {},
   "source": [
    "A DVD rental company needs your help! They want to figure out how many days a customer will rent a DVD for based on some features and has approached you for help. They want you to try out some regression models which will help predict the number of days a customer will rent a DVD for. The company wants a model which yeilds a MSE of 3 or less on a test set. The model you make will help the company become more efficient inventory planning.\n",
    "\n",
    "The data they provided is in the csv file `rental_info.csv`. It has the following features:\n",
    "- `\"rental_date\"`: The date (and time) the customer rents the DVD.\n",
    "- `\"return_date\"`: The date (and time) the customer returns the DVD.\n",
    "- `\"amount\"`: The amount paid by the customer for renting the DVD.\n",
    "- `\"amount_2\"`: The square of `\"amount\"`.\n",
    "- `\"rental_rate\"`: The rate at which the DVD is rented for.\n",
    "- `\"rental_rate_2\"`: The square of `\"rental_rate\"`.\n",
    "- `\"release_year\"`: The year the movie being rented was released.\n",
    "- `\"length\"`: Lenght of the movie being rented, in minuites.\n",
    "- `\"length_2\"`: The square of `\"length\"`.\n",
    "- `\"replacement_cost\"`: The amount it will cost the company to replace the DVD.\n",
    "- `\"special_features\"`: Any special features, for example trailers/deleted scenes that the DVD also has.\n",
    "- `\"NC-17\"`, `\"PG\"`, `\"PG-13\"`, `\"R\"`: These columns are dummy variables of the rating of the movie. It takes the value 1 if the move is rated as the column name and 0 otherwise. For your convinience, the reference dummy has already been dropped."
   ]
  },
  {
   "cell_type": "code",
   "execution_count": 1,
   "id": "a7ede566-910a-445c-b11a-68d192ac8506",
   "metadata": {
    "executionCancelledAt": null,
    "executionTime": 51,
    "lastExecutedAt": 1734670695002,
    "lastExecutedByKernel": "5e481a82-6b67-4f9f-b481-d64506efbc1e",
    "lastScheduledRunId": null,
    "lastSuccessfullyExecutedCode": "import pandas as pd\nimport numpy as np\n\nfrom sklearn.model_selection import train_test_split\nfrom sklearn.metrics import mean_squared_error"
   },
   "outputs": [],
   "source": [
    "import pandas as pd\n",
    "import numpy as np\n",
    "\n",
    "from sklearn.model_selection import train_test_split\n",
    "from sklearn.metrics import mean_squared_error"
   ]
  },
  {
   "cell_type": "markdown",
   "id": "169a2d53",
   "metadata": {},
   "source": [
    "### Load and Analyse dataset"
   ]
  },
  {
   "cell_type": "markdown",
   "id": "fed1efee-334d-4b68-b530-692ae7f5914b",
   "metadata": {},
   "source": [
    "Read in the csv file rental_info.csv using pandas."
   ]
  },
  {
   "cell_type": "code",
   "execution_count": 2,
   "id": "fc655f4a-8c11-4c6d-8f5b-3e954debf04d",
   "metadata": {
    "executionCancelledAt": null,
    "executionTime": 69,
    "lastExecutedAt": 1734670695071,
    "lastExecutedByKernel": "5e481a82-6b67-4f9f-b481-d64506efbc1e",
    "lastScheduledRunId": null,
    "lastSuccessfullyExecutedCode": "df = pd.read_csv('rental_info.csv')\n\nprint(df.head)\nprint(df.info())",
    "outputsMetadata": {
     "0": {
      "height": 616,
      "type": "stream"
     }
    }
   },
   "outputs": [
    {
     "name": "stdout",
     "output_type": "stream",
     "text": [
      "<bound method NDFrame.head of                      rental_date                return_date  amount  \\\n",
      "0      2005-05-25 02:54:33+00:00  2005-05-28 23:40:33+00:00    2.99   \n",
      "1      2005-06-15 23:19:16+00:00  2005-06-18 19:24:16+00:00    2.99   \n",
      "2      2005-07-10 04:27:45+00:00  2005-07-17 10:11:45+00:00    2.99   \n",
      "3      2005-07-31 12:06:41+00:00  2005-08-02 14:30:41+00:00    2.99   \n",
      "4      2005-08-19 12:30:04+00:00  2005-08-23 13:35:04+00:00    2.99   \n",
      "...                          ...                        ...     ...   \n",
      "15856  2005-08-22 10:49:15+00:00  2005-08-29 09:52:15+00:00    6.99   \n",
      "15857  2005-07-31 09:48:49+00:00  2005-08-04 10:53:49+00:00    4.99   \n",
      "15858  2005-08-20 10:35:30+00:00  2005-08-29 13:03:30+00:00    8.99   \n",
      "15859  2005-07-31 13:10:20+00:00  2005-08-08 14:07:20+00:00    7.99   \n",
      "15860  2005-08-18 06:33:55+00:00  2005-08-24 07:14:55+00:00    5.99   \n",
      "\n",
      "       release_year  rental_rate  length  replacement_cost  \\\n",
      "0            2005.0         2.99   126.0             16.99   \n",
      "1            2005.0         2.99   126.0             16.99   \n",
      "2            2005.0         2.99   126.0             16.99   \n",
      "3            2005.0         2.99   126.0             16.99   \n",
      "4            2005.0         2.99   126.0             16.99   \n",
      "...             ...          ...     ...               ...   \n",
      "15856        2009.0         4.99    88.0             11.99   \n",
      "15857        2009.0         4.99    88.0             11.99   \n",
      "15858        2009.0         4.99    88.0             11.99   \n",
      "15859        2009.0         4.99    88.0             11.99   \n",
      "15860        2009.0         4.99    88.0             11.99   \n",
      "\n",
      "                                      special_features  NC-17  PG  PG-13  R  \\\n",
      "0                       {Trailers,\"Behind the Scenes\"}      0   0      0  1   \n",
      "1                       {Trailers,\"Behind the Scenes\"}      0   0      0  1   \n",
      "2                       {Trailers,\"Behind the Scenes\"}      0   0      0  1   \n",
      "3                       {Trailers,\"Behind the Scenes\"}      0   0      0  1   \n",
      "4                       {Trailers,\"Behind the Scenes\"}      0   0      0  1   \n",
      "...                                                ...    ...  ..    ... ..   \n",
      "15856  {Trailers,\"Deleted Scenes\",\"Behind the Scenes\"}      0   0      0  1   \n",
      "15857  {Trailers,\"Deleted Scenes\",\"Behind the Scenes\"}      0   0      0  1   \n",
      "15858  {Trailers,\"Deleted Scenes\",\"Behind the Scenes\"}      0   0      0  1   \n",
      "15859  {Trailers,\"Deleted Scenes\",\"Behind the Scenes\"}      0   0      0  1   \n",
      "15860  {Trailers,\"Deleted Scenes\",\"Behind the Scenes\"}      0   0      0  1   \n",
      "\n",
      "       amount_2  length_2  rental_rate_2  \n",
      "0        8.9401   15876.0         8.9401  \n",
      "1        8.9401   15876.0         8.9401  \n",
      "2        8.9401   15876.0         8.9401  \n",
      "3        8.9401   15876.0         8.9401  \n",
      "4        8.9401   15876.0         8.9401  \n",
      "...         ...       ...            ...  \n",
      "15856   48.8601    7744.0        24.9001  \n",
      "15857   24.9001    7744.0        24.9001  \n",
      "15858   80.8201    7744.0        24.9001  \n",
      "15859   63.8401    7744.0        24.9001  \n",
      "15860   35.8801    7744.0        24.9001  \n",
      "\n",
      "[15861 rows x 15 columns]>\n",
      "<class 'pandas.core.frame.DataFrame'>\n",
      "RangeIndex: 15861 entries, 0 to 15860\n",
      "Data columns (total 15 columns):\n",
      " #   Column            Non-Null Count  Dtype  \n",
      "---  ------            --------------  -----  \n",
      " 0   rental_date       15861 non-null  object \n",
      " 1   return_date       15861 non-null  object \n",
      " 2   amount            15861 non-null  float64\n",
      " 3   release_year      15861 non-null  float64\n",
      " 4   rental_rate       15861 non-null  float64\n",
      " 5   length            15861 non-null  float64\n",
      " 6   replacement_cost  15861 non-null  float64\n",
      " 7   special_features  15861 non-null  object \n",
      " 8   NC-17             15861 non-null  int64  \n",
      " 9   PG                15861 non-null  int64  \n",
      " 10  PG-13             15861 non-null  int64  \n",
      " 11  R                 15861 non-null  int64  \n",
      " 12  amount_2          15861 non-null  float64\n",
      " 13  length_2          15861 non-null  float64\n",
      " 14  rental_rate_2     15861 non-null  float64\n",
      "dtypes: float64(8), int64(4), object(3)\n",
      "memory usage: 1.8+ MB\n",
      "None\n"
     ]
    }
   ],
   "source": [
    "df = pd.read_csv('rental_info.csv')\n",
    "\n",
    "print(df.head)\n",
    "print(df.info())"
   ]
  },
  {
   "cell_type": "code",
   "execution_count": 3,
   "id": "a2821619-51aa-417f-a0c7-a4ef4a09d621",
   "metadata": {
    "executionCancelledAt": null,
    "executionTime": 55,
    "lastExecutedAt": 1734670695126,
    "lastExecutedByKernel": "5e481a82-6b67-4f9f-b481-d64506efbc1e",
    "lastScheduledRunId": null,
    "lastSuccessfullyExecutedCode": "print(df.isna().sum())",
    "outputsMetadata": {
     "0": {
      "height": 353,
      "type": "stream"
     }
    }
   },
   "outputs": [
    {
     "name": "stdout",
     "output_type": "stream",
     "text": [
      "rental_date         0\n",
      "return_date         0\n",
      "amount              0\n",
      "release_year        0\n",
      "rental_rate         0\n",
      "length              0\n",
      "replacement_cost    0\n",
      "special_features    0\n",
      "NC-17               0\n",
      "PG                  0\n",
      "PG-13               0\n",
      "R                   0\n",
      "amount_2            0\n",
      "length_2            0\n",
      "rental_rate_2       0\n",
      "dtype: int64\n"
     ]
    }
   ],
   "source": [
    "print(df.isna().sum())"
   ]
  },
  {
   "cell_type": "markdown",
   "id": "5ca884b2-b749-47c4-971e-05fbb2b286e7",
   "metadata": {},
   "source": [
    "Create a column named \"rental_length_days\" using the columns \"return_date\" and \"rental_date\", and add it to the pandas DataFrame. This column should contain information on how many days a DVD has been rented by a customer."
   ]
  },
  {
   "cell_type": "code",
   "execution_count": 4,
   "id": "4f1c8844-34c0-4519-a12d-809d334d8545",
   "metadata": {
    "executionCancelledAt": null,
    "executionTime": 56,
    "lastExecutedAt": 1734670695182,
    "lastExecutedByKernel": "5e481a82-6b67-4f9f-b481-d64506efbc1e",
    "lastScheduledRunId": null,
    "lastSuccessfullyExecutedCode": "print(df[['return_date','rental_date']].head())",
    "outputsMetadata": {
     "0": {
      "height": 143,
      "type": "stream"
     }
    }
   },
   "outputs": [
    {
     "name": "stdout",
     "output_type": "stream",
     "text": [
      "                 return_date                rental_date\n",
      "0  2005-05-28 23:40:33+00:00  2005-05-25 02:54:33+00:00\n",
      "1  2005-06-18 19:24:16+00:00  2005-06-15 23:19:16+00:00\n",
      "2  2005-07-17 10:11:45+00:00  2005-07-10 04:27:45+00:00\n",
      "3  2005-08-02 14:30:41+00:00  2005-07-31 12:06:41+00:00\n",
      "4  2005-08-23 13:35:04+00:00  2005-08-19 12:30:04+00:00\n"
     ]
    }
   ],
   "source": [
    "print(df[['return_date','rental_date']].head())"
   ]
  },
  {
   "cell_type": "code",
   "execution_count": 5,
   "id": "2c5ab6ae-c3d8-4087-ae69-781eaa8c9918",
   "metadata": {
    "executionCancelledAt": null,
    "executionTime": 48,
    "lastExecutedAt": 1734670695230,
    "lastExecutedByKernel": "5e481a82-6b67-4f9f-b481-d64506efbc1e",
    "lastScheduledRunId": null,
    "lastSuccessfullyExecutedCode": "# Convert dates to datetime and extract the date\ndf['return_date'] = pd.to_datetime(df['return_date'])\ndf['rental_date'] = pd.to_datetime(df['rental_date'])"
   },
   "outputs": [],
   "source": [
    "# Convert dates to datetime and extract the date\n",
    "df['return_date'] = pd.to_datetime(df['return_date'])\n",
    "df['rental_date'] = pd.to_datetime(df['rental_date'])"
   ]
  },
  {
   "cell_type": "code",
   "execution_count": 6,
   "id": "5ee1b1ed-80aa-4a8b-8060-8e49db857214",
   "metadata": {
    "executionCancelledAt": null,
    "executionTime": 47,
    "lastExecutedAt": 1734670695278,
    "lastExecutedByKernel": "5e481a82-6b67-4f9f-b481-d64506efbc1e",
    "lastScheduledRunId": null,
    "lastSuccessfullyExecutedCode": "# Add new column to extract total days a DVD is rented\ndf['rental_length_days'] = (df['return_date'] - df['rental_date']).dt.days"
   },
   "outputs": [],
   "source": [
    "# Add new column to extract total days a DVD is rented\n",
    "df['rental_length_days'] = (df['return_date'] - df['rental_date']).dt.days"
   ]
  },
  {
   "cell_type": "code",
   "execution_count": 7,
   "id": "1fa44bf4-1718-46b1-8378-44247fe5e448",
   "metadata": {
    "executionCancelledAt": null,
    "executionTime": 48,
    "lastExecutedAt": 1734670695326,
    "lastExecutedByKernel": "5e481a82-6b67-4f9f-b481-d64506efbc1e",
    "lastScheduledRunId": null,
    "lastSuccessfullyExecutedCode": "# Verify the column\nprint(df['rental_length_days'].head())",
    "outputsMetadata": {
     "0": {
      "height": 143,
      "type": "stream"
     }
    }
   },
   "outputs": [
    {
     "name": "stdout",
     "output_type": "stream",
     "text": [
      "0    3\n",
      "1    2\n",
      "2    7\n",
      "3    2\n",
      "4    4\n",
      "Name: rental_length_days, dtype: int64\n"
     ]
    }
   ],
   "source": [
    "# Verify the column\n",
    "print(df['rental_length_days'].head())"
   ]
  },
  {
   "cell_type": "markdown",
   "id": "f02a8f16",
   "metadata": {},
   "source": [
    "### Extract new features"
   ]
  },
  {
   "cell_type": "markdown",
   "id": "184fa06a-c65b-40d4-88fc-7cd4abc12204",
   "metadata": {},
   "source": [
    "Create two columns of dummy variables from \"special_features\", which takes the value of 1 when:\n",
    "- The value is \"Deleted Scenes\", storing as a column called \"deleted_scenes\".\n",
    "- The value is \"Behind the Scenes\", storing as a column called \"behind_the_scenes\".\n"
   ]
  },
  {
   "cell_type": "code",
   "execution_count": 8,
   "id": "4b548e78-363f-4245-a77a-c801962074f0",
   "metadata": {
    "executionCancelledAt": null,
    "executionTime": 57,
    "lastExecutedAt": 1734670695383,
    "lastExecutedByKernel": "5e481a82-6b67-4f9f-b481-d64506efbc1e",
    "lastScheduledRunId": null,
    "lastSuccessfullyExecutedCode": "print(df['special_features'].unique())",
    "outputsMetadata": {
     "0": {
      "height": 227,
      "type": "stream"
     }
    }
   },
   "outputs": [
    {
     "name": "stdout",
     "output_type": "stream",
     "text": [
      "['{Trailers,\"Behind the Scenes\"}' '{Trailers}'\n",
      " '{Commentaries,\"Behind the Scenes\"}' '{Trailers,Commentaries}'\n",
      " '{\"Deleted Scenes\",\"Behind the Scenes\"}'\n",
      " '{Commentaries,\"Deleted Scenes\",\"Behind the Scenes\"}'\n",
      " '{Trailers,Commentaries,\"Deleted Scenes\"}' '{\"Behind the Scenes\"}'\n",
      " '{Trailers,\"Deleted Scenes\",\"Behind the Scenes\"}'\n",
      " '{Commentaries,\"Deleted Scenes\"}' '{Commentaries}'\n",
      " '{Trailers,Commentaries,\"Behind the Scenes\"}'\n",
      " '{Trailers,\"Deleted Scenes\"}' '{\"Deleted Scenes\"}'\n",
      " '{Trailers,Commentaries,\"Deleted Scenes\",\"Behind the Scenes\"}']\n"
     ]
    }
   ],
   "source": [
    "print(df['special_features'].unique())"
   ]
  },
  {
   "cell_type": "code",
   "execution_count": 9,
   "id": "c38e2c5b-96e1-4915-9c53-f622799cd3c0",
   "metadata": {
    "executionCancelledAt": null,
    "executionTime": 56,
    "lastExecutedAt": 1734670695439,
    "lastExecutedByKernel": "5e481a82-6b67-4f9f-b481-d64506efbc1e",
    "lastScheduledRunId": null,
    "lastSuccessfullyExecutedCode": "import numpy as np\n\n# Create columns deleted_scenes and behind_the_scenes\ndf['deleted_scenes'] = np.where(df['special_features'].str.contains('Deleted Scenes'), 1, 0)\ndf['behind_the_scenes'] = np.where(df['special_features'].str.contains('Behind the Scenes'), 1, 0)"
   },
   "outputs": [],
   "source": [
    "import numpy as np\n",
    "\n",
    "# Create columns deleted_scenes and behind_the_scenes\n",
    "df['deleted_scenes'] = np.where(df['special_features'].str.contains('Deleted Scenes'), 1, 0)\n",
    "df['behind_the_scenes'] = np.where(df['special_features'].str.contains('Behind the Scenes'), 1, 0)"
   ]
  },
  {
   "cell_type": "code",
   "execution_count": 10,
   "id": "17276256-0b36-4c57-b44f-01d6e77c14b6",
   "metadata": {
    "executionCancelledAt": null,
    "executionTime": 52,
    "lastExecutedAt": 1734670695491,
    "lastExecutedByKernel": "5e481a82-6b67-4f9f-b481-d64506efbc1e",
    "lastScheduledRunId": null,
    "lastSuccessfullyExecutedCode": "# Verify the columns\nprint(df[['deleted_scenes','behind_the_scenes']])",
    "outputsMetadata": {
     "0": {
      "height": 311,
      "type": "stream"
     }
    }
   },
   "outputs": [
    {
     "name": "stdout",
     "output_type": "stream",
     "text": [
      "       deleted_scenes  behind_the_scenes\n",
      "0                   0                  1\n",
      "1                   0                  1\n",
      "2                   0                  1\n",
      "3                   0                  1\n",
      "4                   0                  1\n",
      "...               ...                ...\n",
      "15856               1                  1\n",
      "15857               1                  1\n",
      "15858               1                  1\n",
      "15859               1                  1\n",
      "15860               1                  1\n",
      "\n",
      "[15861 rows x 2 columns]\n"
     ]
    }
   ],
   "source": [
    "# Verify the columns\n",
    "print(df[['deleted_scenes','behind_the_scenes']])"
   ]
  },
  {
   "cell_type": "code",
   "execution_count": 11,
   "id": "e98ddf74-e4fd-4e0d-a6ca-36ceac7317a3",
   "metadata": {
    "executionCancelledAt": null,
    "executionTime": 50,
    "lastExecutedAt": 1734670695542,
    "lastExecutedByKernel": "5e481a82-6b67-4f9f-b481-d64506efbc1e",
    "lastScheduledRunId": null,
    "lastSuccessfullyExecutedCode": "print(df.info())",
    "outputsMetadata": {
     "0": {
      "height": 563,
      "type": "stream"
     }
    }
   },
   "outputs": [
    {
     "name": "stdout",
     "output_type": "stream",
     "text": [
      "<class 'pandas.core.frame.DataFrame'>\n",
      "RangeIndex: 15861 entries, 0 to 15860\n",
      "Data columns (total 18 columns):\n",
      " #   Column              Non-Null Count  Dtype              \n",
      "---  ------              --------------  -----              \n",
      " 0   rental_date         15861 non-null  datetime64[ns, UTC]\n",
      " 1   return_date         15861 non-null  datetime64[ns, UTC]\n",
      " 2   amount              15861 non-null  float64            \n",
      " 3   release_year        15861 non-null  float64            \n",
      " 4   rental_rate         15861 non-null  float64            \n",
      " 5   length              15861 non-null  float64            \n",
      " 6   replacement_cost    15861 non-null  float64            \n",
      " 7   special_features    15861 non-null  object             \n",
      " 8   NC-17               15861 non-null  int64              \n",
      " 9   PG                  15861 non-null  int64              \n",
      " 10  PG-13               15861 non-null  int64              \n",
      " 11  R                   15861 non-null  int64              \n",
      " 12  amount_2            15861 non-null  float64            \n",
      " 13  length_2            15861 non-null  float64            \n",
      " 14  rental_rate_2       15861 non-null  float64            \n",
      " 15  rental_length_days  15861 non-null  int64              \n",
      " 16  deleted_scenes      15861 non-null  int32              \n",
      " 17  behind_the_scenes   15861 non-null  int32              \n",
      "dtypes: datetime64[ns, UTC](2), float64(8), int32(2), int64(5), object(1)\n",
      "memory usage: 2.1+ MB\n",
      "None\n"
     ]
    }
   ],
   "source": [
    "print(df.info())"
   ]
  },
  {
   "cell_type": "markdown",
   "id": "d59a337f",
   "metadata": {},
   "source": [
    "### Split data"
   ]
  },
  {
   "cell_type": "markdown",
   "id": "a2888283-4aa7-4e7f-8060-4a441ed3a9b5",
   "metadata": {},
   "source": [
    "Make a pandas DataFrame called X containing all the appropriate features you can use to run the regression models, avoiding columns that leak data about the target.\n",
    "\n",
    "Choose the \"rental_length_days\" as the target column and save it as a pandas Series called y.\n"
   ]
  },
  {
   "cell_type": "code",
   "execution_count": 12,
   "id": "af71af02-17c2-432f-8757-e65a7da2002e",
   "metadata": {
    "executionCancelledAt": null,
    "executionTime": 56,
    "lastExecutedAt": 1734670695598,
    "lastExecutedByKernel": "5e481a82-6b67-4f9f-b481-d64506efbc1e",
    "lastScheduledRunId": null,
    "lastSuccessfullyExecutedCode": "from sklearn.model_selection import train_test_split\n\n# Identify the columns to drop\ncols_to_drop = ['rental_length_days', 'rental_date', 'return_date', 'special_features']\n\nX = df.drop(columns=cols_to_drop) # features\ny = df['rental_length_days'] # target",
    "outputsMetadata": {
     "0": {
      "height": 616,
      "type": "stream"
     }
    }
   },
   "outputs": [],
   "source": [
    "from sklearn.model_selection import train_test_split\n",
    "\n",
    "# Identify the columns to drop\n",
    "cols_to_drop = ['rental_length_days', 'rental_date', 'return_date', 'special_features']\n",
    "\n",
    "X = df.drop(columns=cols_to_drop) # features\n",
    "y = df['rental_length_days'] # target"
   ]
  },
  {
   "cell_type": "code",
   "execution_count": 13,
   "id": "2a82fc3e-0eb3-4c01-9933-198a6befff89",
   "metadata": {
    "executionCancelledAt": null,
    "executionTime": 46,
    "lastExecutedAt": 1734670695645,
    "lastExecutedByKernel": "5e481a82-6b67-4f9f-b481-d64506efbc1e",
    "lastScheduledRunId": null,
    "lastSuccessfullyExecutedCode": "# Verify the shape\nprint(X.shape)\nprint(y.shape)",
    "outputsMetadata": {
     "0": {
      "height": 59,
      "type": "stream"
     }
    }
   },
   "outputs": [
    {
     "name": "stdout",
     "output_type": "stream",
     "text": [
      "(15861, 14)\n",
      "(15861,)\n"
     ]
    }
   ],
   "source": [
    "# Verify the shape\n",
    "print(X.shape)\n",
    "print(y.shape)"
   ]
  },
  {
   "cell_type": "markdown",
   "id": "78d433a7-205f-4362-a9c5-8a59389e7728",
   "metadata": {},
   "source": [
    "Split the data into X_train, y_train, X_test, and y_test train and test sets, avoiding any features that leak data about the target variable, and include 20% of the total data in the test set.\n",
    "\n",
    "Set random_state to 9 whenever you use a function/method involving randomness, for example, when doing a test-train split."
   ]
  },
  {
   "cell_type": "code",
   "execution_count": 14,
   "id": "4652e209-f17f-4001-86a0-1cdc82b5b31b",
   "metadata": {
    "executionCancelledAt": null,
    "executionTime": 52,
    "lastExecutedAt": 1734670695698,
    "lastExecutedByKernel": "5e481a82-6b67-4f9f-b481-d64506efbc1e",
    "lastScheduledRunId": null,
    "lastSuccessfullyExecutedCode": "# Split into training and test set\nX_train, X_test, y_train, y_test = train_test_split(\n    X, y, test_size=0.20, random_state=9)"
   },
   "outputs": [],
   "source": [
    "# Split into training and test set\n",
    "X_train, X_test, y_train, y_test = train_test_split(\n",
    "    X, y, test_size=0.20, random_state=9)"
   ]
  },
  {
   "cell_type": "code",
   "execution_count": 15,
   "id": "a55617a9",
   "metadata": {},
   "outputs": [],
   "source": [
    "from sklearn.preprocessing import StandardScaler\n",
    "\n",
    "# Scale features after splitting\n",
    "sc = StandardScaler()\n",
    "X_train_scaled = sc.fit_transform(X_train)\n",
    "X_test_scaled = sc.transform(X_test)"
   ]
  },
  {
   "cell_type": "code",
   "execution_count": 16,
   "id": "6c2065ac-f91c-4804-90c4-db7dd1d47150",
   "metadata": {
    "executionCancelledAt": null,
    "executionTime": 375,
    "lastExecutedAt": 1734670696073,
    "lastExecutedByKernel": "5e481a82-6b67-4f9f-b481-d64506efbc1e",
    "lastScheduledRunId": null,
    "lastSuccessfullyExecutedCode": "from sklearn.linear_model import Lasso\nfrom sklearn.preprocessing import StandardScaler\n\n# Scale the features\nscaler = StandardScaler()\nX_train_scaled = scaler.fit_transform(X_train)\nX_test_scaled = scaler.transform(X_test)\n\n# Initialize Lasso with alpha (regularization strength) and random_state\nlasso = Lasso(alpha=0.01, random_state=9)\n\n# Fit Lasso regression\nlasso.fit(X_train_scaled, y_train)"
   },
   "outputs": [
    {
     "data": {
      "text/html": [
       "<style>#sk-container-id-1 {\n",
       "  /* Definition of color scheme common for light and dark mode */\n",
       "  --sklearn-color-text: black;\n",
       "  --sklearn-color-line: gray;\n",
       "  /* Definition of color scheme for unfitted estimators */\n",
       "  --sklearn-color-unfitted-level-0: #fff5e6;\n",
       "  --sklearn-color-unfitted-level-1: #f6e4d2;\n",
       "  --sklearn-color-unfitted-level-2: #ffe0b3;\n",
       "  --sklearn-color-unfitted-level-3: chocolate;\n",
       "  /* Definition of color scheme for fitted estimators */\n",
       "  --sklearn-color-fitted-level-0: #f0f8ff;\n",
       "  --sklearn-color-fitted-level-1: #d4ebff;\n",
       "  --sklearn-color-fitted-level-2: #b3dbfd;\n",
       "  --sklearn-color-fitted-level-3: cornflowerblue;\n",
       "\n",
       "  /* Specific color for light theme */\n",
       "  --sklearn-color-text-on-default-background: var(--sg-text-color, var(--theme-code-foreground, var(--jp-content-font-color1, black)));\n",
       "  --sklearn-color-background: var(--sg-background-color, var(--theme-background, var(--jp-layout-color0, white)));\n",
       "  --sklearn-color-border-box: var(--sg-text-color, var(--theme-code-foreground, var(--jp-content-font-color1, black)));\n",
       "  --sklearn-color-icon: #696969;\n",
       "\n",
       "  @media (prefers-color-scheme: dark) {\n",
       "    /* Redefinition of color scheme for dark theme */\n",
       "    --sklearn-color-text-on-default-background: var(--sg-text-color, var(--theme-code-foreground, var(--jp-content-font-color1, white)));\n",
       "    --sklearn-color-background: var(--sg-background-color, var(--theme-background, var(--jp-layout-color0, #111)));\n",
       "    --sklearn-color-border-box: var(--sg-text-color, var(--theme-code-foreground, var(--jp-content-font-color1, white)));\n",
       "    --sklearn-color-icon: #878787;\n",
       "  }\n",
       "}\n",
       "\n",
       "#sk-container-id-1 {\n",
       "  color: var(--sklearn-color-text);\n",
       "}\n",
       "\n",
       "#sk-container-id-1 pre {\n",
       "  padding: 0;\n",
       "}\n",
       "\n",
       "#sk-container-id-1 input.sk-hidden--visually {\n",
       "  border: 0;\n",
       "  clip: rect(1px 1px 1px 1px);\n",
       "  clip: rect(1px, 1px, 1px, 1px);\n",
       "  height: 1px;\n",
       "  margin: -1px;\n",
       "  overflow: hidden;\n",
       "  padding: 0;\n",
       "  position: absolute;\n",
       "  width: 1px;\n",
       "}\n",
       "\n",
       "#sk-container-id-1 div.sk-dashed-wrapped {\n",
       "  border: 1px dashed var(--sklearn-color-line);\n",
       "  margin: 0 0.4em 0.5em 0.4em;\n",
       "  box-sizing: border-box;\n",
       "  padding-bottom: 0.4em;\n",
       "  background-color: var(--sklearn-color-background);\n",
       "}\n",
       "\n",
       "#sk-container-id-1 div.sk-container {\n",
       "  /* jupyter's `normalize.less` sets `[hidden] { display: none; }`\n",
       "     but bootstrap.min.css set `[hidden] { display: none !important; }`\n",
       "     so we also need the `!important` here to be able to override the\n",
       "     default hidden behavior on the sphinx rendered scikit-learn.org.\n",
       "     See: https://github.com/scikit-learn/scikit-learn/issues/21755 */\n",
       "  display: inline-block !important;\n",
       "  position: relative;\n",
       "}\n",
       "\n",
       "#sk-container-id-1 div.sk-text-repr-fallback {\n",
       "  display: none;\n",
       "}\n",
       "\n",
       "div.sk-parallel-item,\n",
       "div.sk-serial,\n",
       "div.sk-item {\n",
       "  /* draw centered vertical line to link estimators */\n",
       "  background-image: linear-gradient(var(--sklearn-color-text-on-default-background), var(--sklearn-color-text-on-default-background));\n",
       "  background-size: 2px 100%;\n",
       "  background-repeat: no-repeat;\n",
       "  background-position: center center;\n",
       "}\n",
       "\n",
       "/* Parallel-specific style estimator block */\n",
       "\n",
       "#sk-container-id-1 div.sk-parallel-item::after {\n",
       "  content: \"\";\n",
       "  width: 100%;\n",
       "  border-bottom: 2px solid var(--sklearn-color-text-on-default-background);\n",
       "  flex-grow: 1;\n",
       "}\n",
       "\n",
       "#sk-container-id-1 div.sk-parallel {\n",
       "  display: flex;\n",
       "  align-items: stretch;\n",
       "  justify-content: center;\n",
       "  background-color: var(--sklearn-color-background);\n",
       "  position: relative;\n",
       "}\n",
       "\n",
       "#sk-container-id-1 div.sk-parallel-item {\n",
       "  display: flex;\n",
       "  flex-direction: column;\n",
       "}\n",
       "\n",
       "#sk-container-id-1 div.sk-parallel-item:first-child::after {\n",
       "  align-self: flex-end;\n",
       "  width: 50%;\n",
       "}\n",
       "\n",
       "#sk-container-id-1 div.sk-parallel-item:last-child::after {\n",
       "  align-self: flex-start;\n",
       "  width: 50%;\n",
       "}\n",
       "\n",
       "#sk-container-id-1 div.sk-parallel-item:only-child::after {\n",
       "  width: 0;\n",
       "}\n",
       "\n",
       "/* Serial-specific style estimator block */\n",
       "\n",
       "#sk-container-id-1 div.sk-serial {\n",
       "  display: flex;\n",
       "  flex-direction: column;\n",
       "  align-items: center;\n",
       "  background-color: var(--sklearn-color-background);\n",
       "  padding-right: 1em;\n",
       "  padding-left: 1em;\n",
       "}\n",
       "\n",
       "\n",
       "/* Toggleable style: style used for estimator/Pipeline/ColumnTransformer box that is\n",
       "clickable and can be expanded/collapsed.\n",
       "- Pipeline and ColumnTransformer use this feature and define the default style\n",
       "- Estimators will overwrite some part of the style using the `sk-estimator` class\n",
       "*/\n",
       "\n",
       "/* Pipeline and ColumnTransformer style (default) */\n",
       "\n",
       "#sk-container-id-1 div.sk-toggleable {\n",
       "  /* Default theme specific background. It is overwritten whether we have a\n",
       "  specific estimator or a Pipeline/ColumnTransformer */\n",
       "  background-color: var(--sklearn-color-background);\n",
       "}\n",
       "\n",
       "/* Toggleable label */\n",
       "#sk-container-id-1 label.sk-toggleable__label {\n",
       "  cursor: pointer;\n",
       "  display: block;\n",
       "  width: 100%;\n",
       "  margin-bottom: 0;\n",
       "  padding: 0.5em;\n",
       "  box-sizing: border-box;\n",
       "  text-align: center;\n",
       "}\n",
       "\n",
       "#sk-container-id-1 label.sk-toggleable__label-arrow:before {\n",
       "  /* Arrow on the left of the label */\n",
       "  content: \"▸\";\n",
       "  float: left;\n",
       "  margin-right: 0.25em;\n",
       "  color: var(--sklearn-color-icon);\n",
       "}\n",
       "\n",
       "#sk-container-id-1 label.sk-toggleable__label-arrow:hover:before {\n",
       "  color: var(--sklearn-color-text);\n",
       "}\n",
       "\n",
       "/* Toggleable content - dropdown */\n",
       "\n",
       "#sk-container-id-1 div.sk-toggleable__content {\n",
       "  max-height: 0;\n",
       "  max-width: 0;\n",
       "  overflow: hidden;\n",
       "  text-align: left;\n",
       "  /* unfitted */\n",
       "  background-color: var(--sklearn-color-unfitted-level-0);\n",
       "}\n",
       "\n",
       "#sk-container-id-1 div.sk-toggleable__content.fitted {\n",
       "  /* fitted */\n",
       "  background-color: var(--sklearn-color-fitted-level-0);\n",
       "}\n",
       "\n",
       "#sk-container-id-1 div.sk-toggleable__content pre {\n",
       "  margin: 0.2em;\n",
       "  border-radius: 0.25em;\n",
       "  color: var(--sklearn-color-text);\n",
       "  /* unfitted */\n",
       "  background-color: var(--sklearn-color-unfitted-level-0);\n",
       "}\n",
       "\n",
       "#sk-container-id-1 div.sk-toggleable__content.fitted pre {\n",
       "  /* unfitted */\n",
       "  background-color: var(--sklearn-color-fitted-level-0);\n",
       "}\n",
       "\n",
       "#sk-container-id-1 input.sk-toggleable__control:checked~div.sk-toggleable__content {\n",
       "  /* Expand drop-down */\n",
       "  max-height: 200px;\n",
       "  max-width: 100%;\n",
       "  overflow: auto;\n",
       "}\n",
       "\n",
       "#sk-container-id-1 input.sk-toggleable__control:checked~label.sk-toggleable__label-arrow:before {\n",
       "  content: \"▾\";\n",
       "}\n",
       "\n",
       "/* Pipeline/ColumnTransformer-specific style */\n",
       "\n",
       "#sk-container-id-1 div.sk-label input.sk-toggleable__control:checked~label.sk-toggleable__label {\n",
       "  color: var(--sklearn-color-text);\n",
       "  background-color: var(--sklearn-color-unfitted-level-2);\n",
       "}\n",
       "\n",
       "#sk-container-id-1 div.sk-label.fitted input.sk-toggleable__control:checked~label.sk-toggleable__label {\n",
       "  background-color: var(--sklearn-color-fitted-level-2);\n",
       "}\n",
       "\n",
       "/* Estimator-specific style */\n",
       "\n",
       "/* Colorize estimator box */\n",
       "#sk-container-id-1 div.sk-estimator input.sk-toggleable__control:checked~label.sk-toggleable__label {\n",
       "  /* unfitted */\n",
       "  background-color: var(--sklearn-color-unfitted-level-2);\n",
       "}\n",
       "\n",
       "#sk-container-id-1 div.sk-estimator.fitted input.sk-toggleable__control:checked~label.sk-toggleable__label {\n",
       "  /* fitted */\n",
       "  background-color: var(--sklearn-color-fitted-level-2);\n",
       "}\n",
       "\n",
       "#sk-container-id-1 div.sk-label label.sk-toggleable__label,\n",
       "#sk-container-id-1 div.sk-label label {\n",
       "  /* The background is the default theme color */\n",
       "  color: var(--sklearn-color-text-on-default-background);\n",
       "}\n",
       "\n",
       "/* On hover, darken the color of the background */\n",
       "#sk-container-id-1 div.sk-label:hover label.sk-toggleable__label {\n",
       "  color: var(--sklearn-color-text);\n",
       "  background-color: var(--sklearn-color-unfitted-level-2);\n",
       "}\n",
       "\n",
       "/* Label box, darken color on hover, fitted */\n",
       "#sk-container-id-1 div.sk-label.fitted:hover label.sk-toggleable__label.fitted {\n",
       "  color: var(--sklearn-color-text);\n",
       "  background-color: var(--sklearn-color-fitted-level-2);\n",
       "}\n",
       "\n",
       "/* Estimator label */\n",
       "\n",
       "#sk-container-id-1 div.sk-label label {\n",
       "  font-family: monospace;\n",
       "  font-weight: bold;\n",
       "  display: inline-block;\n",
       "  line-height: 1.2em;\n",
       "}\n",
       "\n",
       "#sk-container-id-1 div.sk-label-container {\n",
       "  text-align: center;\n",
       "}\n",
       "\n",
       "/* Estimator-specific */\n",
       "#sk-container-id-1 div.sk-estimator {\n",
       "  font-family: monospace;\n",
       "  border: 1px dotted var(--sklearn-color-border-box);\n",
       "  border-radius: 0.25em;\n",
       "  box-sizing: border-box;\n",
       "  margin-bottom: 0.5em;\n",
       "  /* unfitted */\n",
       "  background-color: var(--sklearn-color-unfitted-level-0);\n",
       "}\n",
       "\n",
       "#sk-container-id-1 div.sk-estimator.fitted {\n",
       "  /* fitted */\n",
       "  background-color: var(--sklearn-color-fitted-level-0);\n",
       "}\n",
       "\n",
       "/* on hover */\n",
       "#sk-container-id-1 div.sk-estimator:hover {\n",
       "  /* unfitted */\n",
       "  background-color: var(--sklearn-color-unfitted-level-2);\n",
       "}\n",
       "\n",
       "#sk-container-id-1 div.sk-estimator.fitted:hover {\n",
       "  /* fitted */\n",
       "  background-color: var(--sklearn-color-fitted-level-2);\n",
       "}\n",
       "\n",
       "/* Specification for estimator info (e.g. \"i\" and \"?\") */\n",
       "\n",
       "/* Common style for \"i\" and \"?\" */\n",
       "\n",
       ".sk-estimator-doc-link,\n",
       "a:link.sk-estimator-doc-link,\n",
       "a:visited.sk-estimator-doc-link {\n",
       "  float: right;\n",
       "  font-size: smaller;\n",
       "  line-height: 1em;\n",
       "  font-family: monospace;\n",
       "  background-color: var(--sklearn-color-background);\n",
       "  border-radius: 1em;\n",
       "  height: 1em;\n",
       "  width: 1em;\n",
       "  text-decoration: none !important;\n",
       "  margin-left: 1ex;\n",
       "  /* unfitted */\n",
       "  border: var(--sklearn-color-unfitted-level-1) 1pt solid;\n",
       "  color: var(--sklearn-color-unfitted-level-1);\n",
       "}\n",
       "\n",
       ".sk-estimator-doc-link.fitted,\n",
       "a:link.sk-estimator-doc-link.fitted,\n",
       "a:visited.sk-estimator-doc-link.fitted {\n",
       "  /* fitted */\n",
       "  border: var(--sklearn-color-fitted-level-1) 1pt solid;\n",
       "  color: var(--sklearn-color-fitted-level-1);\n",
       "}\n",
       "\n",
       "/* On hover */\n",
       "div.sk-estimator:hover .sk-estimator-doc-link:hover,\n",
       ".sk-estimator-doc-link:hover,\n",
       "div.sk-label-container:hover .sk-estimator-doc-link:hover,\n",
       ".sk-estimator-doc-link:hover {\n",
       "  /* unfitted */\n",
       "  background-color: var(--sklearn-color-unfitted-level-3);\n",
       "  color: var(--sklearn-color-background);\n",
       "  text-decoration: none;\n",
       "}\n",
       "\n",
       "div.sk-estimator.fitted:hover .sk-estimator-doc-link.fitted:hover,\n",
       ".sk-estimator-doc-link.fitted:hover,\n",
       "div.sk-label-container:hover .sk-estimator-doc-link.fitted:hover,\n",
       ".sk-estimator-doc-link.fitted:hover {\n",
       "  /* fitted */\n",
       "  background-color: var(--sklearn-color-fitted-level-3);\n",
       "  color: var(--sklearn-color-background);\n",
       "  text-decoration: none;\n",
       "}\n",
       "\n",
       "/* Span, style for the box shown on hovering the info icon */\n",
       ".sk-estimator-doc-link span {\n",
       "  display: none;\n",
       "  z-index: 9999;\n",
       "  position: relative;\n",
       "  font-weight: normal;\n",
       "  right: .2ex;\n",
       "  padding: .5ex;\n",
       "  margin: .5ex;\n",
       "  width: min-content;\n",
       "  min-width: 20ex;\n",
       "  max-width: 50ex;\n",
       "  color: var(--sklearn-color-text);\n",
       "  box-shadow: 2pt 2pt 4pt #999;\n",
       "  /* unfitted */\n",
       "  background: var(--sklearn-color-unfitted-level-0);\n",
       "  border: .5pt solid var(--sklearn-color-unfitted-level-3);\n",
       "}\n",
       "\n",
       ".sk-estimator-doc-link.fitted span {\n",
       "  /* fitted */\n",
       "  background: var(--sklearn-color-fitted-level-0);\n",
       "  border: var(--sklearn-color-fitted-level-3);\n",
       "}\n",
       "\n",
       ".sk-estimator-doc-link:hover span {\n",
       "  display: block;\n",
       "}\n",
       "\n",
       "/* \"?\"-specific style due to the `<a>` HTML tag */\n",
       "\n",
       "#sk-container-id-1 a.estimator_doc_link {\n",
       "  float: right;\n",
       "  font-size: 1rem;\n",
       "  line-height: 1em;\n",
       "  font-family: monospace;\n",
       "  background-color: var(--sklearn-color-background);\n",
       "  border-radius: 1rem;\n",
       "  height: 1rem;\n",
       "  width: 1rem;\n",
       "  text-decoration: none;\n",
       "  /* unfitted */\n",
       "  color: var(--sklearn-color-unfitted-level-1);\n",
       "  border: var(--sklearn-color-unfitted-level-1) 1pt solid;\n",
       "}\n",
       "\n",
       "#sk-container-id-1 a.estimator_doc_link.fitted {\n",
       "  /* fitted */\n",
       "  border: var(--sklearn-color-fitted-level-1) 1pt solid;\n",
       "  color: var(--sklearn-color-fitted-level-1);\n",
       "}\n",
       "\n",
       "/* On hover */\n",
       "#sk-container-id-1 a.estimator_doc_link:hover {\n",
       "  /* unfitted */\n",
       "  background-color: var(--sklearn-color-unfitted-level-3);\n",
       "  color: var(--sklearn-color-background);\n",
       "  text-decoration: none;\n",
       "}\n",
       "\n",
       "#sk-container-id-1 a.estimator_doc_link.fitted:hover {\n",
       "  /* fitted */\n",
       "  background-color: var(--sklearn-color-fitted-level-3);\n",
       "}\n",
       "</style><div id=\"sk-container-id-1\" class=\"sk-top-container\"><div class=\"sk-text-repr-fallback\"><pre>Lasso(alpha=0.01, random_state=9)</pre><b>In a Jupyter environment, please rerun this cell to show the HTML representation or trust the notebook. <br />On GitHub, the HTML representation is unable to render, please try loading this page with nbviewer.org.</b></div><div class=\"sk-container\" hidden><div class=\"sk-item\"><div class=\"sk-estimator fitted sk-toggleable\"><input class=\"sk-toggleable__control sk-hidden--visually\" id=\"sk-estimator-id-1\" type=\"checkbox\" checked><label for=\"sk-estimator-id-1\" class=\"sk-toggleable__label fitted sk-toggleable__label-arrow fitted\">&nbsp;&nbsp;Lasso<a class=\"sk-estimator-doc-link fitted\" rel=\"noreferrer\" target=\"_blank\" href=\"https://scikit-learn.org/1.5/modules/generated/sklearn.linear_model.Lasso.html\">?<span>Documentation for Lasso</span></a><span class=\"sk-estimator-doc-link fitted\">i<span>Fitted</span></span></label><div class=\"sk-toggleable__content fitted\"><pre>Lasso(alpha=0.01, random_state=9)</pre></div> </div></div></div></div>"
      ],
      "text/plain": [
       "Lasso(alpha=0.01, random_state=9)"
      ]
     },
     "execution_count": 16,
     "metadata": {},
     "output_type": "execute_result"
    }
   ],
   "source": [
    "from sklearn.linear_model import Lasso\n",
    "\n",
    "# Initialize Lasso\n",
    "lasso = Lasso(alpha=0.01, random_state=9)\n",
    "\n",
    "# Fit Lasso regression\n",
    "lasso.fit(X_train_scaled, y_train)"
   ]
  },
  {
   "cell_type": "markdown",
   "id": "6d82e4a1",
   "metadata": {},
   "source": [
    "### Identify important features"
   ]
  },
  {
   "cell_type": "code",
   "execution_count": 17,
   "id": "0ada1efe-4acb-4908-a2ce-0d7962de6bfe",
   "metadata": {
    "executionCancelledAt": null,
    "executionTime": null,
    "lastExecutedAt": null,
    "lastExecutedByKernel": null,
    "lastScheduledRunId": null,
    "lastSuccessfullyExecutedCode": null,
    "outputsMetadata": {
     "0": {
      "height": 332,
      "type": "stream"
     }
    }
   },
   "outputs": [
    {
     "name": "stdout",
     "output_type": "stream",
     "text": [
      "              Feature  Coefficient\n",
      "0              amount     3.342176\n",
      "5               NC-17     0.043781\n",
      "3              length     0.038711\n",
      "7               PG-13     0.034685\n",
      "13  behind_the_scenes     0.030842\n",
      "6                  PG     0.029347\n",
      "1        release_year     0.021844\n",
      "10           length_2     0.000000\n",
      "4    replacement_cost    -0.012465\n",
      "8                   R    -0.025077\n",
      "12     deleted_scenes    -0.055960\n",
      "11      rental_rate_2    -0.163977\n",
      "9            amount_2    -0.592833\n",
      "2         rental_rate    -1.797527\n"
     ]
    }
   ],
   "source": [
    "# Get the coefficients\n",
    "lasso_coef = lasso.coef_\n",
    "\n",
    "# Display coefficients with corresponding features\n",
    "feature_importance = pd.DataFrame({\n",
    "    'Feature': X.columns,\n",
    "    'Coefficient': lasso_coef\n",
    "}).sort_values(by='Coefficient', ascending=False)\n",
    "\n",
    "print(feature_importance)"
   ]
  },
  {
   "cell_type": "code",
   "execution_count": 18,
   "id": "4742bcd5-7553-4c80-9f6b-1ae3b7879362",
   "metadata": {
    "executionCancelledAt": null,
    "executionTime": 14,
    "lastExecutedAt": 1734671056813,
    "lastExecutedByKernel": "5e481a82-6b67-4f9f-b481-d64506efbc1e",
    "lastScheduledRunId": null,
    "lastSuccessfullyExecutedCode": "# Identify features with non-zero coefficients\nimportant_features = X.columns[lasso_coef > 0].tolist()\nprint(important_features)",
    "outputsMetadata": {
     "0": {
      "height": 38,
      "type": "stream"
     }
    }
   },
   "outputs": [
    {
     "name": "stdout",
     "output_type": "stream",
     "text": [
      "['amount', 'release_year', 'length', 'NC-17', 'PG', 'PG-13', 'behind_the_scenes']\n"
     ]
    }
   ],
   "source": [
    "# Identify features with non-zero coefficients\n",
    "important_features = X.columns[lasso_coef > 0].tolist()\n",
    "print(important_features)"
   ]
  },
  {
   "cell_type": "code",
   "execution_count": 19,
   "id": "b6a2e1c7-a4b6-4638-bacc-9971f8b44803",
   "metadata": {
    "executionCancelledAt": null,
    "executionTime": 786,
    "lastExecutedAt": 1734671084013,
    "lastExecutedByKernel": "5e481a82-6b67-4f9f-b481-d64506efbc1e",
    "lastScheduledRunId": null,
    "lastSuccessfullyExecutedCode": "# Subset training and test data to include only these features\nX_train_important = X_train[important_features]\nX_test_important = X_test[important_features]\n\nprint(X_train_important.shape)\nprint(X_test_important.shape)",
    "outputsMetadata": {
     "0": {
      "height": 59,
      "type": "stream"
     }
    }
   },
   "outputs": [
    {
     "name": "stdout",
     "output_type": "stream",
     "text": [
      "(12688, 7)\n",
      "(3173, 7)\n"
     ]
    }
   ],
   "source": [
    "# Subset training and test data to include only these features\n",
    "X_train_important = X_train[important_features]\n",
    "X_test_important = X_test[important_features]\n",
    "\n",
    "print(X_train_important.shape)\n",
    "print(X_test_important.shape)"
   ]
  },
  {
   "cell_type": "markdown",
   "id": "038df852-a4f2-4e71-bb87-28b080a11959",
   "metadata": {},
   "source": [
    "### Modeling"
   ]
  },
  {
   "cell_type": "markdown",
   "id": "964f4ddf-233c-4ee6-ac1b-86d471f21cf1",
   "metadata": {},
   "source": [
    "Recommend a model yielding a mean squared error (MSE) less than 3 on the test set\n",
    "\n",
    "Save the model you would recommend as a variable named best_model, and save its MSE on the test set as best_mse.\n"
   ]
  },
  {
   "cell_type": "code",
   "execution_count": 20,
   "id": "78e2be85",
   "metadata": {},
   "outputs": [],
   "source": [
    "from sklearn.linear_model import LinearRegression\n",
    "from sklearn.ensemble import RandomForestRegressor\n",
    "from sklearn.tree import DecisionTreeRegressor\n",
    "\n",
    "# Define models \n",
    "models = {\n",
    "    'Linear Regression': LinearRegression(),\n",
    "    'Random Forest': RandomForestRegressor(random_state=9, n_estimators=100),\n",
    "    'Decision Tree': DecisionTreeRegressor(random_state=9, max_depth=10)\n",
    "}"
   ]
  },
  {
   "cell_type": "code",
   "execution_count": 21,
   "id": "3d9185bf",
   "metadata": {},
   "outputs": [
    {
     "name": "stdout",
     "output_type": "stream",
     "text": [
      "Model: Linear Regression\n",
      "Test MSE score: 4.85\n",
      "Model: Random Forest\n",
      "Test MSE score: 2.34\n",
      "Model: Decision Tree\n",
      "Test MSE score: 3.74\n"
     ]
    }
   ],
   "source": [
    "for name, model in models.items():\n",
    "\n",
    "    # Train and predict\n",
    "    model.fit(X_train_important, y_train)\n",
    "    y_pred = model.predict(X_test_important)\n",
    "    \n",
    "    # Evaluate model\n",
    "    mse = round(mean_squared_error(y_test, y_pred),2)\n",
    "\n",
    "    # Append into results\n",
    "    print(f'Model: {name}')\n",
    "    print(f'Test MSE score: {mse}')"
   ]
  },
  {
   "cell_type": "markdown",
   "id": "c8ce0858",
   "metadata": {},
   "source": [
    "Since Random Forest have test MSE score less than 3, we are going to pick this model to do further tuning."
   ]
  },
  {
   "cell_type": "markdown",
   "id": "119f95f4",
   "metadata": {},
   "source": [
    "### Hyperparameter Tuning"
   ]
  },
  {
   "cell_type": "code",
   "execution_count": 24,
   "id": "58abf59b",
   "metadata": {},
   "outputs": [
    {
     "name": "stdout",
     "output_type": "stream",
     "text": [
      "Fitting 5 folds for each of 50 candidates, totalling 250 fits\n",
      "Best parameters: {'n_estimators': 500, 'min_samples_split': 2, 'min_samples_leaf': 1, 'max_depth': None, 'bootstrap': True}\n",
      "Test MSE score: 2.33\n"
     ]
    }
   ],
   "source": [
    "from sklearn.model_selection import RandomizedSearchCV\n",
    "\n",
    "# Define parameter grid\n",
    "param_distributions = {\n",
    "    'n_estimators': [100, 200, 300, 400, 500],\n",
    "    'max_depth': [None, 10, 20, 30],\n",
    "    'min_samples_split': [2, 5, 10],\n",
    "    'min_samples_leaf': [1, 2, 4],\n",
    "    'bootstrap': [True, False]\n",
    "}\n",
    "\n",
    "# Initialize Random Forest\n",
    "model = RandomForestRegressor(random_state=9)\n",
    "\n",
    "# Initialize RandomizedSearchCV\n",
    "random_search = RandomizedSearchCV(\n",
    "    estimator=model,\n",
    "    param_distributions=param_distributions,\n",
    "    n_iter=50,\n",
    "    scoring='neg_mean_squared_error',\n",
    "    cv=5,\n",
    "    random_state=9,\n",
    "    n_jobs=-1,\n",
    "    verbose=2\n",
    ")\n",
    "\n",
    "# Fit the random search\n",
    "random_search.fit(X_train_important, y_train)\n",
    "\n",
    "# Get the best model\n",
    "best_model = random_search.best_estimator_\n",
    "\n",
    "# Predict\n",
    "y_pred = best_model.predict(X_test_important)\n",
    "\n",
    "# Evaluate the best model\n",
    "best_mse = round(mean_squared_error(y_test, y_pred),2)\n",
    "\n",
    "print(f'Best parameters: {random_search.best_params_}')\n",
    "print(f'Test MSE score: {mse}')\n"
   ]
  }
 ],
 "metadata": {
  "colab": {
   "name": "Welcome to DataCamp Workspaces.ipynb",
   "provenance": []
  },
  "kernelspec": {
   "display_name": "Python 3",
   "language": "python",
   "name": "python3"
  },
  "language_info": {
   "codemirror_mode": {
    "name": "ipython",
    "version": 3
   },
   "file_extension": ".py",
   "mimetype": "text/x-python",
   "name": "python",
   "nbconvert_exporter": "python",
   "pygments_lexer": "ipython3",
   "version": "3.12.7"
  }
 },
 "nbformat": 4,
 "nbformat_minor": 5
}
