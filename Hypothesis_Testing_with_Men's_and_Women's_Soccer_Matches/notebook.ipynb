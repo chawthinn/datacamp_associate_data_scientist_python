{
 "cells": [
  {
   "cell_type": "markdown",
   "id": "3ed0edb2-696b-49ab-9db0-681defcce695",
   "metadata": {},
   "source": [
    "You're working as a sports journalist at a major online sports media company, specializing in soccer analysis and reporting. You've been watching both men's and women's international soccer matches for a number of years, and your gut instinct tells you that more goals are scored in women's international football matches than men's. This would make an interesting investigative article that your subscribers are bound to love, but you'll need to perform a valid statistical hypothesis test to be sure!\n",
    "\n",
    "While scoping this project, you acknowledge that the sport has changed a lot over the years, and performances likely vary a lot depending on the tournament, so you decide to limit the data used in the analysis to only official `FIFA World Cup` matches (not including qualifiers) since `2002-01-01`.\n",
    "\n",
    "You create two datasets containing the results of every official men's and women's international football match since the 19th century, which you scraped from a reliable online source. This data is stored in two CSV files: `women_results.csv` and `men_results.csv`.\n",
    "\n",
    "The question you are trying to determine the answer to is:\n",
    "\n",
    "> Are more goals scored in women's international soccer matches than men's?\n",
    "\n",
    "You assume a **10% significance level**, and use the following null and alternative hypotheses:\n",
    "\n",
    "$H_0$ : The mean number of goals scored in women's international soccer matches is the same as men's.\n",
    "\n",
    "$H_A$ : The mean number of goals scored in women's international soccer matches is greater than men's."
   ]
  },
  {
   "cell_type": "code",
   "execution_count": 94,
   "id": "84a3c4c8-534b-4d1a-9919-17e05208b2ca",
   "metadata": {
    "executionCancelledAt": null,
    "executionTime": 12,
    "lastExecutedAt": 1734595240879,
    "lastExecutedByKernel": "adb8eba2-33e1-4dd9-81b6-5c2850a938f6",
    "lastScheduledRunId": null,
    "lastSuccessfullyExecutedCode": "# Start your code here!\nimport pandas as pd"
   },
   "outputs": [],
   "source": [
    "# Start your code here!\n",
    "import pandas as pd"
   ]
  },
  {
   "cell_type": "markdown",
   "id": "5b6a2f93-8554-4815-be92-9d61fd9901ec",
   "metadata": {},
   "source": [
    "### 1. EDA"
   ]
  },
  {
   "cell_type": "code",
   "execution_count": 95,
   "id": "78bff9ba-7319-4fc2-b064-648146e70d76",
   "metadata": {
    "executionCancelledAt": null,
    "executionTime": 58,
    "lastExecutedAt": 1734595240937,
    "lastExecutedByKernel": "adb8eba2-33e1-4dd9-81b6-5c2850a938f6",
    "lastScheduledRunId": null,
    "lastSuccessfullyExecutedCode": "men_df = pd.read_csv('men_results.csv')\nwomen_df = pd.read_csv('women_results.csv')"
   },
   "outputs": [],
   "source": [
    "men_df = pd.read_csv('men_results.csv')\n",
    "women_df = pd.read_csv('women_results.csv')"
   ]
  },
  {
   "cell_type": "code",
   "execution_count": 96,
   "id": "1118eb84-74f7-47d6-999c-4fe91d3846e6",
   "metadata": {
    "executionCancelledAt": null,
    "executionTime": 47,
    "lastExecutedAt": 1734595240986,
    "lastExecutedByKernel": "adb8eba2-33e1-4dd9-81b6-5c2850a938f6",
    "lastScheduledRunId": null,
    "lastSuccessfullyExecutedCode": "print(men_df.head())\nprint(men_df.info())",
    "outputsMetadata": {
     "0": {
      "height": 500,
      "type": "stream"
     }
    }
   },
   "outputs": [
    {
     "name": "stdout",
     "output_type": "stream",
     "text": [
      "   Unnamed: 0        date home_team away_team  home_score  away_score  \\\n",
      "0           0  1872-11-30  Scotland   England           0           0   \n",
      "1           1  1873-03-08   England  Scotland           4           2   \n",
      "2           2  1874-03-07  Scotland   England           2           1   \n",
      "3           3  1875-03-06   England  Scotland           2           2   \n",
      "4           4  1876-03-04  Scotland   England           3           0   \n",
      "\n",
      "  tournament  \n",
      "0   Friendly  \n",
      "1   Friendly  \n",
      "2   Friendly  \n",
      "3   Friendly  \n",
      "4   Friendly  \n",
      "<class 'pandas.core.frame.DataFrame'>\n",
      "RangeIndex: 44353 entries, 0 to 44352\n",
      "Data columns (total 7 columns):\n",
      " #   Column      Non-Null Count  Dtype \n",
      "---  ------      --------------  ----- \n",
      " 0   Unnamed: 0  44353 non-null  int64 \n",
      " 1   date        44353 non-null  object\n",
      " 2   home_team   44353 non-null  object\n",
      " 3   away_team   44353 non-null  object\n",
      " 4   home_score  44353 non-null  int64 \n",
      " 5   away_score  44353 non-null  int64 \n",
      " 6   tournament  44353 non-null  object\n",
      "dtypes: int64(3), object(4)\n",
      "memory usage: 2.4+ MB\n",
      "None\n"
     ]
    }
   ],
   "source": [
    "print(men_df.head())\n",
    "print(men_df.info())"
   ]
  },
  {
   "cell_type": "code",
   "execution_count": 97,
   "id": "cfbf77a1-22f9-4802-934d-0b1c63f6135d",
   "metadata": {
    "executionCancelledAt": null,
    "executionTime": 57,
    "lastExecutedAt": 1734595241043,
    "lastExecutedByKernel": "adb8eba2-33e1-4dd9-81b6-5c2850a938f6",
    "lastScheduledRunId": null,
    "lastSuccessfullyExecutedCode": "print(women_df.head())\nprint(women_df.info())",
    "outputsMetadata": {
     "0": {
      "height": 616,
      "type": "stream"
     }
    }
   },
   "outputs": [
    {
     "name": "stdout",
     "output_type": "stream",
     "text": [
      "   Unnamed: 0        date home_team  away_team  home_score  away_score  \\\n",
      "0           0  1969-11-01     Italy     France           1           0   \n",
      "1           1  1969-11-01   Denmark    England           4           3   \n",
      "2           2  1969-11-02   England     France           2           0   \n",
      "3           3  1969-11-02     Italy    Denmark           3           1   \n",
      "4           4  1975-08-25  Thailand  Australia           3           2   \n",
      "\n",
      "         tournament  \n",
      "0              Euro  \n",
      "1              Euro  \n",
      "2              Euro  \n",
      "3              Euro  \n",
      "4  AFC Championship  \n",
      "<class 'pandas.core.frame.DataFrame'>\n",
      "RangeIndex: 4884 entries, 0 to 4883\n",
      "Data columns (total 7 columns):\n",
      " #   Column      Non-Null Count  Dtype \n",
      "---  ------      --------------  ----- \n",
      " 0   Unnamed: 0  4884 non-null   int64 \n",
      " 1   date        4884 non-null   object\n",
      " 2   home_team   4884 non-null   object\n",
      " 3   away_team   4884 non-null   object\n",
      " 4   home_score  4884 non-null   int64 \n",
      " 5   away_score  4884 non-null   int64 \n",
      " 6   tournament  4884 non-null   object\n",
      "dtypes: int64(3), object(4)\n",
      "memory usage: 267.2+ KB\n",
      "None\n"
     ]
    }
   ],
   "source": [
    "print(women_df.head())\n",
    "print(women_df.info())"
   ]
  },
  {
   "cell_type": "code",
   "execution_count": 98,
   "id": "0cfda6c5-653c-41e4-a98d-ed0801811d2a",
   "metadata": {
    "executionCancelledAt": null,
    "executionTime": 59,
    "lastExecutedAt": 1734595241102,
    "lastExecutedByKernel": "adb8eba2-33e1-4dd9-81b6-5c2850a938f6",
    "lastScheduledRunId": null,
    "lastSuccessfullyExecutedCode": "# Remove the unnamed columns\nmen_df = men_df.iloc[:,1:]\nwomen_df = women_df.iloc[:,1:]"
   },
   "outputs": [],
   "source": [
    "# Remove the unnamed columns\n",
    "men_df = men_df.iloc[:,1:]\n",
    "women_df = women_df.iloc[:,1:]"
   ]
  },
  {
   "cell_type": "code",
   "execution_count": 99,
   "id": "6e2cd235-04ef-47dd-8efd-617c981e46ad",
   "metadata": {
    "executionCancelledAt": null,
    "executionTime": 57,
    "lastExecutedAt": 1734595241159,
    "lastExecutedByKernel": "adb8eba2-33e1-4dd9-81b6-5c2850a938f6",
    "lastScheduledRunId": null,
    "lastSuccessfullyExecutedCode": "4884 + 44353"
   },
   "outputs": [
    {
     "data": {
      "text/plain": [
       "49237"
      ]
     },
     "execution_count": 99,
     "metadata": {},
     "output_type": "execute_result"
    }
   ],
   "source": [
    "4884 + 44353"
   ]
  },
  {
   "cell_type": "code",
   "execution_count": 100,
   "id": "ca293778",
   "metadata": {},
   "outputs": [
    {
     "name": "stdout",
     "output_type": "stream",
     "text": [
      "         date home_team away_team  home_score  away_score tournament category\n",
      "0  1872-11-30  Scotland   England           0           0   Friendly      men\n",
      "1  1873-03-08   England  Scotland           4           2   Friendly      men\n",
      "2  1874-03-07  Scotland   England           2           1   Friendly      men\n",
      "3  1875-03-06   England  Scotland           2           2   Friendly      men\n",
      "4  1876-03-04  Scotland   England           3           0   Friendly      men\n",
      "         date home_team  away_team  home_score  away_score        tournament  \\\n",
      "0  1969-11-01     Italy     France           1           0              Euro   \n",
      "1  1969-11-01   Denmark    England           4           3              Euro   \n",
      "2  1969-11-02   England     France           2           0              Euro   \n",
      "3  1969-11-02     Italy    Denmark           3           1              Euro   \n",
      "4  1975-08-25  Thailand  Australia           3           2  AFC Championship   \n",
      "\n",
      "  category  \n",
      "0    women  \n",
      "1    women  \n",
      "2    women  \n",
      "3    women  \n",
      "4    women  \n"
     ]
    }
   ],
   "source": [
    "# Add new col \"category\" to identify men or women matches\n",
    "men_df['category'] = \"men\"\n",
    "women_df['category'] = \"women\"\n",
    "\n",
    "# Verify the df\n",
    "print(men_df.head())\n",
    "print(women_df.head())"
   ]
  },
  {
   "cell_type": "code",
   "execution_count": 101,
   "id": "1fb1ef8e",
   "metadata": {},
   "outputs": [
    {
     "name": "stdout",
     "output_type": "stream",
     "text": [
      "         date home_team away_team  home_score  away_score tournament category  \\\n",
      "0  1872-11-30  Scotland   England           0           0   Friendly      men   \n",
      "1  1873-03-08   England  Scotland           4           2   Friendly      men   \n",
      "2  1874-03-07  Scotland   England           2           1   Friendly      men   \n",
      "3  1875-03-06   England  Scotland           2           2   Friendly      men   \n",
      "4  1876-03-04  Scotland   England           3           0   Friendly      men   \n",
      "\n",
      "   total_score  \n",
      "0            0  \n",
      "1            6  \n",
      "2            3  \n",
      "3            4  \n",
      "4            3  \n",
      "         date home_team  away_team  home_score  away_score        tournament  \\\n",
      "0  1969-11-01     Italy     France           1           0              Euro   \n",
      "1  1969-11-01   Denmark    England           4           3              Euro   \n",
      "2  1969-11-02   England     France           2           0              Euro   \n",
      "3  1969-11-02     Italy    Denmark           3           1              Euro   \n",
      "4  1975-08-25  Thailand  Australia           3           2  AFC Championship   \n",
      "\n",
      "  category  total_score  \n",
      "0    women            1  \n",
      "1    women            7  \n",
      "2    women            2  \n",
      "3    women            4  \n",
      "4    women            5  \n"
     ]
    }
   ],
   "source": [
    "# Add new col \"total_score\" to combine home_score and away_score\n",
    "men_df['total_score'] = men_df['home_score'] + men_df['away_score']\n",
    "women_df['total_score'] = women_df['home_score'] + women_df['away_score']\n",
    "\n",
    "# Verify the df\n",
    "print(men_df.head())\n",
    "print(women_df.head())"
   ]
  },
  {
   "cell_type": "code",
   "execution_count": 102,
   "id": "596c9c0d-df84-4769-bd90-a3295606b1f4",
   "metadata": {
    "executionCancelledAt": null,
    "executionTime": 56,
    "lastExecutedAt": 1734595241215,
    "lastExecutedByKernel": "adb8eba2-33e1-4dd9-81b6-5c2850a938f6",
    "lastScheduledRunId": null,
    "lastSuccessfullyExecutedCode": "# Merge the two DataFrames by stacking rows\ncombined_df = pd.concat([men_df, women_df], ignore_index=True)\n\n# Verify the result\nprint(combined_df.shape)",
    "outputsMetadata": {
     "0": {
      "height": 38,
      "type": "stream"
     }
    }
   },
   "outputs": [
    {
     "name": "stdout",
     "output_type": "stream",
     "text": [
      "(49237, 8)\n"
     ]
    }
   ],
   "source": [
    "# Merge the two DataFrames by stacking rows\n",
    "combined_df = pd.concat([men_df, women_df], ignore_index=True)\n",
    "\n",
    "# Verify the result\n",
    "print(combined_df.shape)"
   ]
  },
  {
   "cell_type": "code",
   "execution_count": 103,
   "id": "e99ec0aa-b34b-4570-a985-ec2f3a268753",
   "metadata": {
    "executionCancelledAt": null,
    "executionTime": 59,
    "lastExecutedAt": 1734595241274,
    "lastExecutedByKernel": "adb8eba2-33e1-4dd9-81b6-5c2850a938f6",
    "lastScheduledRunId": null,
    "lastSuccessfullyExecutedCode": "categorical_columns = ['home_team', 'away_team', 'tournament']\n\nfor col in categorical_columns:\n    print(combined_df[col].value_counts())\n    print()",
    "outputsMetadata": {
     "0": {
      "height": 616,
      "type": "stream"
     }
    }
   },
   "outputs": [
    {
     "name": "stdout",
     "output_type": "stream",
     "text": [
      "home_team\n",
      "United States                715\n",
      "Germany                      692\n",
      "Sweden                       677\n",
      "Brazil                       672\n",
      "England                      633\n",
      "                            ... \n",
      "Romani people                  1\n",
      "Kabylia                        1\n",
      "Saint Pierre and Miquelon      1\n",
      "Madrid                         1\n",
      "Sark                           1\n",
      "Name: count, Length: 319, dtype: int64\n",
      "\n",
      "away_team\n",
      "Sweden           692\n",
      "England          625\n",
      "Germany          582\n",
      "Uruguay          572\n",
      "Norway           567\n",
      "                ... \n",
      "India N            1\n",
      "Asturias           1\n",
      "Manchukuo          1\n",
      "Surrey             1\n",
      "Central Spain      1\n",
      "Name: count, Length: 312, dtype: int64\n",
      "\n",
      "tournament\n",
      "Friendly                                17630\n",
      "FIFA World Cup qualification             8050\n",
      "UEFA Euro qualification                  4030\n",
      "African Cup of Nations qualification     1990\n",
      "FIFA World Cup                           1248\n",
      "                                        ...  \n",
      "FIFA 75th Anniversary Cup                   1\n",
      "TIFOCO Tournament                           1\n",
      "Real Madrid 75th Anniversary Cup            1\n",
      "Évence Coppée Trophy                        1\n",
      "Copa Confraternidad                         1\n",
      "Name: count, Length: 159, dtype: int64\n",
      "\n"
     ]
    }
   ],
   "source": [
    "categorical_columns = ['home_team', 'away_team', 'tournament']\n",
    "\n",
    "for col in categorical_columns:\n",
    "    print(combined_df[col].value_counts())\n",
    "    print()"
   ]
  },
  {
   "cell_type": "markdown",
   "id": "b8ca77c9-d657-4b3d-b33b-12b16fcee3f9",
   "metadata": {},
   "source": [
    "### 2. Filter the data"
   ]
  },
  {
   "cell_type": "code",
   "execution_count": 104,
   "id": "c316c13d-598d-4343-92ec-9f5a838cbb0c",
   "metadata": {
    "executionCancelledAt": null,
    "executionTime": 52,
    "lastExecutedAt": 1734595241326,
    "lastExecutedByKernel": "adb8eba2-33e1-4dd9-81b6-5c2850a938f6",
    "lastScheduledRunId": null,
    "lastSuccessfullyExecutedCode": "# Subset only FIFA World Cup matches\nfifa_matches = combined_df[combined_df['tournament'] == 'FIFA World Cup']"
   },
   "outputs": [],
   "source": [
    "# Subset only FIFA World Cup matches\n",
    "fifa_matches = combined_df[combined_df['tournament'] == 'FIFA World Cup']"
   ]
  },
  {
   "cell_type": "code",
   "execution_count": 105,
   "id": "adb4791a-2c0b-45d2-9f8c-4b8250603ccd",
   "metadata": {
    "executionCancelledAt": null,
    "executionTime": 68,
    "lastExecutedAt": 1734595241394,
    "lastExecutedByKernel": "adb8eba2-33e1-4dd9-81b6-5c2850a938f6",
    "lastScheduledRunId": null,
    "lastSuccessfullyExecutedCode": "# Verify the result\nprint(fifa_matches.info())\nprint(fifa_matches.head())",
    "outputsMetadata": {
     "0": {
      "height": 479,
      "type": "stream"
     }
    }
   },
   "outputs": [
    {
     "name": "stdout",
     "output_type": "stream",
     "text": [
      "<class 'pandas.core.frame.DataFrame'>\n",
      "Index: 1248 entries, 1311 to 48822\n",
      "Data columns (total 8 columns):\n",
      " #   Column       Non-Null Count  Dtype \n",
      "---  ------       --------------  ----- \n",
      " 0   date         1248 non-null   object\n",
      " 1   home_team    1248 non-null   object\n",
      " 2   away_team    1248 non-null   object\n",
      " 3   home_score   1248 non-null   int64 \n",
      " 4   away_score   1248 non-null   int64 \n",
      " 5   tournament   1248 non-null   object\n",
      " 6   category     1248 non-null   object\n",
      " 7   total_score  1248 non-null   int64 \n",
      "dtypes: int64(3), object(5)\n",
      "memory usage: 87.8+ KB\n",
      "None\n",
      "            date  home_team      away_team  home_score  away_score  \\\n",
      "1311  1930-07-13    Belgium  United States           0           3   \n",
      "1312  1930-07-13     France         Mexico           4           1   \n",
      "1313  1930-07-14     Brazil     Yugoslavia           1           2   \n",
      "1314  1930-07-14       Peru        Romania           1           3   \n",
      "1315  1930-07-15  Argentina         France           1           0   \n",
      "\n",
      "          tournament category  total_score  \n",
      "1311  FIFA World Cup      men            3  \n",
      "1312  FIFA World Cup      men            5  \n",
      "1313  FIFA World Cup      men            3  \n",
      "1314  FIFA World Cup      men            4  \n",
      "1315  FIFA World Cup      men            1  \n"
     ]
    }
   ],
   "source": [
    "# Verify the result\n",
    "print(fifa_matches.info())\n",
    "print(fifa_matches.head())"
   ]
  },
  {
   "cell_type": "code",
   "execution_count": 106,
   "id": "829a49a2-8fa1-4f4a-a30b-6e5a5102c888",
   "metadata": {
    "executionCancelledAt": null,
    "executionTime": 52,
    "lastExecutedAt": 1734595241446,
    "lastExecutedByKernel": "adb8eba2-33e1-4dd9-81b6-5c2850a938f6",
    "lastScheduledRunId": null,
    "lastSuccessfullyExecutedCode": "# Filter for matches after 2002-01-01\nfifa_matches = fifa_matches[fifa_matches['date'] >= '2002-01-01']"
   },
   "outputs": [],
   "source": [
    "# Filter for matches after 2002-01-01\n",
    "fifa_matches = fifa_matches[fifa_matches['date'] >= '2002-01-01']"
   ]
  },
  {
   "cell_type": "code",
   "execution_count": 107,
   "id": "04917530-c308-4c4f-8380-d69baeb0f826",
   "metadata": {
    "executionCancelledAt": null,
    "executionTime": 64,
    "lastExecutedAt": 1734595241510,
    "lastExecutedByKernel": "adb8eba2-33e1-4dd9-81b6-5c2850a938f6",
    "lastScheduledRunId": null,
    "lastSuccessfullyExecutedCode": "# Verify the result\nprint(fifa_matches.info())\nprint(fifa_matches.head())",
    "outputsMetadata": {
     "0": {
      "height": 479,
      "type": "stream"
     }
    }
   },
   "outputs": [
    {
     "name": "stdout",
     "output_type": "stream",
     "text": [
      "<class 'pandas.core.frame.DataFrame'>\n",
      "Index: 584 entries, 25164 to 48822\n",
      "Data columns (total 8 columns):\n",
      " #   Column       Non-Null Count  Dtype \n",
      "---  ------       --------------  ----- \n",
      " 0   date         584 non-null    object\n",
      " 1   home_team    584 non-null    object\n",
      " 2   away_team    584 non-null    object\n",
      " 3   home_score   584 non-null    int64 \n",
      " 4   away_score   584 non-null    int64 \n",
      " 5   tournament   584 non-null    object\n",
      " 6   category     584 non-null    object\n",
      " 7   total_score  584 non-null    int64 \n",
      "dtypes: int64(3), object(5)\n",
      "memory usage: 41.1+ KB\n",
      "None\n",
      "             date            home_team     away_team  home_score  away_score  \\\n",
      "25164  2002-05-31               France       Senegal           0           1   \n",
      "25165  2002-06-01              Germany  Saudi Arabia           8           0   \n",
      "25166  2002-06-01  Republic of Ireland      Cameroon           1           1   \n",
      "25167  2002-06-01              Uruguay       Denmark           1           2   \n",
      "25168  2002-06-02            Argentina       Nigeria           1           0   \n",
      "\n",
      "           tournament category  total_score  \n",
      "25164  FIFA World Cup      men            1  \n",
      "25165  FIFA World Cup      men            8  \n",
      "25166  FIFA World Cup      men            2  \n",
      "25167  FIFA World Cup      men            3  \n",
      "25168  FIFA World Cup      men            1  \n"
     ]
    }
   ],
   "source": [
    "# Verify the result\n",
    "print(fifa_matches.info())\n",
    "print(fifa_matches.head())"
   ]
  },
  {
   "cell_type": "markdown",
   "id": "62cce07c-911e-4e25-8744-d644905d45a9",
   "metadata": {},
   "source": [
    "### 3. Choose the correct hypothesis test"
   ]
  },
  {
   "cell_type": "markdown",
   "id": "2e95750b",
   "metadata": {},
   "source": [
    "Use EDA to determine the appropriate hypothesis test for this dataset and scenario.\n",
    "\n",
    "Determining the type of hypothesis test\n",
    "- Because there are two independent groups, men's and women's, this scenario requires an unpaired two-sample test.\n",
    "- An unpaired t-test and a Wilcoxon-Mann-Whitney test are the two most commmon two-sample tests, where the Wilcoxon-Mann-Whitney test is a non-parametric version of the unpaired t-test.\n",
    "- To determine if a parametric or non-parametric test is appropriate, you'll need to verify the underlying assumptions of parametric tests, including checking the sample size in each group and the normality of each distribution."
   ]
  },
  {
   "cell_type": "code",
   "execution_count": 108,
   "id": "f4a11a1f-bced-4b43-a796-1fb0995b8b3e",
   "metadata": {
    "executionCancelledAt": null,
    "executionTime": 48,
    "lastExecutedAt": 1734595241558,
    "lastExecutedByKernel": "adb8eba2-33e1-4dd9-81b6-5c2850a938f6",
    "lastScheduledRunId": null,
    "lastSuccessfullyExecutedCode": ""
   },
   "outputs": [
    {
     "name": "stdout",
     "output_type": "stream",
     "text": [
      "<class 'pandas.core.series.Series'>\n",
      "Index: 384 entries, 25164 to 44352\n",
      "Series name: total_score\n",
      "Non-Null Count  Dtype\n",
      "--------------  -----\n",
      "384 non-null    int64\n",
      "dtypes: int64(1)\n",
      "memory usage: 6.0 KB\n",
      "None\n",
      "<class 'pandas.core.series.Series'>\n",
      "Index: 200 entries, 45953 to 48822\n",
      "Series name: total_score\n",
      "Non-Null Count  Dtype\n",
      "--------------  -----\n",
      "200 non-null    int64\n",
      "dtypes: int64(1)\n",
      "memory usage: 3.1 KB\n",
      "None\n"
     ]
    }
   ],
   "source": [
    "# Separate men and women goals from filtered df\n",
    "men_goals = fifa_matches[fifa_matches['category'] == 'men']['total_score']\n",
    "women_goals = fifa_matches[fifa_matches['category'] == 'women']['total_score']\n",
    "\n",
    "# Verify\n",
    "print(men_goals.info())\n",
    "print(women_goals.info())"
   ]
  },
  {
   "cell_type": "code",
   "execution_count": 109,
   "id": "614b8f11",
   "metadata": {},
   "outputs": [
    {
     "name": "stdout",
     "output_type": "stream",
     "text": [
      "384 200\n"
     ]
    }
   ],
   "source": [
    "# Check the sample size in each group\n",
    "print(len(men_goals), len(women_goals))"
   ]
  },
  {
   "cell_type": "markdown",
   "id": "139c027a",
   "metadata": {},
   "source": [
    "#### Plot histogram to check goals distribution\n"
   ]
  },
  {
   "cell_type": "code",
   "execution_count": 110,
   "id": "9f8f2caa",
   "metadata": {},
   "outputs": [
    {
     "data": {
      "image/png": "[encoded data removed]",
      "text/plain": [
       "<Figure size 640x480 with 1 Axes>"
      ]
     },
     "metadata": {},
     "output_type": "display_data"
    }
   ],
   "source": [
    "# Check the normality of each group distribution\n",
    "import matplotlib.pyplot as plt\n",
    "\n",
    "plt.hist(men_goals, bins=20, alpha=0.5, label='Men')\n",
    "plt.hist(women_goals, bins=20, alpha=0.5, label='Women')\n",
    "plt.legend()\n",
    "plt.title('Goals Scored Distribution')\n",
    "plt.show()"
   ]
  },
  {
   "cell_type": "markdown",
   "id": "939b43b5",
   "metadata": {},
   "source": [
    "#### Kolmogorov–Smirnov Test"
   ]
  },
  {
   "cell_type": "code",
   "execution_count": 111,
   "id": "76acb3d3",
   "metadata": {},
   "outputs": [
    {
     "name": "stdout",
     "output_type": "stream",
     "text": [
      "Kolmogorov-Smirnov Test for Men:\n",
      "0.1611044685335501 3.5612439281978236e-09\n",
      "Kolmogorov-Smirnov Test for Women:\n",
      "0.2232077189193953 3.1042127086142515e-09\n"
     ]
    }
   ],
   "source": [
    "import numpy as np\n",
    "from scipy import stats\n",
    "from scipy.stats import kstest\n",
    "\n",
    "# Parameters\n",
    "rvs_men = men_goals # sample to test\n",
    "rvs_women = women_goals # sample to test\n",
    "cdf = 'norm' # test against a normal distribution\n",
    "# args(mean,std) to adjust normal distribution to match sample's parameters\n",
    "mean_men = np.mean(rvs_men)\n",
    "std_men = np.std(rvs_men)\n",
    "mean_women = np.mean(rvs_women)\n",
    "std_women = np.mean(rvs_women)\n",
    "\n",
    "# Run the Kolmogorov–Smirnov test for both groups\n",
    "stat_men, p_men = kstest(rvs_men, 'norm', args=(mean_men,std_men))\n",
    "print(\"Kolmogorov-Smirnov Test for Men:\")\n",
    "print(stat_men, p_men)\n",
    "stat_women, p_women = kstest(rvs_women, 'norm', args=(mean_women,std_women))\n",
    "print(f\"Kolmogorov-Smirnov Test for Women:\")\n",
    "print(stat_women, p_women)"
   ]
  },
  {
   "cell_type": "markdown",
   "id": "27f0bf78",
   "metadata": {},
   "source": [
    "#### Shapiro–Wilk test"
   ]
  },
  {
   "cell_type": "code",
   "execution_count": 112,
   "id": "a3812b63",
   "metadata": {},
   "outputs": [
    {
     "name": "stdout",
     "output_type": "stream",
     "text": [
      "Kolmogorov-Smirnov Test for Men:\n",
      "0.9266493059134338 8.894989197030093e-13\n",
      "Kolmogorov-Smirnov Test for Women:\n",
      "0.8491019332746058 3.8908293844628985e-13\n"
     ]
    }
   ],
   "source": [
    "from scipy.stats import shapiro\n",
    "\n",
    "# Run the Shapiro–Wilk test for both groups\n",
    "stat_men, p_men = shapiro(men_goals)\n",
    "print(\"Kolmogorov-Smirnov Test for Men:\")\n",
    "print(stat_men, p_men)\n",
    "stat_women, p_women = shapiro(women_goals)\n",
    "print(\"Kolmogorov-Smirnov Test for Women:\")\n",
    "print(stat_women, p_women)"
   ]
  },
  {
   "cell_type": "markdown",
   "id": "8914e10f",
   "metadata": {},
   "source": [
    "#### Observation:\n",
    "\n",
    "From both Kolmogorov–Smirnov and Shapiro–Wilk tests, we can see the p_value results for both samples. \n",
    "\n",
    "And p-value determines whether the data follows a normal distribution where:\n",
    "- p-value < 0.05: Reject the null hypothesis (the data is not normally distributed).\n",
    "- p-value ≥ 0.05: Fail to reject the null hypothesis (the data is normally distributed).\n",
    "\n",
    "Hence, we can conclude that both samples `men_goals` and `women_goals` are not normally distributed given that p_men and p_women are less than 0.05. "
   ]
  },
  {
   "cell_type": "markdown",
   "id": "552628c8",
   "metadata": {},
   "source": [
    "### 4. Perform the hypothesis test"
   ]
  },
  {
   "cell_type": "markdown",
   "id": "ca1d50f5",
   "metadata": {},
   "source": [
    "#### Wilcoxon-Mann-Whitney test"
   ]
  },
  {
   "cell_type": "code",
   "execution_count": 113,
   "id": "2fa888c2",
   "metadata": {},
   "outputs": [
    {
     "name": "stdout",
     "output_type": "stream",
     "text": [
      "       U-val alternative     p-val       RBC      CLES\n",
      "MWU  43273.0     greater  0.005107  0.126901  0.563451\n"
     ]
    }
   ],
   "source": [
    "# Using pingouin.mwu() \n",
    "import pingouin as pg\n",
    "\n",
    "# Set 10% Significance level\n",
    "alpha = 0.10  \n",
    "\n",
    "# Perform the one-sided Mann-Whitney U Test\n",
    "mwu_result = pg.mwu(x=women_goals, y=men_goals, alternative='greater') # Testing if women > men\n",
    "print(mwu_result) # print the output dataframe"
   ]
  },
  {
   "cell_type": "code",
   "execution_count": 114,
   "id": "1164c28a",
   "metadata": {},
   "outputs": [
    {
     "name": "stdout",
     "output_type": "stream",
     "text": [
      "Result of first test: p-value is 0.005106609825443641\n",
      "Hence, reject the H0\n"
     ]
    }
   ],
   "source": [
    "# Extract the scalar value from the Series: mwu_result['p-val']\n",
    "p_value = mwu_result['p-val'].values[0]\n",
    "\n",
    "# Interpret the p-value\n",
    "if p_value < alpha:\n",
    "    result = 'reject'\n",
    "else:\n",
    "    result = 'fail to reject'\n",
    "\n",
    "# Store the results\n",
    "print(f\"Result of first test: p-value is {p_value}\")\n",
    "result_dict = {'p_value': p_value, 'result': result}\n",
    "print(f\"Hence, {result_dict['result']} the H0\")"
   ]
  },
  {
   "cell_type": "code",
   "execution_count": 115,
   "id": "033fc174",
   "metadata": {},
   "outputs": [
    {
     "name": "stdout",
     "output_type": "stream",
     "text": [
      "43273.0 0.005106609825443641\n"
     ]
    }
   ],
   "source": [
    "# Using scipy.stats.mannwhitneyu()\n",
    "from scipy.stats import mannwhitneyu\n",
    "\n",
    "# Set 10% Significance level\n",
    "alpha = 0.10  \n",
    "\n",
    "# Perform the one-sided Mann-Whitney U Test\n",
    "test_stat, p_value = mannwhitneyu(women_goals, men_goals, alternative='greater')\n",
    "print(test_stat, p_value)"
   ]
  },
  {
   "cell_type": "code",
   "execution_count": 116,
   "id": "f5aa1141",
   "metadata": {},
   "outputs": [
    {
     "name": "stdout",
     "output_type": "stream",
     "text": [
      "Result of second test: p-value is 0.005106609825443641\n",
      "Hence, reject the H0\n"
     ]
    }
   ],
   "source": [
    "# Interpret the p-value\n",
    "if p_value < alpha:\n",
    "    result = 'reject'\n",
    "else:\n",
    "    result = 'fail to reject'\n",
    "\n",
    "# Store the results\n",
    "print(f\"Result of second test: p-value is {p_value}\")\n",
    "result_dict = {'p_value': p_value, 'result': result}\n",
    "print(f\"Hence, {result_dict['result']} the H0\")"
   ]
  },
  {
   "cell_type": "markdown",
   "id": "2b5d5b4f",
   "metadata": {},
   "source": [
    "### Interpret the result of the hypothesis test"
   ]
  },
  {
   "cell_type": "markdown",
   "id": "9ce592c0",
   "metadata": {},
   "source": [
    "As instructed, we used these hypotheses:\n",
    "\n",
    "- $H_0$ : The mean number of goals scored in women's international soccer matches is the same as men's.\n",
    "- $H_A$ : The mean number of goals scored in women's international soccer matches is greater than men's.\n",
    "\n",
    "We then interpret the result of the hypothesis tests based on the p-values:\n",
    "\n",
    "- p-value < 0.10, we have to **reject** the null hypothesis\n",
    "- p-value ≥ 0.10, we **fail to reject** the null hypothesis\n",
    "\n",
    "**Conclusion**\n",
    "\n",
    "Since both results stated to reject the null hypothesis, we can conclude that the goals scored in women's international soccer matches is greater than men's."
   ]
  }
 ],
 "metadata": {
  "colab": {
   "name": "Welcome to DataCamp Workspaces.ipynb",
   "provenance": []
  },
  "kernelspec": {
   "display_name": "Python 3",
   "language": "python",
   "name": "python3"
  },
  "language_info": {
   "codemirror_mode": {
    "name": "ipython",
    "version": 3
   },
   "file_extension": ".py",
   "mimetype": "text/x-python",
   "name": "python",
   "nbconvert_exporter": "python",
   "pygments_lexer": "ipython3",
   "version": "3.12.7"
  }
 },
 "nbformat": 4,
 "nbformat_minor": 5
}
