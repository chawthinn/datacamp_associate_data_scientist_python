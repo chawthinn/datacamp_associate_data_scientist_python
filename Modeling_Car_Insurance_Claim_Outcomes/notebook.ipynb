{
 "cells": [
  {
   "attachments": {},
   "cell_type": "markdown",
   "id": "c3f0e974-faf8-458f-bf2a-06a469d0ea5e",
   "metadata": {},
   "source": [
    "<center><img src=\"car.jpg\" width=500></center>\n",
    "\n",
    "\n",
    "Insurance companies invest a lot of time and money into optimizing their pricing and accurately estimating the likelihood that customers will make a claim. In many countries insurance it is a legal requirement to have car insurance in order to drive a vehicle on public roads, so the market is very large!\n",
    "\n",
    "(`Source: https://www.accenture.com/_acnmedia/pdf-84/accenture-machine-leaning-insurance.pdf`) \n",
    "\n",
    "Knowing all of this, On the Road car insurance have requested your services in building a model to predict whether a customer will make a claim on their insurance during the policy period. As they have very little expertise and infrastructure for deploying and monitoring machine learning models, they've asked you to identify the single feature that results in the best performing model, as measured by accuracy, so they can start with a simple model in production.\n",
    "\n",
    "They have supplied you with their customer data as a csv file called `car_insurance.csv`, along with a table detailing the column names and descriptions below."
   ]
  },
  {
   "cell_type": "markdown",
   "id": "8928ffdf-25d6-4ad9-909f-0dd8d10b9a42",
   "metadata": {},
   "source": [
    "\n",
    "\n",
    "## The dataset\n",
    "\n",
    "| Column | Description |\n",
    "|--------|-------------|\n",
    "| `id` | Unique client identifier |\n",
    "| `age` | Client's age: <br> <ul><li>`0`: 16-25</li><li>`1`: 26-39</li><li>`2`: 40-64</li><li>`3`: 65+</li></ul> |\n",
    "| `gender` | Client's gender: <br> <ul><li>`0`: Female</li><li>`1`: Male</li></ul> |\n",
    "| `driving_experience` | Years the client has been driving: <br> <ul><li>`0`: 0-9</li><li>`1`: 10-19</li><li>`2`: 20-29</li><li>`3`: 30+</li></ul> |\n",
    "| `education` | Client's level of education: <br> <ul><li>`0`: No education</li><li>`1`: High school</li><li>`2`: University</li></ul> |\n",
    "| `income` | Client's income level: <br> <ul><li>`0`: Poverty</li><li>`1`: Working class</li><li>`2`: Middle class</li><li>`3`: Upper class</li></ul> |\n",
    "| `credit_score` | Client's credit score (between zero and one) |\n",
    "| `vehicle_ownership` | Client's vehicle ownership status: <br><ul><li>`0`: Does not own their vehilce (paying off finance)</li><li>`1`: Owns their vehicle</li></ul> |\n",
    "| `vehcile_year` | Year of vehicle registration: <br><ul><li>`0`: Before 2015</li><li>`1`: 2015 or later</li></ul> |\n",
    "| `married` | Client's marital status: <br><ul><li>`0`: Not married</li><li>`1`: Married</li></ul> |\n",
    "| `children` | Client's number of children |\n",
    "| `postal_code` | Client's postal code | \n",
    "| `annual_mileage` | Number of miles driven by the client each year |\n",
    "| `vehicle_type` | Type of car: <br> <ul><li>`0`: Sedan</li><li>`1`: Sports car</li></ul> |\n",
    "| `speeding_violations` | Total number of speeding violations received by the client | \n",
    "| `duis` | Number of times the client has been caught driving under the influence of alcohol |\n",
    "| `past_accidents` | Total number of previous accidents the client has been involved in |\n",
    "| `outcome` | Whether the client made a claim on their car insurance (response variable): <br><ul><li>`0`: No claim</li><li>`1`: Made a claim</li></ul> |"
   ]
  },
  {
   "cell_type": "code",
   "execution_count": 34,
   "id": "d0eb4f16-5a99-460d-a5ba-706b7ef0bbe7",
   "metadata": {
    "executionCancelledAt": null,
    "executionTime": 13,
    "id": "bA5ajAmk7XH6",
    "lastExecutedAt": 1734556986936,
    "lastExecutedByKernel": "27be2f09-c527-46b8-8cc6-828205ba8bbe",
    "lastScheduledRunId": null,
    "lastSuccessfullyExecutedCode": "# Import required modules\nimport pandas as pd\nimport numpy as np\nfrom statsmodels.formula.api import logit\n\n# Start coding!"
   },
   "outputs": [],
   "source": [
    "# Import required modules\n",
    "import pandas as pd\n",
    "import numpy as np\n",
    "from statsmodels.formula.api import logit\n",
    "\n",
    "# Start coding!"
   ]
  },
  {
   "cell_type": "markdown",
   "id": "68007a7a-a017-4dd2-bc40-404237c39eb5",
   "metadata": {},
   "source": [
    "### Load Data and Explore"
   ]
  },
  {
   "cell_type": "code",
   "execution_count": 35,
   "id": "9b3bc640-669d-4bb1-89e6-ae27f7490785",
   "metadata": {
    "executionCancelledAt": null,
    "executionTime": 50,
    "lastExecutedAt": 1734556986986,
    "lastExecutedByKernel": "27be2f09-c527-46b8-8cc6-828205ba8bbe",
    "lastScheduledRunId": null,
    "lastSuccessfullyExecutedCode": "df = pd.read_csv(\"car_insurance.csv\")\n\ndf.head()",
    "outputsMetadata": {
     "0": {
      "height": 262,
      "tableState": {
       "customFilter": {
        "const": {
         "type": "boolean",
         "valid": true,
         "value": true
        },
        "id": "fd391e96-6381-4e58-b6fb-d3822d42e5c5",
        "nodeType": "const"
       },
       "quickFilterText": ""
      },
      "type": "dataFrame"
     }
    }
   },
   "outputs": [
    {
     "data": {
      "text/html": [
       "<div>\n",
       "<style scoped>\n",
       "    .dataframe tbody tr th:only-of-type {\n",
       "        vertical-align: middle;\n",
       "    }\n",
       "\n",
       "    .dataframe tbody tr th {\n",
       "        vertical-align: top;\n",
       "    }\n",
       "\n",
       "    .dataframe thead th {\n",
       "        text-align: right;\n",
       "    }\n",
       "</style>\n",
       "<table border=\"1\" class=\"dataframe\">\n",
       "  <thead>\n",
       "    <tr style=\"text-align: right;\">\n",
       "      <th></th>\n",
       "      <th>id</th>\n",
       "      <th>age</th>\n",
       "      <th>gender</th>\n",
       "      <th>driving_experience</th>\n",
       "      <th>education</th>\n",
       "      <th>income</th>\n",
       "      <th>credit_score</th>\n",
       "      <th>vehicle_ownership</th>\n",
       "      <th>vehicle_year</th>\n",
       "      <th>married</th>\n",
       "      <th>children</th>\n",
       "      <th>postal_code</th>\n",
       "      <th>annual_mileage</th>\n",
       "      <th>vehicle_type</th>\n",
       "      <th>speeding_violations</th>\n",
       "      <th>duis</th>\n",
       "      <th>past_accidents</th>\n",
       "      <th>outcome</th>\n",
       "    </tr>\n",
       "  </thead>\n",
       "  <tbody>\n",
       "    <tr>\n",
       "      <th>0</th>\n",
       "      <td>569520</td>\n",
       "      <td>3</td>\n",
       "      <td>0</td>\n",
       "      <td>0-9y</td>\n",
       "      <td>high school</td>\n",
       "      <td>upper class</td>\n",
       "      <td>0.629027</td>\n",
       "      <td>1.0</td>\n",
       "      <td>after 2015</td>\n",
       "      <td>0.0</td>\n",
       "      <td>1.0</td>\n",
       "      <td>10238</td>\n",
       "      <td>12000.0</td>\n",
       "      <td>sedan</td>\n",
       "      <td>0</td>\n",
       "      <td>0</td>\n",
       "      <td>0</td>\n",
       "      <td>0.0</td>\n",
       "    </tr>\n",
       "    <tr>\n",
       "      <th>1</th>\n",
       "      <td>750365</td>\n",
       "      <td>0</td>\n",
       "      <td>1</td>\n",
       "      <td>0-9y</td>\n",
       "      <td>none</td>\n",
       "      <td>poverty</td>\n",
       "      <td>0.357757</td>\n",
       "      <td>0.0</td>\n",
       "      <td>before 2015</td>\n",
       "      <td>0.0</td>\n",
       "      <td>0.0</td>\n",
       "      <td>10238</td>\n",
       "      <td>16000.0</td>\n",
       "      <td>sedan</td>\n",
       "      <td>0</td>\n",
       "      <td>0</td>\n",
       "      <td>0</td>\n",
       "      <td>1.0</td>\n",
       "    </tr>\n",
       "    <tr>\n",
       "      <th>2</th>\n",
       "      <td>199901</td>\n",
       "      <td>0</td>\n",
       "      <td>0</td>\n",
       "      <td>0-9y</td>\n",
       "      <td>high school</td>\n",
       "      <td>working class</td>\n",
       "      <td>0.493146</td>\n",
       "      <td>1.0</td>\n",
       "      <td>before 2015</td>\n",
       "      <td>0.0</td>\n",
       "      <td>0.0</td>\n",
       "      <td>10238</td>\n",
       "      <td>11000.0</td>\n",
       "      <td>sedan</td>\n",
       "      <td>0</td>\n",
       "      <td>0</td>\n",
       "      <td>0</td>\n",
       "      <td>0.0</td>\n",
       "    </tr>\n",
       "    <tr>\n",
       "      <th>3</th>\n",
       "      <td>478866</td>\n",
       "      <td>0</td>\n",
       "      <td>1</td>\n",
       "      <td>0-9y</td>\n",
       "      <td>university</td>\n",
       "      <td>working class</td>\n",
       "      <td>0.206013</td>\n",
       "      <td>1.0</td>\n",
       "      <td>before 2015</td>\n",
       "      <td>0.0</td>\n",
       "      <td>1.0</td>\n",
       "      <td>32765</td>\n",
       "      <td>11000.0</td>\n",
       "      <td>sedan</td>\n",
       "      <td>0</td>\n",
       "      <td>0</td>\n",
       "      <td>0</td>\n",
       "      <td>0.0</td>\n",
       "    </tr>\n",
       "    <tr>\n",
       "      <th>4</th>\n",
       "      <td>731664</td>\n",
       "      <td>1</td>\n",
       "      <td>1</td>\n",
       "      <td>10-19y</td>\n",
       "      <td>none</td>\n",
       "      <td>working class</td>\n",
       "      <td>0.388366</td>\n",
       "      <td>1.0</td>\n",
       "      <td>before 2015</td>\n",
       "      <td>0.0</td>\n",
       "      <td>0.0</td>\n",
       "      <td>32765</td>\n",
       "      <td>12000.0</td>\n",
       "      <td>sedan</td>\n",
       "      <td>2</td>\n",
       "      <td>0</td>\n",
       "      <td>1</td>\n",
       "      <td>1.0</td>\n",
       "    </tr>\n",
       "  </tbody>\n",
       "</table>\n",
       "</div>"
      ],
      "text/plain": [
       "       id  age  gender driving_experience    education         income  \\\n",
       "0  569520    3       0               0-9y  high school    upper class   \n",
       "1  750365    0       1               0-9y         none        poverty   \n",
       "2  199901    0       0               0-9y  high school  working class   \n",
       "3  478866    0       1               0-9y   university  working class   \n",
       "4  731664    1       1             10-19y         none  working class   \n",
       "\n",
       "   credit_score  vehicle_ownership vehicle_year  married  children  \\\n",
       "0      0.629027                1.0   after 2015      0.0       1.0   \n",
       "1      0.357757                0.0  before 2015      0.0       0.0   \n",
       "2      0.493146                1.0  before 2015      0.0       0.0   \n",
       "3      0.206013                1.0  before 2015      0.0       1.0   \n",
       "4      0.388366                1.0  before 2015      0.0       0.0   \n",
       "\n",
       "   postal_code  annual_mileage vehicle_type  speeding_violations  duis  \\\n",
       "0        10238         12000.0        sedan                    0     0   \n",
       "1        10238         16000.0        sedan                    0     0   \n",
       "2        10238         11000.0        sedan                    0     0   \n",
       "3        32765         11000.0        sedan                    0     0   \n",
       "4        32765         12000.0        sedan                    2     0   \n",
       "\n",
       "   past_accidents  outcome  \n",
       "0               0      0.0  \n",
       "1               0      1.0  \n",
       "2               0      0.0  \n",
       "3               0      0.0  \n",
       "4               1      1.0  "
      ]
     },
     "execution_count": 35,
     "metadata": {},
     "output_type": "execute_result"
    }
   ],
   "source": [
    "df = pd.read_csv(\"car_insurance.csv\")\n",
    "\n",
    "df.head()"
   ]
  },
  {
   "cell_type": "code",
   "execution_count": 36,
   "id": "bbe65664-9221-48b9-bde2-b0f9270ecc11",
   "metadata": {
    "executionCancelledAt": null,
    "executionTime": 56,
    "lastExecutedAt": 1734556987042,
    "lastExecutedByKernel": "27be2f09-c527-46b8-8cc6-828205ba8bbe",
    "lastScheduledRunId": null,
    "lastSuccessfullyExecutedCode": "df.info()",
    "outputsMetadata": {
     "0": {
      "height": 567,
      "type": "stream"
     }
    }
   },
   "outputs": [
    {
     "name": "stdout",
     "output_type": "stream",
     "text": [
      "<class 'pandas.core.frame.DataFrame'>\n",
      "RangeIndex: 10000 entries, 0 to 9999\n",
      "Data columns (total 18 columns):\n",
      " #   Column               Non-Null Count  Dtype  \n",
      "---  ------               --------------  -----  \n",
      " 0   id                   10000 non-null  int64  \n",
      " 1   age                  10000 non-null  int64  \n",
      " 2   gender               10000 non-null  int64  \n",
      " 3   driving_experience   10000 non-null  object \n",
      " 4   education            10000 non-null  object \n",
      " 5   income               10000 non-null  object \n",
      " 6   credit_score         9018 non-null   float64\n",
      " 7   vehicle_ownership    10000 non-null  float64\n",
      " 8   vehicle_year         10000 non-null  object \n",
      " 9   married              10000 non-null  float64\n",
      " 10  children             10000 non-null  float64\n",
      " 11  postal_code          10000 non-null  int64  \n",
      " 12  annual_mileage       9043 non-null   float64\n",
      " 13  vehicle_type         10000 non-null  object \n",
      " 14  speeding_violations  10000 non-null  int64  \n",
      " 15  duis                 10000 non-null  int64  \n",
      " 16  past_accidents       10000 non-null  int64  \n",
      " 17  outcome              10000 non-null  float64\n",
      "dtypes: float64(6), int64(7), object(5)\n",
      "memory usage: 1.4+ MB\n"
     ]
    }
   ],
   "source": [
    "df.info()"
   ]
  },
  {
   "cell_type": "code",
   "execution_count": 37,
   "id": "32b58318",
   "metadata": {},
   "outputs": [
    {
     "data": {
      "text/html": [
       "<div>\n",
       "<style scoped>\n",
       "    .dataframe tbody tr th:only-of-type {\n",
       "        vertical-align: middle;\n",
       "    }\n",
       "\n",
       "    .dataframe tbody tr th {\n",
       "        vertical-align: top;\n",
       "    }\n",
       "\n",
       "    .dataframe thead th {\n",
       "        text-align: right;\n",
       "    }\n",
       "</style>\n",
       "<table border=\"1\" class=\"dataframe\">\n",
       "  <thead>\n",
       "    <tr style=\"text-align: right;\">\n",
       "      <th></th>\n",
       "      <th>id</th>\n",
       "      <th>age</th>\n",
       "      <th>gender</th>\n",
       "      <th>credit_score</th>\n",
       "      <th>vehicle_ownership</th>\n",
       "      <th>married</th>\n",
       "      <th>children</th>\n",
       "      <th>postal_code</th>\n",
       "      <th>annual_mileage</th>\n",
       "      <th>speeding_violations</th>\n",
       "      <th>duis</th>\n",
       "      <th>past_accidents</th>\n",
       "      <th>outcome</th>\n",
       "    </tr>\n",
       "  </thead>\n",
       "  <tbody>\n",
       "    <tr>\n",
       "      <th>count</th>\n",
       "      <td>10000.000000</td>\n",
       "      <td>10000.000000</td>\n",
       "      <td>10000.000000</td>\n",
       "      <td>9018.000000</td>\n",
       "      <td>10000.000000</td>\n",
       "      <td>10000.000000</td>\n",
       "      <td>10000.000000</td>\n",
       "      <td>10000.000000</td>\n",
       "      <td>9043.000000</td>\n",
       "      <td>10000.000000</td>\n",
       "      <td>10000.00000</td>\n",
       "      <td>10000.000000</td>\n",
       "      <td>10000.000000</td>\n",
       "    </tr>\n",
       "    <tr>\n",
       "      <th>mean</th>\n",
       "      <td>500521.906800</td>\n",
       "      <td>1.489500</td>\n",
       "      <td>0.499000</td>\n",
       "      <td>0.515813</td>\n",
       "      <td>0.697000</td>\n",
       "      <td>0.498200</td>\n",
       "      <td>0.688800</td>\n",
       "      <td>19864.548400</td>\n",
       "      <td>11697.003207</td>\n",
       "      <td>1.482900</td>\n",
       "      <td>0.23920</td>\n",
       "      <td>1.056300</td>\n",
       "      <td>0.313300</td>\n",
       "    </tr>\n",
       "    <tr>\n",
       "      <th>std</th>\n",
       "      <td>290030.768758</td>\n",
       "      <td>1.025278</td>\n",
       "      <td>0.500024</td>\n",
       "      <td>0.137688</td>\n",
       "      <td>0.459578</td>\n",
       "      <td>0.500022</td>\n",
       "      <td>0.463008</td>\n",
       "      <td>18915.613855</td>\n",
       "      <td>2818.434528</td>\n",
       "      <td>2.241966</td>\n",
       "      <td>0.55499</td>\n",
       "      <td>1.652454</td>\n",
       "      <td>0.463858</td>\n",
       "    </tr>\n",
       "    <tr>\n",
       "      <th>min</th>\n",
       "      <td>101.000000</td>\n",
       "      <td>0.000000</td>\n",
       "      <td>0.000000</td>\n",
       "      <td>0.053358</td>\n",
       "      <td>0.000000</td>\n",
       "      <td>0.000000</td>\n",
       "      <td>0.000000</td>\n",
       "      <td>10238.000000</td>\n",
       "      <td>2000.000000</td>\n",
       "      <td>0.000000</td>\n",
       "      <td>0.00000</td>\n",
       "      <td>0.000000</td>\n",
       "      <td>0.000000</td>\n",
       "    </tr>\n",
       "    <tr>\n",
       "      <th>25%</th>\n",
       "      <td>249638.500000</td>\n",
       "      <td>1.000000</td>\n",
       "      <td>0.000000</td>\n",
       "      <td>0.417191</td>\n",
       "      <td>0.000000</td>\n",
       "      <td>0.000000</td>\n",
       "      <td>0.000000</td>\n",
       "      <td>10238.000000</td>\n",
       "      <td>10000.000000</td>\n",
       "      <td>0.000000</td>\n",
       "      <td>0.00000</td>\n",
       "      <td>0.000000</td>\n",
       "      <td>0.000000</td>\n",
       "    </tr>\n",
       "    <tr>\n",
       "      <th>50%</th>\n",
       "      <td>501777.000000</td>\n",
       "      <td>1.000000</td>\n",
       "      <td>0.000000</td>\n",
       "      <td>0.525033</td>\n",
       "      <td>1.000000</td>\n",
       "      <td>0.000000</td>\n",
       "      <td>1.000000</td>\n",
       "      <td>10238.000000</td>\n",
       "      <td>12000.000000</td>\n",
       "      <td>0.000000</td>\n",
       "      <td>0.00000</td>\n",
       "      <td>0.000000</td>\n",
       "      <td>0.000000</td>\n",
       "    </tr>\n",
       "    <tr>\n",
       "      <th>75%</th>\n",
       "      <td>753974.500000</td>\n",
       "      <td>2.000000</td>\n",
       "      <td>1.000000</td>\n",
       "      <td>0.618312</td>\n",
       "      <td>1.000000</td>\n",
       "      <td>1.000000</td>\n",
       "      <td>1.000000</td>\n",
       "      <td>32765.000000</td>\n",
       "      <td>14000.000000</td>\n",
       "      <td>2.000000</td>\n",
       "      <td>0.00000</td>\n",
       "      <td>2.000000</td>\n",
       "      <td>1.000000</td>\n",
       "    </tr>\n",
       "    <tr>\n",
       "      <th>max</th>\n",
       "      <td>999976.000000</td>\n",
       "      <td>3.000000</td>\n",
       "      <td>1.000000</td>\n",
       "      <td>0.960819</td>\n",
       "      <td>1.000000</td>\n",
       "      <td>1.000000</td>\n",
       "      <td>1.000000</td>\n",
       "      <td>92101.000000</td>\n",
       "      <td>22000.000000</td>\n",
       "      <td>22.000000</td>\n",
       "      <td>6.00000</td>\n",
       "      <td>15.000000</td>\n",
       "      <td>1.000000</td>\n",
       "    </tr>\n",
       "  </tbody>\n",
       "</table>\n",
       "</div>"
      ],
      "text/plain": [
       "                  id           age        gender  credit_score  \\\n",
       "count   10000.000000  10000.000000  10000.000000   9018.000000   \n",
       "mean   500521.906800      1.489500      0.499000      0.515813   \n",
       "std    290030.768758      1.025278      0.500024      0.137688   \n",
       "min       101.000000      0.000000      0.000000      0.053358   \n",
       "25%    249638.500000      1.000000      0.000000      0.417191   \n",
       "50%    501777.000000      1.000000      0.000000      0.525033   \n",
       "75%    753974.500000      2.000000      1.000000      0.618312   \n",
       "max    999976.000000      3.000000      1.000000      0.960819   \n",
       "\n",
       "       vehicle_ownership       married      children   postal_code  \\\n",
       "count       10000.000000  10000.000000  10000.000000  10000.000000   \n",
       "mean            0.697000      0.498200      0.688800  19864.548400   \n",
       "std             0.459578      0.500022      0.463008  18915.613855   \n",
       "min             0.000000      0.000000      0.000000  10238.000000   \n",
       "25%             0.000000      0.000000      0.000000  10238.000000   \n",
       "50%             1.000000      0.000000      1.000000  10238.000000   \n",
       "75%             1.000000      1.000000      1.000000  32765.000000   \n",
       "max             1.000000      1.000000      1.000000  92101.000000   \n",
       "\n",
       "       annual_mileage  speeding_violations         duis  past_accidents  \\\n",
       "count     9043.000000         10000.000000  10000.00000    10000.000000   \n",
       "mean     11697.003207             1.482900      0.23920        1.056300   \n",
       "std       2818.434528             2.241966      0.55499        1.652454   \n",
       "min       2000.000000             0.000000      0.00000        0.000000   \n",
       "25%      10000.000000             0.000000      0.00000        0.000000   \n",
       "50%      12000.000000             0.000000      0.00000        0.000000   \n",
       "75%      14000.000000             2.000000      0.00000        2.000000   \n",
       "max      22000.000000            22.000000      6.00000       15.000000   \n",
       "\n",
       "            outcome  \n",
       "count  10000.000000  \n",
       "mean       0.313300  \n",
       "std        0.463858  \n",
       "min        0.000000  \n",
       "25%        0.000000  \n",
       "50%        0.000000  \n",
       "75%        1.000000  \n",
       "max        1.000000  "
      ]
     },
     "execution_count": 37,
     "metadata": {},
     "output_type": "execute_result"
    }
   ],
   "source": [
    "df.describe()"
   ]
  },
  {
   "cell_type": "markdown",
   "id": "2e4f9d68-6575-412b-8cc2-6bcf6508ad69",
   "metadata": {},
   "source": [
    "### Fill missing values"
   ]
  },
  {
   "cell_type": "code",
   "execution_count": 38,
   "id": "0d02f326-f289-4889-9074-1789392447bc",
   "metadata": {
    "executionCancelledAt": null,
    "executionTime": 57,
    "lastExecutedAt": 1734556987099,
    "lastExecutedByKernel": "27be2f09-c527-46b8-8cc6-828205ba8bbe",
    "lastScheduledRunId": null,
    "lastSuccessfullyExecutedCode": "df[['credit_score','annual_mileage']].describe()",
    "outputsMetadata": {
     "0": {
      "height": 550,
      "tableState": {
       "customFilter": {
        "const": {
         "type": "boolean",
         "valid": true,
         "value": true
        },
        "id": "fd391e96-6381-4e58-b6fb-d3822d42e5c5",
        "nodeType": "const"
       },
       "quickFilterText": ""
      },
      "type": "dataFrame"
     }
    }
   },
   "outputs": [
    {
     "data": {
      "text/html": [
       "<div>\n",
       "<style scoped>\n",
       "    .dataframe tbody tr th:only-of-type {\n",
       "        vertical-align: middle;\n",
       "    }\n",
       "\n",
       "    .dataframe tbody tr th {\n",
       "        vertical-align: top;\n",
       "    }\n",
       "\n",
       "    .dataframe thead th {\n",
       "        text-align: right;\n",
       "    }\n",
       "</style>\n",
       "<table border=\"1\" class=\"dataframe\">\n",
       "  <thead>\n",
       "    <tr style=\"text-align: right;\">\n",
       "      <th></th>\n",
       "      <th>credit_score</th>\n",
       "      <th>annual_mileage</th>\n",
       "    </tr>\n",
       "  </thead>\n",
       "  <tbody>\n",
       "    <tr>\n",
       "      <th>count</th>\n",
       "      <td>9018.000000</td>\n",
       "      <td>9043.000000</td>\n",
       "    </tr>\n",
       "    <tr>\n",
       "      <th>mean</th>\n",
       "      <td>0.515813</td>\n",
       "      <td>11697.003207</td>\n",
       "    </tr>\n",
       "    <tr>\n",
       "      <th>std</th>\n",
       "      <td>0.137688</td>\n",
       "      <td>2818.434528</td>\n",
       "    </tr>\n",
       "    <tr>\n",
       "      <th>min</th>\n",
       "      <td>0.053358</td>\n",
       "      <td>2000.000000</td>\n",
       "    </tr>\n",
       "    <tr>\n",
       "      <th>25%</th>\n",
       "      <td>0.417191</td>\n",
       "      <td>10000.000000</td>\n",
       "    </tr>\n",
       "    <tr>\n",
       "      <th>50%</th>\n",
       "      <td>0.525033</td>\n",
       "      <td>12000.000000</td>\n",
       "    </tr>\n",
       "    <tr>\n",
       "      <th>75%</th>\n",
       "      <td>0.618312</td>\n",
       "      <td>14000.000000</td>\n",
       "    </tr>\n",
       "    <tr>\n",
       "      <th>max</th>\n",
       "      <td>0.960819</td>\n",
       "      <td>22000.000000</td>\n",
       "    </tr>\n",
       "  </tbody>\n",
       "</table>\n",
       "</div>"
      ],
      "text/plain": [
       "       credit_score  annual_mileage\n",
       "count   9018.000000     9043.000000\n",
       "mean       0.515813    11697.003207\n",
       "std        0.137688     2818.434528\n",
       "min        0.053358     2000.000000\n",
       "25%        0.417191    10000.000000\n",
       "50%        0.525033    12000.000000\n",
       "75%        0.618312    14000.000000\n",
       "max        0.960819    22000.000000"
      ]
     },
     "execution_count": 38,
     "metadata": {},
     "output_type": "execute_result"
    }
   ],
   "source": [
    "df[['credit_score','annual_mileage']].describe()"
   ]
  },
  {
   "cell_type": "code",
   "execution_count": 39,
   "id": "c85764eb-3e79-4ec9-a187-6c96b6541144",
   "metadata": {
    "executionCancelledAt": null,
    "executionTime": 367,
    "lastExecutedAt": 1734556987466,
    "lastExecutedByKernel": "27be2f09-c527-46b8-8cc6-828205ba8bbe",
    "lastScheduledRunId": null,
    "lastSuccessfullyExecutedCode": "import matplotlib.pyplot as plt\n\nfig, ax = plt.subplots(1,2, figsize=(15, 4))\n\nax[0].hist(df['credit_score'])\nax[1].hist(df['annual_mileage'])\nplt.show"
   },
   "outputs": [
    {
     "data": {
      "text/plain": [
       "<function matplotlib.pyplot.show(close=None, block=None)>"
      ]
     },
     "execution_count": 39,
     "metadata": {},
     "output_type": "execute_result"
    },
    {
     "data": {
      "image/png": "[encoded data removed]",
      "text/plain": [
       "<Figure size 1500x400 with 2 Axes>"
      ]
     },
     "metadata": {},
     "output_type": "display_data"
    }
   ],
   "source": [
    "import matplotlib.pyplot as plt\n",
    "\n",
    "fig, ax = plt.subplots(1,2, figsize=(15, 4))\n",
    "\n",
    "ax[0].hist(df['credit_score'])\n",
    "ax[1].hist(df['annual_mileage'])\n",
    "plt.show"
   ]
  },
  {
   "cell_type": "markdown",
   "id": "033a9a76-53b7-4025-a55b-068898e19ec4",
   "metadata": {},
   "source": [
    "Here, we can see that the columns appear to be normally distributed. \n",
    "There are no visible extreme outliers or significant skewness. \n",
    "That's why we will replace missing values with the mean."
   ]
  },
  {
   "cell_type": "code",
   "execution_count": 40,
   "id": "25a0ba63-c493-48ef-b5c5-6f4e16e5d920",
   "metadata": {
    "executionCancelledAt": null,
    "executionTime": 48,
    "lastExecutedAt": 1734556987514,
    "lastExecutedByKernel": "27be2f09-c527-46b8-8cc6-828205ba8bbe",
    "lastScheduledRunId": null,
    "lastSuccessfullyExecutedCode": "# Fill missing values of credit score column with mean value\ndf['credit_score'].fillna(df['credit_score'].mean(), inplace=True)\ndf['annual_mileage'].fillna(df['annual_mileage'].mean(), inplace=True)"
   },
   "outputs": [],
   "source": [
    "# Fill missing values with mean value\n",
    "df['credit_score'] = df['credit_score'].fillna(df['credit_score'].mean())\n",
    "df['annual_mileage'] = df['annual_mileage'].fillna(df['annual_mileage'].mean())"
   ]
  },
  {
   "cell_type": "code",
   "execution_count": 41,
   "id": "3a31297e-ca84-4f7e-92a3-0d8095d3f8cc",
   "metadata": {
    "executionCancelledAt": null,
    "executionTime": 419,
    "lastExecutedAt": 1734556987933,
    "lastExecutedByKernel": "27be2f09-c527-46b8-8cc6-828205ba8bbe",
    "lastScheduledRunId": null,
    "lastSuccessfullyExecutedCode": "fig, ax = plt.subplots(1,2, figsize=(15, 4))\n\nax[0].hist(df['credit_score'])\nax[1].hist(df['annual_mileage'])\nplt.show"
   },
   "outputs": [
    {
     "data": {
      "text/plain": [
       "<function matplotlib.pyplot.show(close=None, block=None)>"
      ]
     },
     "execution_count": 41,
     "metadata": {},
     "output_type": "execute_result"
    },
    {
     "data": {
      "image/png": "[encoded data removed]",
      "text/plain": [
       "<Figure size 1500x400 with 2 Axes>"
      ]
     },
     "metadata": {},
     "output_type": "display_data"
    }
   ],
   "source": [
    "fig, ax = plt.subplots(1,2, figsize=(15, 4))\n",
    "\n",
    "ax[0].hist(df['credit_score'])\n",
    "ax[1].hist(df['annual_mileage'])\n",
    "plt.show"
   ]
  },
  {
   "cell_type": "code",
   "execution_count": 42,
   "id": "0dcca443-ce52-4745-bf69-6374c6423172",
   "metadata": {
    "executionCancelledAt": null,
    "executionTime": 58,
    "lastExecutedAt": 1734556987991,
    "lastExecutedByKernel": "27be2f09-c527-46b8-8cc6-828205ba8bbe",
    "lastScheduledRunId": null,
    "lastSuccessfullyExecutedCode": "df.info()",
    "outputsMetadata": {
     "0": {
      "height": 567,
      "type": "stream"
     }
    }
   },
   "outputs": [
    {
     "name": "stdout",
     "output_type": "stream",
     "text": [
      "<class 'pandas.core.frame.DataFrame'>\n",
      "RangeIndex: 10000 entries, 0 to 9999\n",
      "Data columns (total 18 columns):\n",
      " #   Column               Non-Null Count  Dtype  \n",
      "---  ------               --------------  -----  \n",
      " 0   id                   10000 non-null  int64  \n",
      " 1   age                  10000 non-null  int64  \n",
      " 2   gender               10000 non-null  int64  \n",
      " 3   driving_experience   10000 non-null  object \n",
      " 4   education            10000 non-null  object \n",
      " 5   income               10000 non-null  object \n",
      " 6   credit_score         10000 non-null  float64\n",
      " 7   vehicle_ownership    10000 non-null  float64\n",
      " 8   vehicle_year         10000 non-null  object \n",
      " 9   married              10000 non-null  float64\n",
      " 10  children             10000 non-null  float64\n",
      " 11  postal_code          10000 non-null  int64  \n",
      " 12  annual_mileage       10000 non-null  float64\n",
      " 13  vehicle_type         10000 non-null  object \n",
      " 14  speeding_violations  10000 non-null  int64  \n",
      " 15  duis                 10000 non-null  int64  \n",
      " 16  past_accidents       10000 non-null  int64  \n",
      " 17  outcome              10000 non-null  float64\n",
      "dtypes: float64(6), int64(7), object(5)\n",
      "memory usage: 1.4+ MB\n"
     ]
    }
   ],
   "source": [
    "df.info()"
   ]
  },
  {
   "cell_type": "markdown",
   "id": "e83153f1-f981-4eda-8d10-cf9d1c6c6ba0",
   "metadata": {},
   "source": [
    "### Transform categorical cols"
   ]
  },
  {
   "cell_type": "code",
   "execution_count": 43,
   "id": "ac4e3920-f5d3-4d3b-84d4-eaa465a7bd4e",
   "metadata": {
    "executionCancelledAt": null,
    "executionTime": 51,
    "lastExecutedAt": 1734556988042,
    "lastExecutedByKernel": "27be2f09-c527-46b8-8cc6-828205ba8bbe",
    "lastScheduledRunId": null,
    "lastSuccessfullyExecutedCode": "categorical_columns = df.select_dtypes(include=['object']).columns\n\nfor col in categorical_columns:\n    print(f\"{col}: {df[col].nunique()}\")\n    print(f\"{df[col].value_counts()}\")",
    "outputsMetadata": {
     "0": {
      "height": 567,
      "type": "stream"
     }
    }
   },
   "outputs": [
    {
     "name": "stdout",
     "output_type": "stream",
     "text": [
      "driving_experience: 4\n",
      "driving_experience\n",
      "0-9y      3530\n",
      "10-19y    3299\n",
      "20-29y    2119\n",
      "30y+      1052\n",
      "Name: count, dtype: int64\n",
      "education: 3\n",
      "education\n",
      "high school    4157\n",
      "university     3928\n",
      "none           1915\n",
      "Name: count, dtype: int64\n",
      "income: 4\n",
      "income\n",
      "upper class      4336\n",
      "middle class     2138\n",
      "poverty          1814\n",
      "working class    1712\n",
      "Name: count, dtype: int64\n",
      "vehicle_year: 2\n",
      "vehicle_year\n",
      "before 2015    6967\n",
      "after 2015     3033\n",
      "Name: count, dtype: int64\n",
      "vehicle_type: 2\n",
      "vehicle_type\n",
      "sedan         9523\n",
      "sports car     477\n",
      "Name: count, dtype: int64\n"
     ]
    }
   ],
   "source": [
    "categorical_columns = df.select_dtypes(include=['object']).columns\n",
    "\n",
    "for col in categorical_columns:\n",
    "    print(f\"{col}: {df[col].nunique()}\")\n",
    "    print(f\"{df[col].value_counts()}\")"
   ]
  },
  {
   "cell_type": "markdown",
   "id": "7d4c7172-bc57-4d82-b23c-a5d6d4944561",
   "metadata": {},
   "source": [
    "Here, we can clearly see `driving_experience`, `education`, and `income` are ordinal. As for binary nomial columns: `vehicle_year` and `vehicle_type`, they have only 2 values. So, we will use label encoding for all categorical columns. "
   ]
  },
  {
   "cell_type": "code",
   "execution_count": 44,
   "id": "c18a4cb7-9d4a-481b-b001-b8cddd61ac18",
   "metadata": {
    "executionCancelledAt": null,
    "executionTime": 64,
    "lastExecutedAt": 1734556988106,
    "lastExecutedByKernel": "27be2f09-c527-46b8-8cc6-828205ba8bbe",
    "lastScheduledRunId": null,
    "lastSuccessfullyExecutedCode": "from sklearn.preprocessing import LabelEncoder\n\nfor col in categorical_columns:\n    encoder = LabelEncoder()\n    df[col] = encoder.fit_transform(df[col])\n    print(f\"{df[col].value_counts()}\")",
    "outputsMetadata": {
     "0": {
      "height": 437,
      "type": "stream"
     }
    }
   },
   "outputs": [
    {
     "name": "stdout",
     "output_type": "stream",
     "text": [
      "driving_experience\n",
      "0    3530\n",
      "1    3299\n",
      "2    2119\n",
      "3    1052\n",
      "Name: count, dtype: int64\n",
      "education\n",
      "0    4157\n",
      "2    3928\n",
      "1    1915\n",
      "Name: count, dtype: int64\n",
      "income\n",
      "2    4336\n",
      "0    2138\n",
      "1    1814\n",
      "3    1712\n",
      "Name: count, dtype: int64\n",
      "vehicle_year\n",
      "1    6967\n",
      "0    3033\n",
      "Name: count, dtype: int64\n",
      "vehicle_type\n",
      "0    9523\n",
      "1     477\n",
      "Name: count, dtype: int64\n"
     ]
    }
   ],
   "source": [
    "from sklearn.preprocessing import LabelEncoder\n",
    "\n",
    "for col in categorical_columns:\n",
    "    encoder = LabelEncoder()\n",
    "    df[col] = encoder.fit_transform(df[col])\n",
    "    print(f\"{df[col].value_counts()}\")"
   ]
  },
  {
   "cell_type": "code",
   "execution_count": 45,
   "id": "046c0406-affb-4368-a947-675f3692fd77",
   "metadata": {
    "executionCancelledAt": null,
    "executionTime": 49,
    "lastExecutedAt": 1734556988155,
    "lastExecutedByKernel": "27be2f09-c527-46b8-8cc6-828205ba8bbe",
    "lastScheduledRunId": null,
    "lastSuccessfullyExecutedCode": "df.info()",
    "outputsMetadata": {
     "0": {
      "height": 542,
      "type": "stream"
     }
    }
   },
   "outputs": [
    {
     "name": "stdout",
     "output_type": "stream",
     "text": [
      "<class 'pandas.core.frame.DataFrame'>\n",
      "RangeIndex: 10000 entries, 0 to 9999\n",
      "Data columns (total 18 columns):\n",
      " #   Column               Non-Null Count  Dtype  \n",
      "---  ------               --------------  -----  \n",
      " 0   id                   10000 non-null  int64  \n",
      " 1   age                  10000 non-null  int64  \n",
      " 2   gender               10000 non-null  int64  \n",
      " 3   driving_experience   10000 non-null  int32  \n",
      " 4   education            10000 non-null  int32  \n",
      " 5   income               10000 non-null  int32  \n",
      " 6   credit_score         10000 non-null  float64\n",
      " 7   vehicle_ownership    10000 non-null  float64\n",
      " 8   vehicle_year         10000 non-null  int32  \n",
      " 9   married              10000 non-null  float64\n",
      " 10  children             10000 non-null  float64\n",
      " 11  postal_code          10000 non-null  int64  \n",
      " 12  annual_mileage       10000 non-null  float64\n",
      " 13  vehicle_type         10000 non-null  int32  \n",
      " 14  speeding_violations  10000 non-null  int64  \n",
      " 15  duis                 10000 non-null  int64  \n",
      " 16  past_accidents       10000 non-null  int64  \n",
      " 17  outcome              10000 non-null  float64\n",
      "dtypes: float64(6), int32(5), int64(7)\n",
      "memory usage: 1.2 MB\n"
     ]
    }
   ],
   "source": [
    "df.info()"
   ]
  },
  {
   "cell_type": "code",
   "execution_count": 46,
   "id": "e7236d97",
   "metadata": {},
   "outputs": [
    {
     "data": {
      "text/html": [
       "<div>\n",
       "<style scoped>\n",
       "    .dataframe tbody tr th:only-of-type {\n",
       "        vertical-align: middle;\n",
       "    }\n",
       "\n",
       "    .dataframe tbody tr th {\n",
       "        vertical-align: top;\n",
       "    }\n",
       "\n",
       "    .dataframe thead th {\n",
       "        text-align: right;\n",
       "    }\n",
       "</style>\n",
       "<table border=\"1\" class=\"dataframe\">\n",
       "  <thead>\n",
       "    <tr style=\"text-align: right;\">\n",
       "      <th></th>\n",
       "      <th>id</th>\n",
       "      <th>age</th>\n",
       "      <th>gender</th>\n",
       "      <th>driving_experience</th>\n",
       "      <th>education</th>\n",
       "      <th>income</th>\n",
       "      <th>credit_score</th>\n",
       "      <th>vehicle_ownership</th>\n",
       "      <th>vehicle_year</th>\n",
       "      <th>married</th>\n",
       "      <th>children</th>\n",
       "      <th>postal_code</th>\n",
       "      <th>annual_mileage</th>\n",
       "      <th>vehicle_type</th>\n",
       "      <th>speeding_violations</th>\n",
       "      <th>duis</th>\n",
       "      <th>past_accidents</th>\n",
       "      <th>outcome</th>\n",
       "    </tr>\n",
       "  </thead>\n",
       "  <tbody>\n",
       "    <tr>\n",
       "      <th>count</th>\n",
       "      <td>10000.000000</td>\n",
       "      <td>10000.000000</td>\n",
       "      <td>10000.000000</td>\n",
       "      <td>10000.000000</td>\n",
       "      <td>10000.00000</td>\n",
       "      <td>10000.000000</td>\n",
       "      <td>10000.000000</td>\n",
       "      <td>10000.000000</td>\n",
       "      <td>10000.000000</td>\n",
       "      <td>10000.000000</td>\n",
       "      <td>10000.000000</td>\n",
       "      <td>10000.000000</td>\n",
       "      <td>10000.000000</td>\n",
       "      <td>10000.000000</td>\n",
       "      <td>10000.000000</td>\n",
       "      <td>10000.00000</td>\n",
       "      <td>10000.000000</td>\n",
       "      <td>10000.000000</td>\n",
       "    </tr>\n",
       "    <tr>\n",
       "      <th>mean</th>\n",
       "      <td>500521.906800</td>\n",
       "      <td>1.489500</td>\n",
       "      <td>0.499000</td>\n",
       "      <td>1.069300</td>\n",
       "      <td>0.97710</td>\n",
       "      <td>1.562200</td>\n",
       "      <td>0.515813</td>\n",
       "      <td>0.697000</td>\n",
       "      <td>0.696700</td>\n",
       "      <td>0.498200</td>\n",
       "      <td>0.688800</td>\n",
       "      <td>19864.548400</td>\n",
       "      <td>11697.003207</td>\n",
       "      <td>0.047700</td>\n",
       "      <td>1.482900</td>\n",
       "      <td>0.23920</td>\n",
       "      <td>1.056300</td>\n",
       "      <td>0.313300</td>\n",
       "    </tr>\n",
       "    <tr>\n",
       "      <th>std</th>\n",
       "      <td>290030.768758</td>\n",
       "      <td>1.025278</td>\n",
       "      <td>0.500024</td>\n",
       "      <td>0.990452</td>\n",
       "      <td>0.89892</td>\n",
       "      <td>1.008084</td>\n",
       "      <td>0.130752</td>\n",
       "      <td>0.459578</td>\n",
       "      <td>0.459707</td>\n",
       "      <td>0.500022</td>\n",
       "      <td>0.463008</td>\n",
       "      <td>18915.613855</td>\n",
       "      <td>2680.167384</td>\n",
       "      <td>0.213141</td>\n",
       "      <td>2.241966</td>\n",
       "      <td>0.55499</td>\n",
       "      <td>1.652454</td>\n",
       "      <td>0.463858</td>\n",
       "    </tr>\n",
       "    <tr>\n",
       "      <th>min</th>\n",
       "      <td>101.000000</td>\n",
       "      <td>0.000000</td>\n",
       "      <td>0.000000</td>\n",
       "      <td>0.000000</td>\n",
       "      <td>0.00000</td>\n",
       "      <td>0.000000</td>\n",
       "      <td>0.053358</td>\n",
       "      <td>0.000000</td>\n",
       "      <td>0.000000</td>\n",
       "      <td>0.000000</td>\n",
       "      <td>0.000000</td>\n",
       "      <td>10238.000000</td>\n",
       "      <td>2000.000000</td>\n",
       "      <td>0.000000</td>\n",
       "      <td>0.000000</td>\n",
       "      <td>0.00000</td>\n",
       "      <td>0.000000</td>\n",
       "      <td>0.000000</td>\n",
       "    </tr>\n",
       "    <tr>\n",
       "      <th>25%</th>\n",
       "      <td>249638.500000</td>\n",
       "      <td>1.000000</td>\n",
       "      <td>0.000000</td>\n",
       "      <td>0.000000</td>\n",
       "      <td>0.00000</td>\n",
       "      <td>1.000000</td>\n",
       "      <td>0.431509</td>\n",
       "      <td>0.000000</td>\n",
       "      <td>0.000000</td>\n",
       "      <td>0.000000</td>\n",
       "      <td>0.000000</td>\n",
       "      <td>10238.000000</td>\n",
       "      <td>10000.000000</td>\n",
       "      <td>0.000000</td>\n",
       "      <td>0.000000</td>\n",
       "      <td>0.00000</td>\n",
       "      <td>0.000000</td>\n",
       "      <td>0.000000</td>\n",
       "    </tr>\n",
       "    <tr>\n",
       "      <th>50%</th>\n",
       "      <td>501777.000000</td>\n",
       "      <td>1.000000</td>\n",
       "      <td>0.000000</td>\n",
       "      <td>1.000000</td>\n",
       "      <td>1.00000</td>\n",
       "      <td>2.000000</td>\n",
       "      <td>0.515813</td>\n",
       "      <td>1.000000</td>\n",
       "      <td>1.000000</td>\n",
       "      <td>0.000000</td>\n",
       "      <td>1.000000</td>\n",
       "      <td>10238.000000</td>\n",
       "      <td>11697.003207</td>\n",
       "      <td>0.000000</td>\n",
       "      <td>0.000000</td>\n",
       "      <td>0.00000</td>\n",
       "      <td>0.000000</td>\n",
       "      <td>0.000000</td>\n",
       "    </tr>\n",
       "    <tr>\n",
       "      <th>75%</th>\n",
       "      <td>753974.500000</td>\n",
       "      <td>2.000000</td>\n",
       "      <td>1.000000</td>\n",
       "      <td>2.000000</td>\n",
       "      <td>2.00000</td>\n",
       "      <td>2.000000</td>\n",
       "      <td>0.607607</td>\n",
       "      <td>1.000000</td>\n",
       "      <td>1.000000</td>\n",
       "      <td>1.000000</td>\n",
       "      <td>1.000000</td>\n",
       "      <td>32765.000000</td>\n",
       "      <td>13000.000000</td>\n",
       "      <td>0.000000</td>\n",
       "      <td>2.000000</td>\n",
       "      <td>0.00000</td>\n",
       "      <td>2.000000</td>\n",
       "      <td>1.000000</td>\n",
       "    </tr>\n",
       "    <tr>\n",
       "      <th>max</th>\n",
       "      <td>999976.000000</td>\n",
       "      <td>3.000000</td>\n",
       "      <td>1.000000</td>\n",
       "      <td>3.000000</td>\n",
       "      <td>2.00000</td>\n",
       "      <td>3.000000</td>\n",
       "      <td>0.960819</td>\n",
       "      <td>1.000000</td>\n",
       "      <td>1.000000</td>\n",
       "      <td>1.000000</td>\n",
       "      <td>1.000000</td>\n",
       "      <td>92101.000000</td>\n",
       "      <td>22000.000000</td>\n",
       "      <td>1.000000</td>\n",
       "      <td>22.000000</td>\n",
       "      <td>6.00000</td>\n",
       "      <td>15.000000</td>\n",
       "      <td>1.000000</td>\n",
       "    </tr>\n",
       "  </tbody>\n",
       "</table>\n",
       "</div>"
      ],
      "text/plain": [
       "                  id           age        gender  driving_experience  \\\n",
       "count   10000.000000  10000.000000  10000.000000        10000.000000   \n",
       "mean   500521.906800      1.489500      0.499000            1.069300   \n",
       "std    290030.768758      1.025278      0.500024            0.990452   \n",
       "min       101.000000      0.000000      0.000000            0.000000   \n",
       "25%    249638.500000      1.000000      0.000000            0.000000   \n",
       "50%    501777.000000      1.000000      0.000000            1.000000   \n",
       "75%    753974.500000      2.000000      1.000000            2.000000   \n",
       "max    999976.000000      3.000000      1.000000            3.000000   \n",
       "\n",
       "         education        income  credit_score  vehicle_ownership  \\\n",
       "count  10000.00000  10000.000000  10000.000000       10000.000000   \n",
       "mean       0.97710      1.562200      0.515813           0.697000   \n",
       "std        0.89892      1.008084      0.130752           0.459578   \n",
       "min        0.00000      0.000000      0.053358           0.000000   \n",
       "25%        0.00000      1.000000      0.431509           0.000000   \n",
       "50%        1.00000      2.000000      0.515813           1.000000   \n",
       "75%        2.00000      2.000000      0.607607           1.000000   \n",
       "max        2.00000      3.000000      0.960819           1.000000   \n",
       "\n",
       "       vehicle_year       married      children   postal_code  annual_mileage  \\\n",
       "count  10000.000000  10000.000000  10000.000000  10000.000000    10000.000000   \n",
       "mean       0.696700      0.498200      0.688800  19864.548400    11697.003207   \n",
       "std        0.459707      0.500022      0.463008  18915.613855     2680.167384   \n",
       "min        0.000000      0.000000      0.000000  10238.000000     2000.000000   \n",
       "25%        0.000000      0.000000      0.000000  10238.000000    10000.000000   \n",
       "50%        1.000000      0.000000      1.000000  10238.000000    11697.003207   \n",
       "75%        1.000000      1.000000      1.000000  32765.000000    13000.000000   \n",
       "max        1.000000      1.000000      1.000000  92101.000000    22000.000000   \n",
       "\n",
       "       vehicle_type  speeding_violations         duis  past_accidents  \\\n",
       "count  10000.000000         10000.000000  10000.00000    10000.000000   \n",
       "mean       0.047700             1.482900      0.23920        1.056300   \n",
       "std        0.213141             2.241966      0.55499        1.652454   \n",
       "min        0.000000             0.000000      0.00000        0.000000   \n",
       "25%        0.000000             0.000000      0.00000        0.000000   \n",
       "50%        0.000000             0.000000      0.00000        0.000000   \n",
       "75%        0.000000             2.000000      0.00000        2.000000   \n",
       "max        1.000000            22.000000      6.00000       15.000000   \n",
       "\n",
       "            outcome  \n",
       "count  10000.000000  \n",
       "mean       0.313300  \n",
       "std        0.463858  \n",
       "min        0.000000  \n",
       "25%        0.000000  \n",
       "50%        0.000000  \n",
       "75%        1.000000  \n",
       "max        1.000000  "
      ]
     },
     "execution_count": 46,
     "metadata": {},
     "output_type": "execute_result"
    }
   ],
   "source": [
    "df.describe()"
   ]
  },
  {
   "cell_type": "code",
   "execution_count": 47,
   "id": "213606a5",
   "metadata": {},
   "outputs": [],
   "source": [
    "df.to_csv('../Modeling_Car_Insurance_Claim_Outcomes/transformed_car_insurance.csv', index=False)"
   ]
  },
  {
   "cell_type": "markdown",
   "id": "aa67489d-9cd8-4201-87dd-9319af23e9be",
   "metadata": {},
   "source": [
    "### Prepare for modeling"
   ]
  },
  {
   "cell_type": "code",
   "execution_count": 48,
   "id": "66077abc-529e-4fee-bb3d-657abd392c1c",
   "metadata": {
    "executionCancelledAt": null,
    "executionTime": 51,
    "lastExecutedAt": 1734556988206,
    "lastExecutedByKernel": "27be2f09-c527-46b8-8cc6-828205ba8bbe",
    "lastScheduledRunId": null,
    "lastSuccessfullyExecutedCode": "# Create a list to store the models\nmodels_list = []\n\n# Split df into features and target \nfeatures = df.iloc[:,1:-1]\ntarget = df.iloc[:,-1]",
    "outputsMetadata": {
     "0": {
      "height": 185,
      "type": "stream"
     }
    }
   },
   "outputs": [],
   "source": [
    "# Create a list to store the models\n",
    "models_list = []\n",
    "\n",
    "# Split df into features and target \n",
    "features = df.iloc[:,1:-1]\n",
    "target = df.iloc[:,-1]"
   ]
  },
  {
   "cell_type": "code",
   "execution_count": 49,
   "id": "97fbb7fb-8d8f-4c6a-9fb2-f45b2e468d82",
   "metadata": {
    "executionCancelledAt": null,
    "executionTime": 52,
    "lastExecutedAt": 1734556988259,
    "lastExecutedByKernel": "27be2f09-c527-46b8-8cc6-828205ba8bbe",
    "lastScheduledRunId": null,
    "lastSuccessfullyExecutedCode": "print(features.shape)\nprint(target.shape)",
    "outputsMetadata": {
     "0": {
      "height": 59,
      "type": "stream"
     }
    }
   },
   "outputs": [
    {
     "name": "stdout",
     "output_type": "stream",
     "text": [
      "(10000, 16)\n",
      "(10000,)\n"
     ]
    }
   ],
   "source": [
    "print(features.shape)\n",
    "print(target.shape)"
   ]
  },
  {
   "cell_type": "markdown",
   "id": "dbac3c8a-9c1a-44a5-aaf4-03871dde36ec",
   "metadata": {},
   "source": [
    "### Build and store models"
   ]
  },
  {
   "cell_type": "code",
   "execution_count": 50,
   "id": "8ca3a5b8-ee2e-4947-bf4e-1ddec18127a4",
   "metadata": {
    "executionCancelledAt": null,
    "executionTime": 132,
    "lastExecutedAt": 1734556988391,
    "lastExecutedByKernel": "27be2f09-c527-46b8-8cc6-828205ba8bbe",
    "lastScheduledRunId": null,
    "lastSuccessfullyExecutedCode": "from sklearn import linear_model\n\n# Create a list to store the models\nmodels = []\n\n# Loop through features and create Logistic Regression model\nfor col_name in features.columns:\n    regressor = linear_model.LogisticRegression()\n    col = features[[col_name]]\n    regressor.fit(col,target)\n    models.append(regressor)\n    print(f\"Built model for feature: {col_name}\")",
    "outputsMetadata": {
     "0": {
      "height": 353,
      "type": "stream"
     }
    }
   },
   "outputs": [
    {
     "name": "stdout",
     "output_type": "stream",
     "text": [
      "Built model for feature: age\n",
      "Built model for feature: gender\n",
      "Built model for feature: driving_experience\n",
      "Built model for feature: education\n",
      "Built model for feature: income\n",
      "Built model for feature: credit_score\n",
      "Built model for feature: vehicle_ownership\n",
      "Built model for feature: vehicle_year\n",
      "Built model for feature: married\n",
      "Built model for feature: children\n",
      "Built model for feature: postal_code\n",
      "Built model for feature: annual_mileage\n",
      "Built model for feature: vehicle_type\n",
      "Built model for feature: speeding_violations\n",
      "Built model for feature: duis\n",
      "Built model for feature: past_accidents\n"
     ]
    }
   ],
   "source": [
    "from sklearn import linear_model\n",
    "\n",
    "# Create a list to store the models\n",
    "models = []\n",
    "\n",
    "# Loop through features and create Logistic Regression model\n",
    "for col_name in features.columns:\n",
    "    regressor = linear_model.LogisticRegression()\n",
    "    col = features[[col_name]]\n",
    "    regressor.fit(col,target)\n",
    "    models.append(regressor)\n",
    "    print(f\"Built model for feature: {col_name}\")"
   ]
  },
  {
   "cell_type": "markdown",
   "id": "e2cc6be5-2b37-4d49-8034-0367f68ac0cf",
   "metadata": {},
   "source": [
    "### Measure performance"
   ]
  },
  {
   "cell_type": "code",
   "execution_count": 51,
   "id": "5337c1c3-cf6c-4044-9575-8e6c0c1ed482",
   "metadata": {
    "executionCancelledAt": null,
    "executionTime": 123,
    "lastExecutedAt": 1734556988514,
    "lastExecutedByKernel": "27be2f09-c527-46b8-8cc6-828205ba8bbe",
    "lastScheduledRunId": null,
    "lastSuccessfullyExecutedCode": "from sklearn.metrics import confusion_matrix\n\n# Create a list to store individual metrics of each model\nmetrics = []\n\n# Create a list to store model accuracies\naccuracies = []\n\n# Loop through the index of the models list\nfor i in range(len(models)):\n    \n    # Get col name for prediction\n    col = features.iloc[:, i].values.reshape(-1, 1)\n    # print(col)\n    \n    # Predict using the i-th model\n    predictions = models[i].predict(col)\n    \n    # Create a confusion matrix and store individual metrics\n    conf_matrix = confusion_matrix(target, predictions)\n    # print(conf_matrix)\n    \n    # Find and store TN, TP, FN, FP from conf_matrix\n    TN = conf_matrix[0,0]\n    FP = conf_matrix[0,1]\n    FN = conf_matrix[1,0]\n    TP = conf_matrix[1,1]\n    \n    metrics.append({    \n        'TN': TN,\n        'FP': FP,\n        'FN': FN,\n        'TP': TP\n    })\n        \n    # Calculate accuracy and store the model's results\n    accuracy = (TP + TN) / (TN + FP + FN + TP)\n    # print(accuracy)\n    accuracies.append(accuracy)\n\nprint(accuracies)",
    "outputsMetadata": {
     "0": {
      "height": 38,
      "type": "stream"
     }
    }
   },
   "outputs": [
    {
     "name": "stdout",
     "output_type": "stream",
     "text": [
      "[0.7747, 0.6867, 0.7771, 0.6867, 0.6867, 0.7049, 0.7351, 0.6867, 0.6867, 0.6867, 0.6867, 0.6904, 0.6867, 0.6867, 0.6867, 0.6867]\n"
     ]
    },
    {
     "name": "stderr",
     "output_type": "stream",
     "text": [
      "c:\\Users\\xnoor\\AppData\\Local\\Programs\\Python\\Python312\\Lib\\site-packages\\sklearn\\base.py:493: UserWarning: X does not have valid feature names, but LogisticRegression was fitted with feature names\n",
      "  warnings.warn(\n",
      "c:\\Users\\xnoor\\AppData\\Local\\Programs\\Python\\Python312\\Lib\\site-packages\\sklearn\\base.py:493: UserWarning: X does not have valid feature names, but LogisticRegression was fitted with feature names\n",
      "  warnings.warn(\n",
      "c:\\Users\\xnoor\\AppData\\Local\\Programs\\Python\\Python312\\Lib\\site-packages\\sklearn\\base.py:493: UserWarning: X does not have valid feature names, but LogisticRegression was fitted with feature names\n",
      "  warnings.warn(\n",
      "c:\\Users\\xnoor\\AppData\\Local\\Programs\\Python\\Python312\\Lib\\site-packages\\sklearn\\base.py:493: UserWarning: X does not have valid feature names, but LogisticRegression was fitted with feature names\n",
      "  warnings.warn(\n",
      "c:\\Users\\xnoor\\AppData\\Local\\Programs\\Python\\Python312\\Lib\\site-packages\\sklearn\\base.py:493: UserWarning: X does not have valid feature names, but LogisticRegression was fitted with feature names\n",
      "  warnings.warn(\n",
      "c:\\Users\\xnoor\\AppData\\Local\\Programs\\Python\\Python312\\Lib\\site-packages\\sklearn\\base.py:493: UserWarning: X does not have valid feature names, but LogisticRegression was fitted with feature names\n",
      "  warnings.warn(\n",
      "c:\\Users\\xnoor\\AppData\\Local\\Programs\\Python\\Python312\\Lib\\site-packages\\sklearn\\base.py:493: UserWarning: X does not have valid feature names, but LogisticRegression was fitted with feature names\n",
      "  warnings.warn(\n",
      "c:\\Users\\xnoor\\AppData\\Local\\Programs\\Python\\Python312\\Lib\\site-packages\\sklearn\\base.py:493: UserWarning: X does not have valid feature names, but LogisticRegression was fitted with feature names\n",
      "  warnings.warn(\n",
      "c:\\Users\\xnoor\\AppData\\Local\\Programs\\Python\\Python312\\Lib\\site-packages\\sklearn\\base.py:493: UserWarning: X does not have valid feature names, but LogisticRegression was fitted with feature names\n",
      "  warnings.warn(\n",
      "c:\\Users\\xnoor\\AppData\\Local\\Programs\\Python\\Python312\\Lib\\site-packages\\sklearn\\base.py:493: UserWarning: X does not have valid feature names, but LogisticRegression was fitted with feature names\n",
      "  warnings.warn(\n",
      "c:\\Users\\xnoor\\AppData\\Local\\Programs\\Python\\Python312\\Lib\\site-packages\\sklearn\\base.py:493: UserWarning: X does not have valid feature names, but LogisticRegression was fitted with feature names\n",
      "  warnings.warn(\n",
      "c:\\Users\\xnoor\\AppData\\Local\\Programs\\Python\\Python312\\Lib\\site-packages\\sklearn\\base.py:493: UserWarning: X does not have valid feature names, but LogisticRegression was fitted with feature names\n",
      "  warnings.warn(\n",
      "c:\\Users\\xnoor\\AppData\\Local\\Programs\\Python\\Python312\\Lib\\site-packages\\sklearn\\base.py:493: UserWarning: X does not have valid feature names, but LogisticRegression was fitted with feature names\n",
      "  warnings.warn(\n",
      "c:\\Users\\xnoor\\AppData\\Local\\Programs\\Python\\Python312\\Lib\\site-packages\\sklearn\\base.py:493: UserWarning: X does not have valid feature names, but LogisticRegression was fitted with feature names\n",
      "  warnings.warn(\n",
      "c:\\Users\\xnoor\\AppData\\Local\\Programs\\Python\\Python312\\Lib\\site-packages\\sklearn\\base.py:493: UserWarning: X does not have valid feature names, but LogisticRegression was fitted with feature names\n",
      "  warnings.warn(\n",
      "c:\\Users\\xnoor\\AppData\\Local\\Programs\\Python\\Python312\\Lib\\site-packages\\sklearn\\base.py:493: UserWarning: X does not have valid feature names, but LogisticRegression was fitted with feature names\n",
      "  warnings.warn(\n"
     ]
    }
   ],
   "source": [
    "from sklearn.metrics import confusion_matrix\n",
    "\n",
    "# Create a list to store individual metrics of each model\n",
    "metrics = []\n",
    "\n",
    "# Create a list to store model accuracies\n",
    "accuracies = []\n",
    "\n",
    "# Loop through the index of the models list\n",
    "for i in range(len(models)):\n",
    "    \n",
    "    # Get col name for prediction\n",
    "    col = features.iloc[:, i].values.reshape(-1, 1)\n",
    "    # print(col)\n",
    "    \n",
    "    # Predict using the i-th model\n",
    "    predictions = models[i].predict(col)\n",
    "    \n",
    "    # Create a confusion matrix and store individual metrics\n",
    "    conf_matrix = confusion_matrix(target, predictions)\n",
    "    # print(conf_matrix)\n",
    "    \n",
    "    # Find and store TN, TP, FN, FP from conf_matrix\n",
    "    TN = conf_matrix[0,0]\n",
    "    FP = conf_matrix[0,1]\n",
    "    FN = conf_matrix[1,0]\n",
    "    TP = conf_matrix[1,1]\n",
    "    \n",
    "    metrics.append({    \n",
    "        'TN': TN,\n",
    "        'FP': FP,\n",
    "        'FN': FN,\n",
    "        'TP': TP\n",
    "    })\n",
    "        \n",
    "    # Calculate accuracy and store the model's results\n",
    "    accuracy = (TP + TN) / (TN + FP + FN + TP)\n",
    "    # print(accuracy)\n",
    "    accuracies.append(accuracy)\n",
    "\n",
    "print(accuracies)"
   ]
  },
  {
   "cell_type": "markdown",
   "id": "136962c7-08b9-42bf-90c7-ece35ddd7ce2",
   "metadata": {},
   "source": [
    "### Find the best performing model"
   ]
  },
  {
   "cell_type": "code",
   "execution_count": 52,
   "id": "faf9c61a-e3eb-4b45-9530-393f7f086bb7",
   "metadata": {
    "executionCancelledAt": null,
    "executionTime": 48,
    "lastExecutedAt": 1734556988562,
    "lastExecutedByKernel": "27be2f09-c527-46b8-8cc6-828205ba8bbe",
    "lastScheduledRunId": null,
    "lastSuccessfullyExecutedCode": "# Find the largest accuracy score\nbest_accuracy = max(accuracies)\nprint(best_accuracy)\n\n# Identify the index of accuracies with the largest score\nbest_model_index = accuracies.index(best_accuracy)\nprint(best_model_index)\n\n# Map the highest accuracy to the feature\nbest_feature = features.columns[best_model_index]\nprint(best_feature)",
    "outputsMetadata": {
     "0": {
      "height": 59,
      "type": "stream"
     }
    }
   },
   "outputs": [
    {
     "name": "stdout",
     "output_type": "stream",
     "text": [
      "0.7771\n",
      "2\n",
      "driving_experience\n"
     ]
    }
   ],
   "source": [
    "# Find the largest accuracy score\n",
    "best_accuracy = max(accuracies)\n",
    "print(best_accuracy)\n",
    "\n",
    "# Identify the index of accuracies with the largest score\n",
    "best_model_index = accuracies.index(best_accuracy)\n",
    "print(best_model_index)\n",
    "\n",
    "# Map the highest accuracy to the feature\n",
    "best_feature = features.columns[best_model_index]\n",
    "print(best_feature)"
   ]
  },
  {
   "cell_type": "code",
   "execution_count": 53,
   "id": "06a0995b-4bb4-4e38-af50-a409078ec8f2",
   "metadata": {
    "executionCancelledAt": null,
    "executionTime": 53,
    "lastExecutedAt": 1734556988615,
    "lastExecutedByKernel": "27be2f09-c527-46b8-8cc6-828205ba8bbe",
    "lastScheduledRunId": null,
    "lastSuccessfullyExecutedCode": "# Create a dataframe containing best_feature and best_accuracy\nbest_feature_df = pd.DataFrame({\n    'best_feature': [best_feature],\n    'best_accuracy': [best_accuracy]\n})\n\nprint(best_feature_df)",
    "outputsMetadata": {
     "0": {
      "height": 59,
      "type": "stream"
     }
    }
   },
   "outputs": [
    {
     "name": "stdout",
     "output_type": "stream",
     "text": [
      "         best_feature  best_accuracy\n",
      "0  driving_experience         0.7771\n"
     ]
    }
   ],
   "source": [
    "# Create a dataframe containing best_feature and best_accuracy\n",
    "best_feature_df = pd.DataFrame({\n",
    "    'best_feature': [best_feature],\n",
    "    'best_accuracy': [best_accuracy]\n",
    "})\n",
    "\n",
    "print(best_feature_df)"
   ]
  }
 ],
 "metadata": {
  "editor": "DataLab",
  "kernelspec": {
   "display_name": "Python 3",
   "language": "python",
   "name": "python3"
  },
  "language_info": {
   "codemirror_mode": {
    "name": "ipython",
    "version": 3
   },
   "file_extension": ".py",
   "mimetype": "text/x-python",
   "name": "python",
   "nbconvert_exporter": "python",
   "pygments_lexer": "ipython3",
   "version": "3.12.7"
  }
 },
 "nbformat": 4,
 "nbformat_minor": 5
}
