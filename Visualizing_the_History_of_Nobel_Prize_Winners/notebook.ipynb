{
 "cells": [
  {
   "cell_type": "markdown",
   "id": "db5bd2ce-918a-4f7d-a927-a3ea74c4b456",
   "metadata": {},
   "source": [
    "The Nobel Prize has been among the most prestigious international awards since 1901. Each year, awards are bestowed in chemistry, literature, physics, physiology or medicine, economics, and peace. In addition to the honor, prestige, and substantial prize money, the recipient also gets a gold medal with an image of Alfred Nobel (1833 - 1896), who established the prize.\n",
    "\n",
    "The Nobel Foundation has made a dataset available of all prize winners from the outset of the awards from 1901 to 2023. The dataset used in this project is from the Nobel Prize API and is available in the `nobel.csv` file in the `data` folder.\n",
    "\n",
    "In this project, you'll get a chance to explore and answer several questions related to this prizewinning data. And we encourage you then to explore further questions that you're interested in!"
   ]
  },
  {
   "cell_type": "code",
   "execution_count": 2,
   "id": "11fd5946-7bd1-495c-aa7f-ff6e7e4a350b",
   "metadata": {
    "executionCancelledAt": null,
    "executionTime": 47,
    "lastExecutedAt": 1729822927313,
    "lastExecutedByKernel": "f5e520be-df9e-4e10-8888-cedfba4dced3",
    "lastScheduledRunId": null,
    "lastSuccessfullyExecutedCode": "# Loading in required libraries\nimport pandas as pd\nimport seaborn as sns\nimport numpy as np\n\n# Start coding here\n# Load the dataset\ndf = pd.read_csv('data/nobel.csv')\n\n# Display the dataframe information\nprint(df.head())",
    "outputsMetadata": {
     "0": {
      "height": 185,
      "type": "stream"
     }
    }
   },
   "outputs": [
    {
     "name": "stdout",
     "output_type": "stream",
     "text": [
      "   year    category                                           prize  \\\n",
      "0  1901   Chemistry               The Nobel Prize in Chemistry 1901   \n",
      "1  1901  Literature              The Nobel Prize in Literature 1901   \n",
      "2  1901    Medicine  The Nobel Prize in Physiology or Medicine 1901   \n",
      "3  1901       Peace                      The Nobel Peace Prize 1901   \n",
      "4  1901       Peace                      The Nobel Peace Prize 1901   \n",
      "\n",
      "                                          motivation prize_share  laureate_id  \\\n",
      "0  \"in recognition of the extraordinary services ...         1/1          160   \n",
      "1  \"in special recognition of his poetic composit...         1/1          569   \n",
      "2  \"for his work on serum therapy, especially its...         1/1          293   \n",
      "3                                                NaN         1/2          462   \n",
      "4                                                NaN         1/2          463   \n",
      "\n",
      "  laureate_type                     full_name  birth_date         birth_city  \\\n",
      "0    Individual  Jacobus Henricus van 't Hoff  1852-08-30          Rotterdam   \n",
      "1    Individual               Sully Prudhomme  1839-03-16              Paris   \n",
      "2    Individual        Emil Adolf von Behring  1854-03-15  Hansdorf (Lawice)   \n",
      "3    Individual             Jean Henry Dunant  1828-05-08             Geneva   \n",
      "4    Individual                Frédéric Passy  1822-05-20              Paris   \n",
      "\n",
      "      birth_country   sex   organization_name organization_city  \\\n",
      "0       Netherlands  Male   Berlin University            Berlin   \n",
      "1            France  Male                 NaN               NaN   \n",
      "2  Prussia (Poland)  Male  Marburg University           Marburg   \n",
      "3       Switzerland  Male                 NaN               NaN   \n",
      "4            France  Male                 NaN               NaN   \n",
      "\n",
      "  organization_country  death_date death_city death_country  \n",
      "0              Germany  1911-03-01     Berlin       Germany  \n",
      "1                  NaN  1907-09-07   Châtenay        France  \n",
      "2              Germany  1917-03-31    Marburg       Germany  \n",
      "3                  NaN  1910-10-30     Heiden   Switzerland  \n",
      "4                  NaN  1912-06-12      Paris        France  \n"
     ]
    }
   ],
   "source": [
    "# Loading in required libraries\n",
    "import pandas as pd\n",
    "import seaborn as sns\n",
    "import numpy as np\n",
    "\n",
    "# Start coding here\n",
    "# Load the dataset\n",
    "df = pd.read_csv('data/nobel.csv')\n",
    "\n",
    "# Display the dataframe information\n",
    "print(df.head())"
   ]
  },
  {
   "cell_type": "code",
   "execution_count": 3,
   "id": "be6a245c-ec4f-4094-9bf2-05e5b1bbf857",
   "metadata": {
    "executionCancelledAt": null,
    "executionTime": 58,
    "lastExecutedAt": 1729822927371,
    "lastExecutedByKernel": "f5e520be-df9e-4e10-8888-cedfba4dced3",
    "lastScheduledRunId": null,
    "lastSuccessfullyExecutedCode": "# Inspect data overview\nprint(df.info())\n\n# Summary statistics for numerical columns\nprint(df.describe().transpose())\n\n# Summary statistics for categorical columns\nprint(df.describe(include='object').transpose())",
    "outputsMetadata": {
     "0": {
      "height": 616,
      "type": "stream"
     }
    }
   },
   "outputs": [
    {
     "name": "stdout",
     "output_type": "stream",
     "text": [
      "<class 'pandas.core.frame.DataFrame'>\n",
      "RangeIndex: 1000 entries, 0 to 999\n",
      "Data columns (total 18 columns):\n",
      " #   Column                Non-Null Count  Dtype \n",
      "---  ------                --------------  ----- \n",
      " 0   year                  1000 non-null   int64 \n",
      " 1   category              1000 non-null   object\n",
      " 2   prize                 1000 non-null   object\n",
      " 3   motivation            912 non-null    object\n",
      " 4   prize_share           1000 non-null   object\n",
      " 5   laureate_id           1000 non-null   int64 \n",
      " 6   laureate_type         1000 non-null   object\n",
      " 7   full_name             1000 non-null   object\n",
      " 8   birth_date            968 non-null    object\n",
      " 9   birth_city            964 non-null    object\n",
      " 10  birth_country         969 non-null    object\n",
      " 11  sex                   970 non-null    object\n",
      " 12  organization_name     736 non-null    object\n",
      " 13  organization_city     735 non-null    object\n",
      " 14  organization_country  735 non-null    object\n",
      " 15  death_date            596 non-null    object\n",
      " 16  death_city            579 non-null    object\n",
      " 17  death_country         585 non-null    object\n",
      "dtypes: int64(2), object(16)\n",
      "memory usage: 140.8+ KB\n",
      "None\n",
      "              count      mean         std     min      25%     50%      75%  \\\n",
      "year         1000.0  1973.721   34.523195  1901.0  1949.75  1979.0  2003.00   \n",
      "laureate_id  1000.0   509.099  298.130617     1.0   250.75   500.5   764.25   \n",
      "\n",
      "                max  \n",
      "year         2023.0  \n",
      "laureate_id  1034.0  \n",
      "                     count unique  \\\n",
      "category              1000      6   \n",
      "prize                 1000    621   \n",
      "motivation             912    615   \n",
      "prize_share           1000      4   \n",
      "laureate_type         1000      2   \n",
      "full_name             1000    993   \n",
      "birth_date             968    949   \n",
      "birth_city             964    649   \n",
      "birth_country          969    129   \n",
      "sex                    970      2   \n",
      "organization_name      736    325   \n",
      "organization_city      735    195   \n",
      "organization_country   735     29   \n",
      "death_date             596    585   \n",
      "death_city             579    293   \n",
      "death_country          585     50   \n",
      "\n",
      "                                                                    top freq  \n",
      "category                                                       Medicine  227  \n",
      "prize                                 The Nobel Prize in Chemistry 1972    3  \n",
      "motivation            \"for their studies of extremely fast chemical ...    3  \n",
      "prize_share                                                         1/1  358  \n",
      "laureate_type                                                Individual  966  \n",
      "full_name             Comité international de la Croix Rouge (Intern...    3  \n",
      "birth_date                                                   1932-10-24    2  \n",
      "birth_city                                                 New York, NY   55  \n",
      "birth_country                                  United States of America  291  \n",
      "sex                                                                Male  905  \n",
      "organization_name                              University of California   36  \n",
      "organization_city                                         Cambridge, MA   53  \n",
      "organization_country                           United States of America  385  \n",
      "death_date                                                   2013-11-19    2  \n",
      "death_city                                                        Paris   27  \n",
      "death_country                                  United States of America  206  \n"
     ]
    }
   ],
   "source": [
    "# Inspect data overview\n",
    "print(df.info())\n",
    "\n",
    "# Summary statistics for numerical columns\n",
    "print(df.describe().transpose())\n",
    "\n",
    "# Summary statistics for categorical columns\n",
    "print(df.describe(include='object').transpose())"
   ]
  },
  {
   "cell_type": "code",
   "execution_count": 4,
   "id": "6cbe816b-c913-47ab-9922-8bbf1a5a7321",
   "metadata": {
    "executionCancelledAt": null,
    "executionTime": 50,
    "lastExecutedAt": 1729822927421,
    "lastExecutedByKernel": "f5e520be-df9e-4e10-8888-cedfba4dced3",
    "lastScheduledRunId": null,
    "lastSuccessfullyExecutedCode": "# Handle missing values of categorical columns\n\n# Define the columns to replace missing values\ncolumns_to_fill = ['motivation', 'birth_city', 'birth_country', 'sex', \n                   'organization_name', 'organization_city', 'organization_country',\n                   'death_city', 'death_country']\n\n# Replace missing values with 'Unknown' for each column\ndf[columns_to_fill] = df[columns_to_fill].fillna('Unknown')\n\n# Verify that there are no more missing values\nprint(df[columns_to_fill].isna().sum())",
    "outputsMetadata": {
     "0": {
      "height": 227,
      "type": "stream"
     }
    }
   },
   "outputs": [
    {
     "name": "stdout",
     "output_type": "stream",
     "text": [
      "motivation              0\n",
      "birth_city              0\n",
      "birth_country           0\n",
      "sex                     0\n",
      "organization_name       0\n",
      "organization_city       0\n",
      "organization_country    0\n",
      "death_city              0\n",
      "death_country           0\n",
      "dtype: int64\n"
     ]
    }
   ],
   "source": [
    "# Handle missing values of categorical columns\n",
    "\n",
    "# Define the columns to replace missing values\n",
    "columns_to_fill = ['motivation', 'birth_city', 'birth_country', 'sex', \n",
    "                   'organization_name', 'organization_city', 'organization_country',\n",
    "                   'death_city', 'death_country']\n",
    "\n",
    "# Replace missing values with 'Unknown' for each column\n",
    "df[columns_to_fill] = df[columns_to_fill].fillna('Unknown')\n",
    "\n",
    "# Verify that there are no more missing values\n",
    "print(df[columns_to_fill].isna().sum())"
   ]
  },
  {
   "cell_type": "markdown",
   "id": "76cc3ff1",
   "metadata": {},
   "source": [
    "### Question 1: \n",
    "\n",
    "What is the most commonly awarded gender and birth country?\n",
    "\n",
    "* Store your answers as string variables top_gender and top_country."
   ]
  },
  {
   "cell_type": "code",
   "execution_count": 5,
   "id": "e8cc3a90-664b-4ea8-adcd-35f77d10c566",
   "metadata": {
    "executionCancelledAt": null,
    "executionTime": 52,
    "lastExecutedAt": 1729822927473,
    "lastExecutedByKernel": "f5e520be-df9e-4e10-8888-cedfba4dced3",
    "lastScheduledRunId": null,
    "lastSuccessfullyExecutedCode": "# Count the awards by gender\ncount_by_gender = df['sex'].value_counts()\n\n# Count the awards by birth_country\ncount_by_country = df['birth_country'].value_counts()\n\n# Store the results as string variables\ntop_gender = count_by_gender.idxmax()\ntop_country = count_by_country.idxmax()\n\n# Print the most commonly awarded gender and birth country\nprint(\"The most commonly awarded gender is:\", top_gender)\nprint(\"The most commonly awarded birth country is:\",top_country)",
    "outputsMetadata": {
     "0": {
      "height": 59,
      "type": "stream"
     }
    }
   },
   "outputs": [
    {
     "name": "stdout",
     "output_type": "stream",
     "text": [
      "The most commonly awarded gender is: Male\n",
      "The most commonly awarded birth country is: United States of America\n"
     ]
    }
   ],
   "source": [
    "# Count the awards by gender\n",
    "count_by_gender = df['sex'].value_counts()\n",
    "\n",
    "# Count the awards by birth_country\n",
    "count_by_country = df['birth_country'].value_counts()\n",
    "\n",
    "# Store the results as string variables\n",
    "top_gender = count_by_gender.idxmax()\n",
    "top_country = count_by_country.idxmax()\n",
    "\n",
    "# Print the most commonly awarded gender and birth country\n",
    "print(\"The most commonly awarded gender is:\", top_gender)\n",
    "print(\"The most commonly awarded birth country is:\",top_country)"
   ]
  },
  {
   "cell_type": "markdown",
   "id": "0275e3ba",
   "metadata": {},
   "source": [
    "Answer: **Male** is the most commonly awarded gender and **United States of America** is the most common birth country."
   ]
  },
  {
   "cell_type": "markdown",
   "id": "c162059d",
   "metadata": {},
   "source": [
    "### Question 2: \n",
    "\n",
    "Which decade had the highest ratio of US-born Nobel Prize winners to total winners in all categories?\n",
    "\n",
    "* Store this as an integer called max_decade_usa."
   ]
  },
  {
   "cell_type": "code",
   "execution_count": 6,
   "id": "634f70dc-cc50-46d0-a1a9-5a0c0c42f58a",
   "metadata": {
    "executionCancelledAt": null,
    "executionTime": 62,
    "lastExecutedAt": 1729822927535,
    "lastExecutedByKernel": "f5e520be-df9e-4e10-8888-cedfba4dced3",
    "lastScheduledRunId": null,
    "lastSuccessfullyExecutedCode": "# Create 'us_born' column to check if birth_country is US\ndf['us_born'] = (df['birth_country'] == 'United States of America').astype(int)\n\n# Create 'decade' column from the 'year' column\ndf['decade'] = (df['year'] // 10) * 10\n\n# Group by decade and calculate the ratio of US-born winners to total winners\nratio_df = df.groupby('decade').agg(\n    total_winners=('laureate_id', 'count'),  # Count total winners\n    us_born_winners=('us_born', 'sum')    # Sum of US-born flags\n)\n\n# Calculate the ratio\nratio_df['us_to_total_ratio'] = ratio_df['us_born_winners'] / ratio_df['total_winners']\n\n# Identify the decade with the highest ratio\nmax_decade_usa = ratio_df['us_to_total_ratio'].idxmax()\nhighest_ratio_value = ratio_df['us_to_total_ratio'].max()\n\nprint(f'The decade with the highest ratio of US-born Nobel Prize winners to total winners is: {max_decade_usa}')\nprint(f'The highest ratio value is: {highest_ratio_value:.2f}')",
    "outputsMetadata": {
     "0": {
      "height": 80,
      "type": "stream"
     }
    }
   },
   "outputs": [
    {
     "name": "stdout",
     "output_type": "stream",
     "text": [
      "The decade with the highest ratio of US-born Nobel Prize winners to total winners is: 2000\n",
      "The highest ratio value is: 0.42\n"
     ]
    }
   ],
   "source": [
    "# Create 'us_born' column to check if birth_country is US\n",
    "df['us_born'] = (df['birth_country'] == 'United States of America').astype(int)\n",
    "\n",
    "# Create 'decade' column from the 'year' column\n",
    "df['decade'] = (df['year'] // 10) * 10\n",
    "\n",
    "# Group by decade and calculate the ratio of US-born winners to total winners\n",
    "ratio_df = df.groupby('decade').agg(\n",
    "    total_winners=('laureate_id', 'count'),  # Count total winners\n",
    "    us_born_winners=('us_born', 'sum')    # Sum of US-born flags\n",
    ")\n",
    "\n",
    "# Calculate the ratio\n",
    "ratio_df['us_to_total_ratio'] = ratio_df['us_born_winners'] / ratio_df['total_winners']\n",
    "\n",
    "# Identify the decade with the highest ratio\n",
    "max_decade_usa = ratio_df['us_to_total_ratio'].idxmax()\n",
    "highest_ratio_value = ratio_df['us_to_total_ratio'].max()\n",
    "\n",
    "print(f'The decade with the highest ratio of US-born Nobel Prize winners to total winners is: {max_decade_usa}')\n",
    "print(f'The highest ratio value is: {highest_ratio_value:.2f}')"
   ]
  },
  {
   "cell_type": "markdown",
   "id": "ced159c1",
   "metadata": {},
   "source": [
    "Answer: 2000 is the decade that had the highest ratio of US-born Nobel Prize winners to total winners in all categories."
   ]
  },
  {
   "cell_type": "markdown",
   "id": "4ee87e9c",
   "metadata": {},
   "source": [
    "### Question 3:\n",
    "\n",
    "Which decade and Nobel Prize category combination had the highest proportion of female laureates?\n",
    "\n",
    "* Store this as a dictionary called max_female_dict where the decade is the key and the category is the value. There should only be one key:value pair."
   ]
  },
  {
   "cell_type": "code",
   "execution_count": 9,
   "id": "f0c9980d",
   "metadata": {},
   "outputs": [],
   "source": [
    "# Create a flag for female winners\n",
    "df['is_female'] = (df['sex'] == 'Female').astype(int)\n",
    "\n",
    "# Create 'decade' column from the 'year' column (awarded year)\n",
    "df['decade'] = (df['year'] // 10) * 10"
   ]
  },
  {
   "cell_type": "code",
   "execution_count": 10,
   "id": "d581c285",
   "metadata": {},
   "outputs": [
    {
     "name": "stdout",
     "output_type": "stream",
     "text": [
      "<class 'pandas.core.frame.DataFrame'>\n",
      "RangeIndex: 72 entries, 0 to 71\n",
      "Data columns (total 4 columns):\n",
      " #   Column          Non-Null Count  Dtype \n",
      "---  ------          --------------  ----- \n",
      " 0   decade          72 non-null     int64 \n",
      " 1   category        72 non-null     object\n",
      " 2   total_winners   72 non-null     int64 \n",
      " 3   female_winners  72 non-null     int32 \n",
      "dtypes: int32(1), int64(2), object(1)\n",
      "memory usage: 2.1+ KB\n"
     ]
    }
   ],
   "source": [
    "# Group by 'decade' and 'category' to calculate total and female winners\n",
    "grouped_df = df.groupby(['decade', 'category']).agg(\n",
    "    total_winners=('laureate_id', 'count'),\n",
    "    female_winners=('is_female', 'sum')\n",
    ").reset_index()\n",
    "\n",
    "grouped_df.info()"
   ]
  },
  {
   "cell_type": "code",
   "execution_count": 11,
   "id": "7b60f949",
   "metadata": {},
   "outputs": [],
   "source": [
    "# Calculate the proportion of female winners\n",
    "grouped_df['female_ratio'] = grouped_df['female_winners'] / grouped_df['total_winners']"
   ]
  },
  {
   "cell_type": "code",
   "execution_count": 12,
   "id": "c47ce58f",
   "metadata": {},
   "outputs": [
    {
     "name": "stdout",
     "output_type": "stream",
     "text": [
      "decade                  2020\n",
      "category          Literature\n",
      "total_winners              4\n",
      "female_winners             2\n",
      "female_ratio             0.5\n",
      "Name: 68, dtype: object\n"
     ]
    }
   ],
   "source": [
    "# Find the decade and category with the highest proportion of female winners\n",
    "max_female = grouped_df.loc[grouped_df['female_ratio'].idxmax()]\n",
    "\n",
    "print(max_female)"
   ]
  },
  {
   "cell_type": "code",
   "execution_count": 13,
   "id": "5f0f5e4c",
   "metadata": {},
   "outputs": [],
   "source": [
    "# Create the dictionary\n",
    "max_female_dict = {max_female['decade']: max_female['category']}"
   ]
  },
  {
   "cell_type": "code",
   "execution_count": 14,
   "id": "a685d4aa",
   "metadata": {},
   "outputs": [
    {
     "data": {
      "text/plain": [
       "{2020: 'Literature'}"
      ]
     },
     "execution_count": 14,
     "metadata": {},
     "output_type": "execute_result"
    }
   ],
   "source": [
    "max_female_dict"
   ]
  },
  {
   "cell_type": "markdown",
   "id": "55ed64ba",
   "metadata": {},
   "source": [
    "Answer: '2000' decade and 'Literature\" had the highest proportion of female laureates."
   ]
  },
  {
   "cell_type": "markdown",
   "id": "b2ff44ed",
   "metadata": {},
   "source": [
    "### Question 4: \n",
    "\n",
    "Who was the first woman to receive a Nobel Prize, and in what category?\n",
    "\n",
    "Save your string answers as first_woman_name and first_woman_category."
   ]
  },
  {
   "cell_type": "code",
   "execution_count": 16,
   "id": "3a3cf55b",
   "metadata": {},
   "outputs": [
    {
     "name": "stdout",
     "output_type": "stream",
     "text": [
      "<class 'pandas.core.frame.DataFrame'>\n",
      "RangeIndex: 1000 entries, 0 to 999\n",
      "Data columns (total 21 columns):\n",
      " #   Column                Non-Null Count  Dtype \n",
      "---  ------                --------------  ----- \n",
      " 0   year                  1000 non-null   int64 \n",
      " 1   category              1000 non-null   object\n",
      " 2   prize                 1000 non-null   object\n",
      " 3   motivation            1000 non-null   object\n",
      " 4   prize_share           1000 non-null   object\n",
      " 5   laureate_id           1000 non-null   int64 \n",
      " 6   laureate_type         1000 non-null   object\n",
      " 7   full_name             1000 non-null   object\n",
      " 8   birth_date            968 non-null    object\n",
      " 9   birth_city            1000 non-null   object\n",
      " 10  birth_country         1000 non-null   object\n",
      " 11  sex                   1000 non-null   object\n",
      " 12  organization_name     1000 non-null   object\n",
      " 13  organization_city     1000 non-null   object\n",
      " 14  organization_country  1000 non-null   object\n",
      " 15  death_date            596 non-null    object\n",
      " 16  death_city            1000 non-null   object\n",
      " 17  death_country         1000 non-null   object\n",
      " 18  us_born               1000 non-null   int32 \n",
      " 19  decade                1000 non-null   int64 \n",
      " 20  is_female             1000 non-null   int32 \n",
      "dtypes: int32(2), int64(3), object(16)\n",
      "memory usage: 156.4+ KB\n"
     ]
    }
   ],
   "source": [
    "df.info()"
   ]
  },
  {
   "cell_type": "code",
   "execution_count": 20,
   "id": "401dfc2d",
   "metadata": {},
   "outputs": [
    {
     "name": "stdout",
     "output_type": "stream",
     "text": [
      "<class 'pandas.core.frame.DataFrame'>\n",
      "Index: 65 entries, 19 to 999\n",
      "Data columns (total 21 columns):\n",
      " #   Column                Non-Null Count  Dtype \n",
      "---  ------                --------------  ----- \n",
      " 0   year                  65 non-null     int64 \n",
      " 1   category              65 non-null     object\n",
      " 2   prize                 65 non-null     object\n",
      " 3   motivation            65 non-null     object\n",
      " 4   prize_share           65 non-null     object\n",
      " 5   laureate_id           65 non-null     int64 \n",
      " 6   laureate_type         65 non-null     object\n",
      " 7   full_name             65 non-null     object\n",
      " 8   birth_date            65 non-null     object\n",
      " 9   birth_city            65 non-null     object\n",
      " 10  birth_country         65 non-null     object\n",
      " 11  sex                   65 non-null     object\n",
      " 12  organization_name     65 non-null     object\n",
      " 13  organization_city     65 non-null     object\n",
      " 14  organization_country  65 non-null     object\n",
      " 15  death_date            27 non-null     object\n",
      " 16  death_city            65 non-null     object\n",
      " 17  death_country         65 non-null     object\n",
      " 18  us_born               65 non-null     int32 \n",
      " 19  decade                65 non-null     int64 \n",
      " 20  is_female             65 non-null     int32 \n",
      "dtypes: int32(2), int64(3), object(16)\n",
      "memory usage: 10.7+ KB\n"
     ]
    }
   ],
   "source": [
    "female_df = df[df['is_female'] == 1]\n",
    "\n",
    "female_df.info()"
   ]
  },
  {
   "cell_type": "code",
   "execution_count": 22,
   "id": "add76e45",
   "metadata": {},
   "outputs": [
    {
     "data": {
      "text/plain": [
       "19     1903\n",
       "29     1905\n",
       "51     1909\n",
       "62     1911\n",
       "128    1926\n",
       "       ... \n",
       "982    2022\n",
       "993    2023\n",
       "998    2023\n",
       "989    2023\n",
       "999    2023\n",
       "Name: year, Length: 65, dtype: int64"
      ]
     },
     "execution_count": 22,
     "metadata": {},
     "output_type": "execute_result"
    }
   ],
   "source": [
    "female_df['year'].sort_values(ascending=True)"
   ]
  },
  {
   "cell_type": "code",
   "execution_count": 23,
   "id": "bdb2c9eb",
   "metadata": {},
   "outputs": [
    {
     "data": {
      "text/plain": [
       "year                                                                 1903\n",
       "category                                                          Physics\n",
       "prize                                     The Nobel Prize in Physics 1903\n",
       "motivation              \"in recognition of the extraordinary services ...\n",
       "prize_share                                                           1/4\n",
       "laureate_id                                                             6\n",
       "laureate_type                                                  Individual\n",
       "full_name                                     Marie Curie, née Sklodowska\n",
       "birth_date                                                     1867-11-07\n",
       "birth_city                                                         Warsaw\n",
       "birth_country                                     Russian Empire (Poland)\n",
       "sex                                                                Female\n",
       "organization_name                                                 Unknown\n",
       "organization_city                                                 Unknown\n",
       "organization_country                                              Unknown\n",
       "death_date                                                     1934-07-04\n",
       "death_city                                                     Sallanches\n",
       "death_country                                                      France\n",
       "us_born                                                                 0\n",
       "decade                                                               1900\n",
       "is_female                                                               1\n",
       "Name: 19, dtype: object"
      ]
     },
     "execution_count": 23,
     "metadata": {},
     "output_type": "execute_result"
    }
   ],
   "source": [
    "# Filter the female_df to find the earliest year\n",
    "first_woman = female_df.loc[female_df['year'].idxmin()]\n",
    "\n",
    "first_woman"
   ]
  },
  {
   "cell_type": "code",
   "execution_count": 26,
   "id": "f2fff72d-3608-4f98-b0ce-a63ad2b3b3a9",
   "metadata": {
    "executionCancelledAt": null,
    "executionTime": 50,
    "lastExecutedAt": 1729822928161,
    "lastExecutedByKernel": "f5e520be-df9e-4e10-8888-cedfba4dced3",
    "lastScheduledRunId": null,
    "lastSuccessfullyExecutedCode": "# Filter the female_df to find the earliest year\nfirst_woman = female_df.loc[female_df['year'].idxmin()]\n\n# Retrieve the name and category of the first female winner\nfirst_woman_name = first_woman['full_name']\nfirst_woman_category = first_woman['category']\n\n# Print the result\nprint(f\"The first woman to receive a Nobel Prize was {first_woman_name}\")\nprint(f\"The corresponding category was {first_woman_category}\")",
    "outputsMetadata": {
     "0": {
      "height": 59,
      "type": "stream"
     }
    }
   },
   "outputs": [
    {
     "name": "stdout",
     "output_type": "stream",
     "text": [
      "Marie Curie, née Sklodowska\n",
      "Physics\n"
     ]
    }
   ],
   "source": [
    "# Retrieve the name and category of the first female winner\n",
    "first_woman_name = first_woman['full_name']\n",
    "first_woman_category = first_woman['category']\n",
    "\n",
    "print(first_woman_name)\n",
    "print(first_woman_category)"
   ]
  },
  {
   "cell_type": "markdown",
   "id": "f1a4ee1f",
   "metadata": {},
   "source": [
    "Answer: **Marie Curie, née Sklodowska** was the first woman to receive a Nobel Prize and in **Physics** category."
   ]
  },
  {
   "cell_type": "markdown",
   "id": "e48533c2",
   "metadata": {},
   "source": [
    "### Question 5:\n",
    "\n",
    "Which individuals or organizations have won more than one Nobel Prize throughout the years?\n",
    "\n",
    "Store the full names in a list named repeat_list."
   ]
  },
  {
   "cell_type": "code",
   "execution_count": 27,
   "id": "d63446fa-11b9-4db6-b381-e357af4b11de",
   "metadata": {
    "executionCancelledAt": null,
    "executionTime": 48,
    "lastExecutedAt": 1729822928209,
    "lastExecutedByKernel": "f5e520be-df9e-4e10-8888-cedfba4dced3",
    "lastScheduledRunId": null,
    "lastSuccessfullyExecutedCode": "# Count the occurrences of each laureate name\nlaureate_counts = df['full_name'].value_counts()\n\n# Filter for winners with counts of two or more\nrepeat_list = laureate_counts[laureate_counts >= 2].index.tolist()\n\n# Save as a list\nprint(\"Individuals or organizations that have won more than one Nobel Prize:\")\nfor name in repeat_list:\n    print(f\"- {name}\")",
    "outputsMetadata": {
     "0": {
      "height": 185,
      "type": "stream"
     }
    }
   },
   "outputs": [
    {
     "data": {
      "text/plain": [
       "full_name\n",
       "Comité international de la Croix Rouge (International Committee of the Red Cross)    3\n",
       "Linus Carl Pauling                                                                   2\n",
       "John Bardeen                                                                         2\n",
       "Frederick Sanger                                                                     2\n",
       "Marie Curie, née Sklodowska                                                          2\n",
       "                                                                                    ..\n",
       "Karl Ziegler                                                                         1\n",
       "Giulio Natta                                                                         1\n",
       "Giorgos Seferis                                                                      1\n",
       "Sir John Carew Eccles                                                                1\n",
       "Claudia Goldin                                                                       1\n",
       "Name: count, Length: 993, dtype: int64"
      ]
     },
     "execution_count": 27,
     "metadata": {},
     "output_type": "execute_result"
    }
   ],
   "source": [
    "# Count the occurrences of each laureate name\n",
    "laureate_counts = df['full_name'].value_counts()\n",
    "\n",
    "laureate_counts"
   ]
  },
  {
   "cell_type": "code",
   "execution_count": 29,
   "id": "d88ac4ce",
   "metadata": {},
   "outputs": [
    {
     "data": {
      "text/plain": [
       "full_name\n",
       "Comité international de la Croix Rouge (International Committee of the Red Cross)    3\n",
       "Linus Carl Pauling                                                                   2\n",
       "John Bardeen                                                                         2\n",
       "Frederick Sanger                                                                     2\n",
       "Marie Curie, née Sklodowska                                                          2\n",
       "Office of the United Nations High Commissioner for Refugees (UNHCR)                  2\n",
       "Name: count, dtype: int64"
      ]
     },
     "execution_count": 29,
     "metadata": {},
     "output_type": "execute_result"
    }
   ],
   "source": [
    "laureate_counts[laureate_counts >= 2]"
   ]
  },
  {
   "cell_type": "code",
   "execution_count": 32,
   "id": "65569066",
   "metadata": {},
   "outputs": [
    {
     "name": "stdout",
     "output_type": "stream",
     "text": [
      "Comité international de la Croix Rouge (International Committee of the Red Cross)\n",
      "Linus Carl Pauling\n",
      "John Bardeen\n",
      "Frederick Sanger\n",
      "Marie Curie, née Sklodowska\n",
      "Office of the United Nations High Commissioner for Refugees (UNHCR)\n"
     ]
    }
   ],
   "source": [
    "# Store the full names as list\n",
    "repeat_list = laureate_counts[laureate_counts >= 2].index.tolist()\n",
    "\n",
    "# Print\n",
    "for name in repeat_list:\n",
    "    print(f\"{name}\")"
   ]
  }
 ],
 "metadata": {
  "editor": "DataCamp Workspace",
  "kernelspec": {
   "display_name": "Python 3",
   "language": "python",
   "name": "python3"
  },
  "language_info": {
   "codemirror_mode": {
    "name": "ipython",
    "version": 3
   },
   "file_extension": ".py",
   "mimetype": "text/x-python",
   "name": "python",
   "nbconvert_exporter": "python",
   "pygments_lexer": "ipython3",
   "version": "3.12.7"
  }
 },
 "nbformat": 4,
 "nbformat_minor": 5
}
